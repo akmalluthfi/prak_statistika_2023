{
 "cells": [
  {
   "cell_type": "markdown",
   "id": "3e9d27f0-b8d5-4c11-a37e-04a7361a3fa4",
   "metadata": {},
   "source": [
    "# Materi Statistik Dasar Dengan Python (SDT02)\n",
    "### Latihan menggunakan pickle dulu"
   ]
  },
  {
   "cell_type": "code",
   "execution_count": 1,
   "id": "3128ac4a-5416-4917-9e88-8f6f52f8a09c",
   "metadata": {},
   "outputs": [
    {
     "data": {
      "text/plain": [
       "(['Minyak', 'Gula', 'Kecap', 'Sabun', 'Sampho', 'Beras', 'Kacang', 'Telur'],\n",
       " [12, 14, 6, 17, 8, 15, 10, 11])"
      ]
     },
     "execution_count": 1,
     "metadata": {},
     "output_type": "execute_result"
    }
   ],
   "source": [
    "import pandas as pd\n",
    "import pickle\n",
    "file_data = 'omzet.data'\n",
    "# Data nama produk dan omzet\n",
    "dt_omzet = (['Minyak','Gula','Kecap','Sabun','Sampho','Beras','Kacang','Telur'],[12,14,6,17,8,15,10,11])\n",
    "# Menulis data\n",
    "f = open(file_data, 'wb')\n",
    "# Simpan data nama kebutuhan ke dalam file dengan perintah dump\n",
    "pickle.dump(dt_omzet, f)\n",
    "f.close() \n",
    "dt_omzet"
   ]
  },
  {
   "cell_type": "markdown",
   "id": "38245a47-9f15-4277-b57b-3e8523ff5ecc",
   "metadata": {},
   "source": [
    "# latihan input output file menggunakan pickle"
   ]
  },
  {
   "cell_type": "code",
   "execution_count": 2,
   "id": "956abce9-ed51-484a-9ffe-734674b877af",
   "metadata": {},
   "outputs": [
    {
     "name": "stdout",
     "output_type": "stream",
     "text": [
      "(['Minyak', 'Gula', 'Kecap', 'Sabun', 'Sampho', 'Beras', 'Kacang', 'Telur'], [12, 14, 6, 17, 8, 15, 10, 11])\n"
     ]
    },
    {
     "data": {
      "text/html": [
       "<div>\n",
       "<style scoped>\n",
       "    .dataframe tbody tr th:only-of-type {\n",
       "        vertical-align: middle;\n",
       "    }\n",
       "\n",
       "    .dataframe tbody tr th {\n",
       "        vertical-align: top;\n",
       "    }\n",
       "\n",
       "    .dataframe thead th {\n",
       "        text-align: right;\n",
       "    }\n",
       "</style>\n",
       "<table border=\"1\" class=\"dataframe\">\n",
       "  <thead>\n",
       "    <tr style=\"text-align: right;\">\n",
       "      <th></th>\n",
       "      <th>0</th>\n",
       "      <th>1</th>\n",
       "      <th>2</th>\n",
       "      <th>3</th>\n",
       "      <th>4</th>\n",
       "      <th>5</th>\n",
       "      <th>6</th>\n",
       "      <th>7</th>\n",
       "    </tr>\n",
       "  </thead>\n",
       "  <tbody>\n",
       "    <tr>\n",
       "      <th>0</th>\n",
       "      <td>Minyak</td>\n",
       "      <td>Gula</td>\n",
       "      <td>Kecap</td>\n",
       "      <td>Sabun</td>\n",
       "      <td>Sampho</td>\n",
       "      <td>Beras</td>\n",
       "      <td>Kacang</td>\n",
       "      <td>Telur</td>\n",
       "    </tr>\n",
       "    <tr>\n",
       "      <th>1</th>\n",
       "      <td>12</td>\n",
       "      <td>14</td>\n",
       "      <td>6</td>\n",
       "      <td>17</td>\n",
       "      <td>8</td>\n",
       "      <td>15</td>\n",
       "      <td>10</td>\n",
       "      <td>11</td>\n",
       "    </tr>\n",
       "  </tbody>\n",
       "</table>\n",
       "</div>"
      ],
      "text/plain": [
       "        0     1      2      3       4      5       6      7\n",
       "0  Minyak  Gula  Kecap  Sabun  Sampho  Beras  Kacang  Telur\n",
       "1      12    14      6     17       8     15      10     11"
      ]
     },
     "execution_count": 2,
     "metadata": {},
     "output_type": "execute_result"
    }
   ],
   "source": [
    "import pickle\n",
    "import pandas as pd\n",
    "fdata = 'omzet.data'\n",
    "f = open(fdata, 'rb')# buka file omzet.data\n",
    "omzet = pickle.load(f) #load file\n",
    "f.close()\n",
    "print(omzet)\n",
    "df=pd.DataFrame(omzet)\n",
    "df"
   ]
  },
  {
   "cell_type": "markdown",
   "id": "930c6ac2-1de3-4e2e-b4fd-7ee4d8d30654",
   "metadata": {},
   "source": [
    "# EDA \n",
    "# Import Software Library"
   ]
  },
  {
   "cell_type": "code",
   "execution_count": 3,
   "id": "0908e4bc-04b9-412d-8d0c-7075f85de2f9",
   "metadata": {},
   "outputs": [
    {
     "name": "stdout",
     "output_type": "stream",
     "text": [
      "Libraries used in project\n",
      "_Pandas1.2.4\n",
      "_Numpy1.20.2\n",
      "_Scipy1.9.2\n",
      "_Matplotlib3.3.4\n",
      "_Seaborn0.11.1\n",
      "_Scikit-Learn0.24.1\n",
      "_Category Encoders2.3.0\n"
     ]
    }
   ],
   "source": [
    "#Read parameter system\n",
    "import sys\n",
    "\n",
    "import numpy as np\n",
    "import pandas as pd\n",
    "import scipy as sp\n",
    "from scipy import stats\n",
    "import matplotlib\n",
    "import matplotlib.pyplot as plt\n",
    "import seaborn as sns\n",
    "import sklearn\n",
    "from sklearn.preprocessing import StandardScaler\n",
    "from sklearn.decomposition import PCA\n",
    "\n",
    "#Encoding data\n",
    "import category_encoders as ce\n",
    "import warnings\n",
    "\n",
    "#Summarized Software libraries used\n",
    "print ('Libraries used in project')\n",
    "print('_Pandas{}'.format(pd.__version__))\n",
    "print('_Numpy{}'.format(np.__version__))\n",
    "print('_Scipy{}'.format(sp.__version__))\n",
    "print('_Matplotlib{}'.format(matplotlib.__version__))\n",
    "print('_Seaborn{}'.format(sns.__version__))\n",
    "print('_Scikit-Learn{}'.format(sklearn.__version__))\n",
    "print('_Category Encoders{}'.format(ce.__version__))"
   ]
  },
  {
   "cell_type": "code",
   "execution_count": 4,
   "id": "cd85c358-bf03-46c4-a566-6d71ea04f298",
   "metadata": {},
   "outputs": [
    {
     "data": {
      "text/html": [
       "<div>\n",
       "<style scoped>\n",
       "    .dataframe tbody tr th:only-of-type {\n",
       "        vertical-align: middle;\n",
       "    }\n",
       "\n",
       "    .dataframe tbody tr th {\n",
       "        vertical-align: top;\n",
       "    }\n",
       "\n",
       "    .dataframe thead th {\n",
       "        text-align: right;\n",
       "    }\n",
       "</style>\n",
       "<table border=\"1\" class=\"dataframe\">\n",
       "  <thead>\n",
       "    <tr style=\"text-align: right;\">\n",
       "      <th></th>\n",
       "      <th>user_id</th>\n",
       "      <th>number_transactions</th>\n",
       "      <th>total_amount_usd</th>\n",
       "      <th>age</th>\n",
       "      <th>job</th>\n",
       "      <th>marital</th>\n",
       "      <th>education</th>\n",
       "      <th>default</th>\n",
       "      <th>housing</th>\n",
       "      <th>loan</th>\n",
       "      <th>contact</th>\n",
       "      <th>duration</th>\n",
       "      <th>campaign</th>\n",
       "      <th>pdays</th>\n",
       "      <th>previous</th>\n",
       "      <th>poutcome</th>\n",
       "      <th>term_deposit</th>\n",
       "      <th>date_joined</th>\n",
       "      <th>device</th>\n",
       "    </tr>\n",
       "  </thead>\n",
       "  <tbody>\n",
       "    <tr>\n",
       "      <th>0</th>\n",
       "      <td>9231c446-cb16-4b2b-a7f7-ddfc8b25aaf6</td>\n",
       "      <td>3.0</td>\n",
       "      <td>2143.0</td>\n",
       "      <td>58</td>\n",
       "      <td>management</td>\n",
       "      <td>married</td>\n",
       "      <td>tertiary</td>\n",
       "      <td>False</td>\n",
       "      <td>True</td>\n",
       "      <td>False</td>\n",
       "      <td>None</td>\n",
       "      <td>261</td>\n",
       "      <td>1</td>\n",
       "      <td>-1</td>\n",
       "      <td>0</td>\n",
       "      <td>None</td>\n",
       "      <td>False</td>\n",
       "      <td>1998-08-23</td>\n",
       "      <td>mobile</td>\n",
       "    </tr>\n",
       "    <tr>\n",
       "      <th>1</th>\n",
       "      <td>bb92765a-08de-4963-b432-496524b39157</td>\n",
       "      <td>NaN</td>\n",
       "      <td>NaN</td>\n",
       "      <td>44</td>\n",
       "      <td>technician</td>\n",
       "      <td>single</td>\n",
       "      <td>secondary</td>\n",
       "      <td>False</td>\n",
       "      <td>True</td>\n",
       "      <td>False</td>\n",
       "      <td>None</td>\n",
       "      <td>151</td>\n",
       "      <td>1</td>\n",
       "      <td>-1</td>\n",
       "      <td>0</td>\n",
       "      <td>None</td>\n",
       "      <td>False</td>\n",
       "      <td>2008-07-15</td>\n",
       "      <td>desktop</td>\n",
       "    </tr>\n",
       "    <tr>\n",
       "      <th>2</th>\n",
       "      <td>573de577-49ef-42b9-83da-d3cfb817b5c1</td>\n",
       "      <td>2.0</td>\n",
       "      <td>2.0</td>\n",
       "      <td>33</td>\n",
       "      <td>entrepreneur</td>\n",
       "      <td>married</td>\n",
       "      <td>secondary</td>\n",
       "      <td>False</td>\n",
       "      <td>True</td>\n",
       "      <td>True</td>\n",
       "      <td>None</td>\n",
       "      <td>76</td>\n",
       "      <td>1</td>\n",
       "      <td>-1</td>\n",
       "      <td>0</td>\n",
       "      <td>None</td>\n",
       "      <td>False</td>\n",
       "      <td>2002-06-04</td>\n",
       "      <td>mobile</td>\n",
       "    </tr>\n",
       "    <tr>\n",
       "      <th>3</th>\n",
       "      <td>d6b66b9d-7c8f-4257-a682-e136f640b7e3</td>\n",
       "      <td>NaN</td>\n",
       "      <td>NaN</td>\n",
       "      <td>47</td>\n",
       "      <td>blue-collar</td>\n",
       "      <td>married</td>\n",
       "      <td>None</td>\n",
       "      <td>False</td>\n",
       "      <td>True</td>\n",
       "      <td>False</td>\n",
       "      <td>None</td>\n",
       "      <td>92</td>\n",
       "      <td>1</td>\n",
       "      <td>-1</td>\n",
       "      <td>0</td>\n",
       "      <td>None</td>\n",
       "      <td>False</td>\n",
       "      <td>1995-06-29</td>\n",
       "      <td>tablet</td>\n",
       "    </tr>\n",
       "    <tr>\n",
       "      <th>4</th>\n",
       "      <td>fade0b20-7594-4d9a-84cd-c02f79b1b526</td>\n",
       "      <td>1.0</td>\n",
       "      <td>1.0</td>\n",
       "      <td>33</td>\n",
       "      <td>None</td>\n",
       "      <td>single</td>\n",
       "      <td>None</td>\n",
       "      <td>False</td>\n",
       "      <td>False</td>\n",
       "      <td>False</td>\n",
       "      <td>None</td>\n",
       "      <td>198</td>\n",
       "      <td>1</td>\n",
       "      <td>-1</td>\n",
       "      <td>0</td>\n",
       "      <td>None</td>\n",
       "      <td>False</td>\n",
       "      <td>1995-08-01</td>\n",
       "      <td>mobile</td>\n",
       "    </tr>\n",
       "    <tr>\n",
       "      <th>5</th>\n",
       "      <td>c6aee0d4-2a86-4bac-827b-c6d33b5933e6</td>\n",
       "      <td>2.0</td>\n",
       "      <td>231.0</td>\n",
       "      <td>35</td>\n",
       "      <td>management</td>\n",
       "      <td>married</td>\n",
       "      <td>tertiary</td>\n",
       "      <td>False</td>\n",
       "      <td>True</td>\n",
       "      <td>False</td>\n",
       "      <td>None</td>\n",
       "      <td>139</td>\n",
       "      <td>1</td>\n",
       "      <td>-1</td>\n",
       "      <td>0</td>\n",
       "      <td>None</td>\n",
       "      <td>False</td>\n",
       "      <td>2000-06-21</td>\n",
       "      <td>desktop</td>\n",
       "    </tr>\n",
       "    <tr>\n",
       "      <th>6</th>\n",
       "      <td>1fa7d4fb-3e4a-463a-ba4b-08f824945e45</td>\n",
       "      <td>2.0</td>\n",
       "      <td>447.0</td>\n",
       "      <td>28</td>\n",
       "      <td>management</td>\n",
       "      <td>single</td>\n",
       "      <td>tertiary</td>\n",
       "      <td>False</td>\n",
       "      <td>True</td>\n",
       "      <td>True</td>\n",
       "      <td>None</td>\n",
       "      <td>217</td>\n",
       "      <td>1</td>\n",
       "      <td>-1</td>\n",
       "      <td>0</td>\n",
       "      <td>None</td>\n",
       "      <td>False</td>\n",
       "      <td>1996-02-22</td>\n",
       "      <td>mobile</td>\n",
       "    </tr>\n",
       "    <tr>\n",
       "      <th>7</th>\n",
       "      <td>d20059f3-84b7-4ec5-b933-8bca3a3414af</td>\n",
       "      <td>1.0</td>\n",
       "      <td>2.0</td>\n",
       "      <td>42</td>\n",
       "      <td>entrepreneur</td>\n",
       "      <td>divorced</td>\n",
       "      <td>tertiary</td>\n",
       "      <td>True</td>\n",
       "      <td>True</td>\n",
       "      <td>False</td>\n",
       "      <td>None</td>\n",
       "      <td>380</td>\n",
       "      <td>1</td>\n",
       "      <td>-1</td>\n",
       "      <td>0</td>\n",
       "      <td>None</td>\n",
       "      <td>False</td>\n",
       "      <td>1991-12-09</td>\n",
       "      <td>mobile</td>\n",
       "    </tr>\n",
       "    <tr>\n",
       "      <th>8</th>\n",
       "      <td>0cedabc3-6141-43c6-988c-9ec2f14a8eb9</td>\n",
       "      <td>NaN</td>\n",
       "      <td>NaN</td>\n",
       "      <td>58</td>\n",
       "      <td>retired</td>\n",
       "      <td>married</td>\n",
       "      <td>primary</td>\n",
       "      <td>False</td>\n",
       "      <td>True</td>\n",
       "      <td>False</td>\n",
       "      <td>None</td>\n",
       "      <td>50</td>\n",
       "      <td>1</td>\n",
       "      <td>-1</td>\n",
       "      <td>0</td>\n",
       "      <td>None</td>\n",
       "      <td>False</td>\n",
       "      <td>1999-08-20</td>\n",
       "      <td>desktop</td>\n",
       "    </tr>\n",
       "    <tr>\n",
       "      <th>9</th>\n",
       "      <td>bc3d8e25-4619-4395-9aae-7d443f424802</td>\n",
       "      <td>2.0</td>\n",
       "      <td>593.0</td>\n",
       "      <td>43</td>\n",
       "      <td>technician</td>\n",
       "      <td>single</td>\n",
       "      <td>secondary</td>\n",
       "      <td>False</td>\n",
       "      <td>True</td>\n",
       "      <td>False</td>\n",
       "      <td>None</td>\n",
       "      <td>55</td>\n",
       "      <td>1</td>\n",
       "      <td>-1</td>\n",
       "      <td>0</td>\n",
       "      <td>None</td>\n",
       "      <td>False</td>\n",
       "      <td>1991-09-16</td>\n",
       "      <td>mobile</td>\n",
       "    </tr>\n",
       "    <tr>\n",
       "      <th>10</th>\n",
       "      <td>59b30e4f-753c-47e8-80b0-3d8666871c54</td>\n",
       "      <td>NaN</td>\n",
       "      <td>NaN</td>\n",
       "      <td>41</td>\n",
       "      <td>admin.</td>\n",
       "      <td>divorced</td>\n",
       "      <td>secondary</td>\n",
       "      <td>False</td>\n",
       "      <td>True</td>\n",
       "      <td>False</td>\n",
       "      <td>None</td>\n",
       "      <td>222</td>\n",
       "      <td>1</td>\n",
       "      <td>-1</td>\n",
       "      <td>0</td>\n",
       "      <td>None</td>\n",
       "      <td>False</td>\n",
       "      <td>1991-05-31</td>\n",
       "      <td>desktop</td>\n",
       "    </tr>\n",
       "    <tr>\n",
       "      <th>11</th>\n",
       "      <td>cd92181a-0e26-4a72-bc48-0792f527f031</td>\n",
       "      <td>2.0</td>\n",
       "      <td>390.0</td>\n",
       "      <td>29</td>\n",
       "      <td>admin.</td>\n",
       "      <td>single</td>\n",
       "      <td>secondary</td>\n",
       "      <td>False</td>\n",
       "      <td>True</td>\n",
       "      <td>False</td>\n",
       "      <td>None</td>\n",
       "      <td>137</td>\n",
       "      <td>1</td>\n",
       "      <td>-1</td>\n",
       "      <td>0</td>\n",
       "      <td>None</td>\n",
       "      <td>False</td>\n",
       "      <td>2004-04-30</td>\n",
       "      <td>mobile</td>\n",
       "    </tr>\n",
       "    <tr>\n",
       "      <th>12</th>\n",
       "      <td>f6f04cfb-d647-4306-99bd-0354354e7bab</td>\n",
       "      <td>2.0</td>\n",
       "      <td>6.0</td>\n",
       "      <td>53</td>\n",
       "      <td>technician</td>\n",
       "      <td>married</td>\n",
       "      <td>secondary</td>\n",
       "      <td>False</td>\n",
       "      <td>True</td>\n",
       "      <td>False</td>\n",
       "      <td>None</td>\n",
       "      <td>517</td>\n",
       "      <td>1</td>\n",
       "      <td>-1</td>\n",
       "      <td>0</td>\n",
       "      <td>None</td>\n",
       "      <td>False</td>\n",
       "      <td>2010-02-12</td>\n",
       "      <td>mobile</td>\n",
       "    </tr>\n",
       "    <tr>\n",
       "      <th>13</th>\n",
       "      <td>8c406417-19a9-4c6c-b2f2-bb1bb20a37b4</td>\n",
       "      <td>NaN</td>\n",
       "      <td>NaN</td>\n",
       "      <td>58</td>\n",
       "      <td>technician</td>\n",
       "      <td>married</td>\n",
       "      <td>None</td>\n",
       "      <td>False</td>\n",
       "      <td>True</td>\n",
       "      <td>False</td>\n",
       "      <td>None</td>\n",
       "      <td>71</td>\n",
       "      <td>1</td>\n",
       "      <td>-1</td>\n",
       "      <td>0</td>\n",
       "      <td>None</td>\n",
       "      <td>False</td>\n",
       "      <td>1995-01-23</td>\n",
       "      <td>mobile</td>\n",
       "    </tr>\n",
       "    <tr>\n",
       "      <th>14</th>\n",
       "      <td>139c01b6-cda3-419e-89a6-d85fd30a795e</td>\n",
       "      <td>2.0</td>\n",
       "      <td>162.0</td>\n",
       "      <td>57</td>\n",
       "      <td>services</td>\n",
       "      <td>married</td>\n",
       "      <td>secondary</td>\n",
       "      <td>False</td>\n",
       "      <td>True</td>\n",
       "      <td>False</td>\n",
       "      <td>None</td>\n",
       "      <td>174</td>\n",
       "      <td>1</td>\n",
       "      <td>-1</td>\n",
       "      <td>0</td>\n",
       "      <td>None</td>\n",
       "      <td>False</td>\n",
       "      <td>1989-02-07</td>\n",
       "      <td>desktop</td>\n",
       "    </tr>\n",
       "    <tr>\n",
       "      <th>15</th>\n",
       "      <td>cf24cb61-f315-418c-9579-a15765654cb4</td>\n",
       "      <td>6.0</td>\n",
       "      <td>229.0</td>\n",
       "      <td>51</td>\n",
       "      <td>retired</td>\n",
       "      <td>married</td>\n",
       "      <td>primary</td>\n",
       "      <td>False</td>\n",
       "      <td>True</td>\n",
       "      <td>False</td>\n",
       "      <td>None</td>\n",
       "      <td>353</td>\n",
       "      <td>1</td>\n",
       "      <td>-1</td>\n",
       "      <td>0</td>\n",
       "      <td>None</td>\n",
       "      <td>False</td>\n",
       "      <td>2000-01-18</td>\n",
       "      <td>desktop</td>\n",
       "    </tr>\n",
       "    <tr>\n",
       "      <th>16</th>\n",
       "      <td>c0c3b3d5-275e-4df1-900b-349ee0f637ef</td>\n",
       "      <td>3.0</td>\n",
       "      <td>13.0</td>\n",
       "      <td>45</td>\n",
       "      <td>admin.</td>\n",
       "      <td>single</td>\n",
       "      <td>None</td>\n",
       "      <td>False</td>\n",
       "      <td>True</td>\n",
       "      <td>False</td>\n",
       "      <td>None</td>\n",
       "      <td>98</td>\n",
       "      <td>1</td>\n",
       "      <td>-1</td>\n",
       "      <td>0</td>\n",
       "      <td>None</td>\n",
       "      <td>False</td>\n",
       "      <td>1997-05-26</td>\n",
       "      <td>mobile</td>\n",
       "    </tr>\n",
       "    <tr>\n",
       "      <th>17</th>\n",
       "      <td>da0f90e3-ca5a-4f28-a401-752b31745cff</td>\n",
       "      <td>NaN</td>\n",
       "      <td>NaN</td>\n",
       "      <td>57</td>\n",
       "      <td>blue-collar</td>\n",
       "      <td>married</td>\n",
       "      <td>primary</td>\n",
       "      <td>False</td>\n",
       "      <td>True</td>\n",
       "      <td>False</td>\n",
       "      <td>None</td>\n",
       "      <td>38</td>\n",
       "      <td>1</td>\n",
       "      <td>-1</td>\n",
       "      <td>0</td>\n",
       "      <td>None</td>\n",
       "      <td>False</td>\n",
       "      <td>2005-05-23</td>\n",
       "      <td>desktop</td>\n",
       "    </tr>\n",
       "    <tr>\n",
       "      <th>18</th>\n",
       "      <td>315e5ed5-d5a1-465e-8bf6-d89d97dc2740</td>\n",
       "      <td>2.0</td>\n",
       "      <td>60.0</td>\n",
       "      <td>60</td>\n",
       "      <td>retired</td>\n",
       "      <td>married</td>\n",
       "      <td>primary</td>\n",
       "      <td>False</td>\n",
       "      <td>True</td>\n",
       "      <td>False</td>\n",
       "      <td>None</td>\n",
       "      <td>219</td>\n",
       "      <td>1</td>\n",
       "      <td>-1</td>\n",
       "      <td>0</td>\n",
       "      <td>None</td>\n",
       "      <td>False</td>\n",
       "      <td>1992-10-30</td>\n",
       "      <td>desktop</td>\n",
       "    </tr>\n",
       "    <tr>\n",
       "      <th>19</th>\n",
       "      <td>c3b375f2-3bc0-40b7-a751-72760c4e1975</td>\n",
       "      <td>5.0</td>\n",
       "      <td>0.0</td>\n",
       "      <td>33</td>\n",
       "      <td>services</td>\n",
       "      <td>married</td>\n",
       "      <td>secondary</td>\n",
       "      <td>False</td>\n",
       "      <td>True</td>\n",
       "      <td>False</td>\n",
       "      <td>None</td>\n",
       "      <td>54</td>\n",
       "      <td>1</td>\n",
       "      <td>-1</td>\n",
       "      <td>0</td>\n",
       "      <td>None</td>\n",
       "      <td>False</td>\n",
       "      <td>2008-02-20</td>\n",
       "      <td>mobile</td>\n",
       "    </tr>\n",
       "  </tbody>\n",
       "</table>\n",
       "</div>"
      ],
      "text/plain": [
       "                                 user_id  number_transactions  \\\n",
       "0   9231c446-cb16-4b2b-a7f7-ddfc8b25aaf6                  3.0   \n",
       "1   bb92765a-08de-4963-b432-496524b39157                  NaN   \n",
       "2   573de577-49ef-42b9-83da-d3cfb817b5c1                  2.0   \n",
       "3   d6b66b9d-7c8f-4257-a682-e136f640b7e3                  NaN   \n",
       "4   fade0b20-7594-4d9a-84cd-c02f79b1b526                  1.0   \n",
       "5   c6aee0d4-2a86-4bac-827b-c6d33b5933e6                  2.0   \n",
       "6   1fa7d4fb-3e4a-463a-ba4b-08f824945e45                  2.0   \n",
       "7   d20059f3-84b7-4ec5-b933-8bca3a3414af                  1.0   \n",
       "8   0cedabc3-6141-43c6-988c-9ec2f14a8eb9                  NaN   \n",
       "9   bc3d8e25-4619-4395-9aae-7d443f424802                  2.0   \n",
       "10  59b30e4f-753c-47e8-80b0-3d8666871c54                  NaN   \n",
       "11  cd92181a-0e26-4a72-bc48-0792f527f031                  2.0   \n",
       "12  f6f04cfb-d647-4306-99bd-0354354e7bab                  2.0   \n",
       "13  8c406417-19a9-4c6c-b2f2-bb1bb20a37b4                  NaN   \n",
       "14  139c01b6-cda3-419e-89a6-d85fd30a795e                  2.0   \n",
       "15  cf24cb61-f315-418c-9579-a15765654cb4                  6.0   \n",
       "16  c0c3b3d5-275e-4df1-900b-349ee0f637ef                  3.0   \n",
       "17  da0f90e3-ca5a-4f28-a401-752b31745cff                  NaN   \n",
       "18  315e5ed5-d5a1-465e-8bf6-d89d97dc2740                  2.0   \n",
       "19  c3b375f2-3bc0-40b7-a751-72760c4e1975                  5.0   \n",
       "\n",
       "    total_amount_usd  age           job   marital  education  default  \\\n",
       "0             2143.0   58    management   married   tertiary    False   \n",
       "1                NaN   44    technician    single  secondary    False   \n",
       "2                2.0   33  entrepreneur   married  secondary    False   \n",
       "3                NaN   47   blue-collar   married       None    False   \n",
       "4                1.0   33          None    single       None    False   \n",
       "5              231.0   35    management   married   tertiary    False   \n",
       "6              447.0   28    management    single   tertiary    False   \n",
       "7                2.0   42  entrepreneur  divorced   tertiary     True   \n",
       "8                NaN   58       retired   married    primary    False   \n",
       "9              593.0   43    technician    single  secondary    False   \n",
       "10               NaN   41        admin.  divorced  secondary    False   \n",
       "11             390.0   29        admin.    single  secondary    False   \n",
       "12               6.0   53    technician   married  secondary    False   \n",
       "13               NaN   58    technician   married       None    False   \n",
       "14             162.0   57      services   married  secondary    False   \n",
       "15             229.0   51       retired   married    primary    False   \n",
       "16              13.0   45        admin.    single       None    False   \n",
       "17               NaN   57   blue-collar   married    primary    False   \n",
       "18              60.0   60       retired   married    primary    False   \n",
       "19               0.0   33      services   married  secondary    False   \n",
       "\n",
       "    housing   loan contact  duration  campaign  pdays  previous poutcome  \\\n",
       "0      True  False    None       261         1     -1         0     None   \n",
       "1      True  False    None       151         1     -1         0     None   \n",
       "2      True   True    None        76         1     -1         0     None   \n",
       "3      True  False    None        92         1     -1         0     None   \n",
       "4     False  False    None       198         1     -1         0     None   \n",
       "5      True  False    None       139         1     -1         0     None   \n",
       "6      True   True    None       217         1     -1         0     None   \n",
       "7      True  False    None       380         1     -1         0     None   \n",
       "8      True  False    None        50         1     -1         0     None   \n",
       "9      True  False    None        55         1     -1         0     None   \n",
       "10     True  False    None       222         1     -1         0     None   \n",
       "11     True  False    None       137         1     -1         0     None   \n",
       "12     True  False    None       517         1     -1         0     None   \n",
       "13     True  False    None        71         1     -1         0     None   \n",
       "14     True  False    None       174         1     -1         0     None   \n",
       "15     True  False    None       353         1     -1         0     None   \n",
       "16     True  False    None        98         1     -1         0     None   \n",
       "17     True  False    None        38         1     -1         0     None   \n",
       "18     True  False    None       219         1     -1         0     None   \n",
       "19     True  False    None        54         1     -1         0     None   \n",
       "\n",
       "    term_deposit date_joined   device  \n",
       "0          False  1998-08-23   mobile  \n",
       "1          False  2008-07-15  desktop  \n",
       "2          False  2002-06-04   mobile  \n",
       "3          False  1995-06-29   tablet  \n",
       "4          False  1995-08-01   mobile  \n",
       "5          False  2000-06-21  desktop  \n",
       "6          False  1996-02-22   mobile  \n",
       "7          False  1991-12-09   mobile  \n",
       "8          False  1999-08-20  desktop  \n",
       "9          False  1991-09-16   mobile  \n",
       "10         False  1991-05-31  desktop  \n",
       "11         False  2004-04-30   mobile  \n",
       "12         False  2010-02-12   mobile  \n",
       "13         False  1995-01-23   mobile  \n",
       "14         False  1989-02-07  desktop  \n",
       "15         False  2000-01-18  desktop  \n",
       "16         False  1997-05-26   mobile  \n",
       "17         False  2005-05-23  desktop  \n",
       "18         False  1992-10-30  desktop  \n",
       "19         False  2008-02-20   mobile  "
      ]
     },
     "execution_count": 4,
     "metadata": {},
     "output_type": "execute_result"
    }
   ],
   "source": [
    "user_data=pd.read_pickle('c:/tugas_sdt/users_data_cleaned.pickle')\n",
    "user_data.head(20)"
   ]
  },
  {
   "cell_type": "markdown",
   "id": "99f42197-7b98-4c7f-aa23-e0e309c7f2c8",
   "metadata": {},
   "source": [
    "# Dimensi dan tipe data"
   ]
  },
  {
   "cell_type": "code",
   "execution_count": 5,
   "id": "7fc40cf4-1e51-4917-905c-ba355f4010bf",
   "metadata": {
    "tags": []
   },
   "outputs": [
    {
     "data": {
      "text/plain": [
       "(45209, 19)"
      ]
     },
     "execution_count": 5,
     "metadata": {},
     "output_type": "execute_result"
    }
   ],
   "source": [
    "user_data.shape"
   ]
  },
  {
   "cell_type": "code",
   "execution_count": 6,
   "id": "987aad30-e5b9-473a-82b3-f955abdf09f6",
   "metadata": {},
   "outputs": [
    {
     "name": "stdout",
     "output_type": "stream",
     "text": [
      "<class 'pandas.core.frame.DataFrame'>\n",
      "Int64Index: 45209 entries, 0 to 45215\n",
      "Data columns (total 19 columns):\n",
      " #   Column               Non-Null Count  Dtype         \n",
      "---  ------               --------------  -----         \n",
      " 0   user_id              45209 non-null  object        \n",
      " 1   number_transactions  35210 non-null  float64       \n",
      " 2   total_amount_usd     35210 non-null  float64       \n",
      " 3   age                  45209 non-null  int64         \n",
      " 4   job                  44921 non-null  object        \n",
      " 5   marital              45209 non-null  object        \n",
      " 6   education            43352 non-null  object        \n",
      " 7   default              45209 non-null  bool          \n",
      " 8   housing              45209 non-null  bool          \n",
      " 9   loan                 45209 non-null  bool          \n",
      " 10  contact              32191 non-null  object        \n",
      " 11  duration             45209 non-null  int64         \n",
      " 12  campaign             45209 non-null  int64         \n",
      " 13  pdays                45209 non-null  int64         \n",
      " 14  previous             45209 non-null  int64         \n",
      " 15  poutcome             8252 non-null   object        \n",
      " 16  term_deposit         45209 non-null  bool          \n",
      " 17  date_joined          45179 non-null  datetime64[ns]\n",
      " 18  device               45115 non-null  object        \n",
      "dtypes: bool(4), datetime64[ns](1), float64(2), int64(5), object(7)\n",
      "memory usage: 5.7+ MB\n"
     ]
    }
   ],
   "source": [
    "user_data.info()"
   ]
  },
  {
   "cell_type": "markdown",
   "id": "1a1d54c6-4dfb-49f3-97a3-46992553a6a4",
   "metadata": {},
   "source": [
    "# Banyaknya row/record"
   ]
  },
  {
   "cell_type": "code",
   "execution_count": 7,
   "id": "d8928833-e7b7-47c2-957f-47016074a863",
   "metadata": {},
   "outputs": [
    {
     "data": {
      "text/plain": [
       "45209"
      ]
     },
     "execution_count": 7,
     "metadata": {},
     "output_type": "execute_result"
    }
   ],
   "source": [
    "len(np.unique(user_data.user_id))"
   ]
  },
  {
   "cell_type": "code",
   "execution_count": 8,
   "id": "0ff7022b-1c0b-4ca0-81f2-d6da48d6f45d",
   "metadata": {},
   "outputs": [
    {
     "data": {
      "text/plain": [
       "{bool: ['default', 'housing', 'loan', 'term_deposit'], int64: ['age', 'duration', 'campaign', 'pdays', 'previous'], float64: ['number_transactions', 'total_amount_usd'], datetime64[ns]: ['date_joined'], object: ['user_id', 'job', 'marital', 'education', 'contact', 'poutcome', 'device']}"
      ]
     },
     "execution_count": 8,
     "metadata": {},
     "output_type": "execute_result"
    }
   ],
   "source": [
    "user_data.columns.to_series().groupby(user_data.dtypes).groups"
   ]
  },
  {
   "cell_type": "markdown",
   "id": "29a75c77-08e3-42bd-84b6-65a1a3dd7610",
   "metadata": {},
   "source": [
    "# Cek Korelasi"
   ]
  },
  {
   "cell_type": "code",
   "execution_count": 9,
   "id": "c65bdee1-c781-43e0-99f5-2b674c510ecf",
   "metadata": {},
   "outputs": [
    {
     "data": {
      "text/html": [
       "<div>\n",
       "<style scoped>\n",
       "    .dataframe tbody tr th:only-of-type {\n",
       "        vertical-align: middle;\n",
       "    }\n",
       "\n",
       "    .dataframe tbody tr th {\n",
       "        vertical-align: top;\n",
       "    }\n",
       "\n",
       "    .dataframe thead th {\n",
       "        text-align: right;\n",
       "    }\n",
       "</style>\n",
       "<table border=\"1\" class=\"dataframe\">\n",
       "  <thead>\n",
       "    <tr style=\"text-align: right;\">\n",
       "      <th></th>\n",
       "      <th>number_transactions</th>\n",
       "      <th>total_amount_usd</th>\n",
       "      <th>age</th>\n",
       "      <th>default</th>\n",
       "      <th>housing</th>\n",
       "      <th>loan</th>\n",
       "      <th>duration</th>\n",
       "      <th>campaign</th>\n",
       "      <th>pdays</th>\n",
       "      <th>previous</th>\n",
       "      <th>term_deposit</th>\n",
       "    </tr>\n",
       "  </thead>\n",
       "  <tbody>\n",
       "    <tr>\n",
       "      <th>number_transactions</th>\n",
       "      <td>1.000000</td>\n",
       "      <td>-0.163409</td>\n",
       "      <td>-0.008813</td>\n",
       "      <td>0.138838</td>\n",
       "      <td>0.030429</td>\n",
       "      <td>0.075319</td>\n",
       "      <td>-0.017220</td>\n",
       "      <td>0.026431</td>\n",
       "      <td>-0.030751</td>\n",
       "      <td>-0.023046</td>\n",
       "      <td>-0.053390</td>\n",
       "    </tr>\n",
       "    <tr>\n",
       "      <th>total_amount_usd</th>\n",
       "      <td>-0.163409</td>\n",
       "      <td>1.000000</td>\n",
       "      <td>0.095839</td>\n",
       "      <td>-0.065390</td>\n",
       "      <td>-0.066857</td>\n",
       "      <td>-0.084526</td>\n",
       "      <td>0.022586</td>\n",
       "      <td>-0.017274</td>\n",
       "      <td>0.006435</td>\n",
       "      <td>0.016952</td>\n",
       "      <td>0.050785</td>\n",
       "    </tr>\n",
       "    <tr>\n",
       "      <th>age</th>\n",
       "      <td>-0.008813</td>\n",
       "      <td>0.095839</td>\n",
       "      <td>1.000000</td>\n",
       "      <td>-0.017875</td>\n",
       "      <td>-0.185552</td>\n",
       "      <td>-0.015641</td>\n",
       "      <td>-0.004645</td>\n",
       "      <td>0.004767</td>\n",
       "      <td>-0.023745</td>\n",
       "      <td>0.001297</td>\n",
       "      <td>0.025168</td>\n",
       "    </tr>\n",
       "    <tr>\n",
       "      <th>default</th>\n",
       "      <td>0.138838</td>\n",
       "      <td>-0.065390</td>\n",
       "      <td>-0.017875</td>\n",
       "      <td>1.000000</td>\n",
       "      <td>-0.006020</td>\n",
       "      <td>0.077232</td>\n",
       "      <td>-0.010017</td>\n",
       "      <td>0.016819</td>\n",
       "      <td>-0.029982</td>\n",
       "      <td>-0.018331</td>\n",
       "      <td>-0.022421</td>\n",
       "    </tr>\n",
       "    <tr>\n",
       "      <th>housing</th>\n",
       "      <td>0.030429</td>\n",
       "      <td>-0.066857</td>\n",
       "      <td>-0.185552</td>\n",
       "      <td>-0.006020</td>\n",
       "      <td>1.000000</td>\n",
       "      <td>0.041341</td>\n",
       "      <td>0.005041</td>\n",
       "      <td>-0.023583</td>\n",
       "      <td>0.124197</td>\n",
       "      <td>0.037087</td>\n",
       "      <td>-0.139161</td>\n",
       "    </tr>\n",
       "    <tr>\n",
       "      <th>loan</th>\n",
       "      <td>0.075319</td>\n",
       "      <td>-0.084526</td>\n",
       "      <td>-0.015641</td>\n",
       "      <td>0.077232</td>\n",
       "      <td>0.041341</td>\n",
       "      <td>1.000000</td>\n",
       "      <td>-0.012395</td>\n",
       "      <td>0.009972</td>\n",
       "      <td>-0.022762</td>\n",
       "      <td>-0.011048</td>\n",
       "      <td>-0.068193</td>\n",
       "    </tr>\n",
       "    <tr>\n",
       "      <th>duration</th>\n",
       "      <td>-0.017220</td>\n",
       "      <td>0.022586</td>\n",
       "      <td>-0.004645</td>\n",
       "      <td>-0.010017</td>\n",
       "      <td>0.005041</td>\n",
       "      <td>-0.012395</td>\n",
       "      <td>1.000000</td>\n",
       "      <td>-0.084551</td>\n",
       "      <td>-0.001549</td>\n",
       "      <td>0.001213</td>\n",
       "      <td>0.394549</td>\n",
       "    </tr>\n",
       "    <tr>\n",
       "      <th>campaign</th>\n",
       "      <td>0.026431</td>\n",
       "      <td>-0.017274</td>\n",
       "      <td>0.004767</td>\n",
       "      <td>0.016819</td>\n",
       "      <td>-0.023583</td>\n",
       "      <td>0.009972</td>\n",
       "      <td>-0.084551</td>\n",
       "      <td>1.000000</td>\n",
       "      <td>-0.088636</td>\n",
       "      <td>-0.032860</td>\n",
       "      <td>-0.073179</td>\n",
       "    </tr>\n",
       "    <tr>\n",
       "      <th>pdays</th>\n",
       "      <td>-0.030751</td>\n",
       "      <td>0.006435</td>\n",
       "      <td>-0.023745</td>\n",
       "      <td>-0.029982</td>\n",
       "      <td>0.124197</td>\n",
       "      <td>-0.022762</td>\n",
       "      <td>-0.001549</td>\n",
       "      <td>-0.088636</td>\n",
       "      <td>1.000000</td>\n",
       "      <td>0.454817</td>\n",
       "      <td>0.103616</td>\n",
       "    </tr>\n",
       "    <tr>\n",
       "      <th>previous</th>\n",
       "      <td>-0.023046</td>\n",
       "      <td>0.016952</td>\n",
       "      <td>0.001297</td>\n",
       "      <td>-0.018331</td>\n",
       "      <td>0.037087</td>\n",
       "      <td>-0.011048</td>\n",
       "      <td>0.001213</td>\n",
       "      <td>-0.032860</td>\n",
       "      <td>0.454817</td>\n",
       "      <td>1.000000</td>\n",
       "      <td>0.093232</td>\n",
       "    </tr>\n",
       "    <tr>\n",
       "      <th>term_deposit</th>\n",
       "      <td>-0.053390</td>\n",
       "      <td>0.050785</td>\n",
       "      <td>0.025168</td>\n",
       "      <td>-0.022421</td>\n",
       "      <td>-0.139161</td>\n",
       "      <td>-0.068193</td>\n",
       "      <td>0.394549</td>\n",
       "      <td>-0.073179</td>\n",
       "      <td>0.103616</td>\n",
       "      <td>0.093232</td>\n",
       "      <td>1.000000</td>\n",
       "    </tr>\n",
       "  </tbody>\n",
       "</table>\n",
       "</div>"
      ],
      "text/plain": [
       "                     number_transactions  total_amount_usd       age  \\\n",
       "number_transactions             1.000000         -0.163409 -0.008813   \n",
       "total_amount_usd               -0.163409          1.000000  0.095839   \n",
       "age                            -0.008813          0.095839  1.000000   \n",
       "default                         0.138838         -0.065390 -0.017875   \n",
       "housing                         0.030429         -0.066857 -0.185552   \n",
       "loan                            0.075319         -0.084526 -0.015641   \n",
       "duration                       -0.017220          0.022586 -0.004645   \n",
       "campaign                        0.026431         -0.017274  0.004767   \n",
       "pdays                          -0.030751          0.006435 -0.023745   \n",
       "previous                       -0.023046          0.016952  0.001297   \n",
       "term_deposit                   -0.053390          0.050785  0.025168   \n",
       "\n",
       "                      default   housing      loan  duration  campaign  \\\n",
       "number_transactions  0.138838  0.030429  0.075319 -0.017220  0.026431   \n",
       "total_amount_usd    -0.065390 -0.066857 -0.084526  0.022586 -0.017274   \n",
       "age                 -0.017875 -0.185552 -0.015641 -0.004645  0.004767   \n",
       "default              1.000000 -0.006020  0.077232 -0.010017  0.016819   \n",
       "housing             -0.006020  1.000000  0.041341  0.005041 -0.023583   \n",
       "loan                 0.077232  0.041341  1.000000 -0.012395  0.009972   \n",
       "duration            -0.010017  0.005041 -0.012395  1.000000 -0.084551   \n",
       "campaign             0.016819 -0.023583  0.009972 -0.084551  1.000000   \n",
       "pdays               -0.029982  0.124197 -0.022762 -0.001549 -0.088636   \n",
       "previous            -0.018331  0.037087 -0.011048  0.001213 -0.032860   \n",
       "term_deposit        -0.022421 -0.139161 -0.068193  0.394549 -0.073179   \n",
       "\n",
       "                        pdays  previous  term_deposit  \n",
       "number_transactions -0.030751 -0.023046     -0.053390  \n",
       "total_amount_usd     0.006435  0.016952      0.050785  \n",
       "age                 -0.023745  0.001297      0.025168  \n",
       "default             -0.029982 -0.018331     -0.022421  \n",
       "housing              0.124197  0.037087     -0.139161  \n",
       "loan                -0.022762 -0.011048     -0.068193  \n",
       "duration            -0.001549  0.001213      0.394549  \n",
       "campaign            -0.088636 -0.032860     -0.073179  \n",
       "pdays                1.000000  0.454817      0.103616  \n",
       "previous             0.454817  1.000000      0.093232  \n",
       "term_deposit         0.103616  0.093232      1.000000  "
      ]
     },
     "execution_count": 9,
     "metadata": {},
     "output_type": "execute_result"
    }
   ],
   "source": [
    "user_data.corr()"
   ]
  },
  {
   "cell_type": "code",
   "execution_count": 10,
   "id": "3c43a415-bcfc-4bab-91ca-ce2ae7915d20",
   "metadata": {},
   "outputs": [
    {
     "data": {
      "text/html": [
       "<div>\n",
       "<style scoped>\n",
       "    .dataframe tbody tr th:only-of-type {\n",
       "        vertical-align: middle;\n",
       "    }\n",
       "\n",
       "    .dataframe tbody tr th {\n",
       "        vertical-align: top;\n",
       "    }\n",
       "\n",
       "    .dataframe thead th {\n",
       "        text-align: right;\n",
       "    }\n",
       "</style>\n",
       "<table border=\"1\" class=\"dataframe\">\n",
       "  <thead>\n",
       "    <tr style=\"text-align: right;\">\n",
       "      <th></th>\n",
       "      <th>number_transactions</th>\n",
       "      <th>total_amount_usd</th>\n",
       "      <th>age</th>\n",
       "      <th>default</th>\n",
       "      <th>housing</th>\n",
       "      <th>loan</th>\n",
       "      <th>duration</th>\n",
       "      <th>campaign</th>\n",
       "      <th>pdays</th>\n",
       "      <th>previous</th>\n",
       "      <th>term_deposit</th>\n",
       "    </tr>\n",
       "  </thead>\n",
       "  <tbody>\n",
       "    <tr>\n",
       "      <th>number_transactions</th>\n",
       "      <td>1.000000</td>\n",
       "      <td>0.163409</td>\n",
       "      <td>0.008813</td>\n",
       "      <td>0.138838</td>\n",
       "      <td>0.030429</td>\n",
       "      <td>0.075319</td>\n",
       "      <td>0.017220</td>\n",
       "      <td>0.026431</td>\n",
       "      <td>0.030751</td>\n",
       "      <td>0.023046</td>\n",
       "      <td>0.053390</td>\n",
       "    </tr>\n",
       "    <tr>\n",
       "      <th>total_amount_usd</th>\n",
       "      <td>0.163409</td>\n",
       "      <td>1.000000</td>\n",
       "      <td>0.095839</td>\n",
       "      <td>0.065390</td>\n",
       "      <td>0.066857</td>\n",
       "      <td>0.084526</td>\n",
       "      <td>0.022586</td>\n",
       "      <td>0.017274</td>\n",
       "      <td>0.006435</td>\n",
       "      <td>0.016952</td>\n",
       "      <td>0.050785</td>\n",
       "    </tr>\n",
       "    <tr>\n",
       "      <th>age</th>\n",
       "      <td>0.008813</td>\n",
       "      <td>0.095839</td>\n",
       "      <td>1.000000</td>\n",
       "      <td>0.017875</td>\n",
       "      <td>0.185552</td>\n",
       "      <td>0.015641</td>\n",
       "      <td>0.004645</td>\n",
       "      <td>0.004767</td>\n",
       "      <td>0.023745</td>\n",
       "      <td>0.001297</td>\n",
       "      <td>0.025168</td>\n",
       "    </tr>\n",
       "    <tr>\n",
       "      <th>default</th>\n",
       "      <td>0.138838</td>\n",
       "      <td>0.065390</td>\n",
       "      <td>0.017875</td>\n",
       "      <td>1.000000</td>\n",
       "      <td>0.006020</td>\n",
       "      <td>0.077232</td>\n",
       "      <td>0.010017</td>\n",
       "      <td>0.016819</td>\n",
       "      <td>0.029982</td>\n",
       "      <td>0.018331</td>\n",
       "      <td>0.022421</td>\n",
       "    </tr>\n",
       "    <tr>\n",
       "      <th>housing</th>\n",
       "      <td>0.030429</td>\n",
       "      <td>0.066857</td>\n",
       "      <td>0.185552</td>\n",
       "      <td>0.006020</td>\n",
       "      <td>1.000000</td>\n",
       "      <td>0.041341</td>\n",
       "      <td>0.005041</td>\n",
       "      <td>0.023583</td>\n",
       "      <td>0.124197</td>\n",
       "      <td>0.037087</td>\n",
       "      <td>0.139161</td>\n",
       "    </tr>\n",
       "    <tr>\n",
       "      <th>loan</th>\n",
       "      <td>0.075319</td>\n",
       "      <td>0.084526</td>\n",
       "      <td>0.015641</td>\n",
       "      <td>0.077232</td>\n",
       "      <td>0.041341</td>\n",
       "      <td>1.000000</td>\n",
       "      <td>0.012395</td>\n",
       "      <td>0.009972</td>\n",
       "      <td>0.022762</td>\n",
       "      <td>0.011048</td>\n",
       "      <td>0.068193</td>\n",
       "    </tr>\n",
       "    <tr>\n",
       "      <th>duration</th>\n",
       "      <td>0.017220</td>\n",
       "      <td>0.022586</td>\n",
       "      <td>0.004645</td>\n",
       "      <td>0.010017</td>\n",
       "      <td>0.005041</td>\n",
       "      <td>0.012395</td>\n",
       "      <td>1.000000</td>\n",
       "      <td>0.084551</td>\n",
       "      <td>0.001549</td>\n",
       "      <td>0.001213</td>\n",
       "      <td>0.394549</td>\n",
       "    </tr>\n",
       "    <tr>\n",
       "      <th>campaign</th>\n",
       "      <td>0.026431</td>\n",
       "      <td>0.017274</td>\n",
       "      <td>0.004767</td>\n",
       "      <td>0.016819</td>\n",
       "      <td>0.023583</td>\n",
       "      <td>0.009972</td>\n",
       "      <td>0.084551</td>\n",
       "      <td>1.000000</td>\n",
       "      <td>0.088636</td>\n",
       "      <td>0.032860</td>\n",
       "      <td>0.073179</td>\n",
       "    </tr>\n",
       "    <tr>\n",
       "      <th>pdays</th>\n",
       "      <td>0.030751</td>\n",
       "      <td>0.006435</td>\n",
       "      <td>0.023745</td>\n",
       "      <td>0.029982</td>\n",
       "      <td>0.124197</td>\n",
       "      <td>0.022762</td>\n",
       "      <td>0.001549</td>\n",
       "      <td>0.088636</td>\n",
       "      <td>1.000000</td>\n",
       "      <td>0.454817</td>\n",
       "      <td>0.103616</td>\n",
       "    </tr>\n",
       "    <tr>\n",
       "      <th>previous</th>\n",
       "      <td>0.023046</td>\n",
       "      <td>0.016952</td>\n",
       "      <td>0.001297</td>\n",
       "      <td>0.018331</td>\n",
       "      <td>0.037087</td>\n",
       "      <td>0.011048</td>\n",
       "      <td>0.001213</td>\n",
       "      <td>0.032860</td>\n",
       "      <td>0.454817</td>\n",
       "      <td>1.000000</td>\n",
       "      <td>0.093232</td>\n",
       "    </tr>\n",
       "    <tr>\n",
       "      <th>term_deposit</th>\n",
       "      <td>0.053390</td>\n",
       "      <td>0.050785</td>\n",
       "      <td>0.025168</td>\n",
       "      <td>0.022421</td>\n",
       "      <td>0.139161</td>\n",
       "      <td>0.068193</td>\n",
       "      <td>0.394549</td>\n",
       "      <td>0.073179</td>\n",
       "      <td>0.103616</td>\n",
       "      <td>0.093232</td>\n",
       "      <td>1.000000</td>\n",
       "    </tr>\n",
       "  </tbody>\n",
       "</table>\n",
       "</div>"
      ],
      "text/plain": [
       "                     number_transactions  total_amount_usd       age  \\\n",
       "number_transactions             1.000000          0.163409  0.008813   \n",
       "total_amount_usd                0.163409          1.000000  0.095839   \n",
       "age                             0.008813          0.095839  1.000000   \n",
       "default                         0.138838          0.065390  0.017875   \n",
       "housing                         0.030429          0.066857  0.185552   \n",
       "loan                            0.075319          0.084526  0.015641   \n",
       "duration                        0.017220          0.022586  0.004645   \n",
       "campaign                        0.026431          0.017274  0.004767   \n",
       "pdays                           0.030751          0.006435  0.023745   \n",
       "previous                        0.023046          0.016952  0.001297   \n",
       "term_deposit                    0.053390          0.050785  0.025168   \n",
       "\n",
       "                      default   housing      loan  duration  campaign  \\\n",
       "number_transactions  0.138838  0.030429  0.075319  0.017220  0.026431   \n",
       "total_amount_usd     0.065390  0.066857  0.084526  0.022586  0.017274   \n",
       "age                  0.017875  0.185552  0.015641  0.004645  0.004767   \n",
       "default              1.000000  0.006020  0.077232  0.010017  0.016819   \n",
       "housing              0.006020  1.000000  0.041341  0.005041  0.023583   \n",
       "loan                 0.077232  0.041341  1.000000  0.012395  0.009972   \n",
       "duration             0.010017  0.005041  0.012395  1.000000  0.084551   \n",
       "campaign             0.016819  0.023583  0.009972  0.084551  1.000000   \n",
       "pdays                0.029982  0.124197  0.022762  0.001549  0.088636   \n",
       "previous             0.018331  0.037087  0.011048  0.001213  0.032860   \n",
       "term_deposit         0.022421  0.139161  0.068193  0.394549  0.073179   \n",
       "\n",
       "                        pdays  previous  term_deposit  \n",
       "number_transactions  0.030751  0.023046      0.053390  \n",
       "total_amount_usd     0.006435  0.016952      0.050785  \n",
       "age                  0.023745  0.001297      0.025168  \n",
       "default              0.029982  0.018331      0.022421  \n",
       "housing              0.124197  0.037087      0.139161  \n",
       "loan                 0.022762  0.011048      0.068193  \n",
       "duration             0.001549  0.001213      0.394549  \n",
       "campaign             0.088636  0.032860      0.073179  \n",
       "pdays                1.000000  0.454817      0.103616  \n",
       "previous             0.454817  1.000000      0.093232  \n",
       "term_deposit         0.103616  0.093232      1.000000  "
      ]
     },
     "execution_count": 10,
     "metadata": {},
     "output_type": "execute_result"
    }
   ],
   "source": [
    "user_data.corr().abs()"
   ]
  },
  {
   "cell_type": "code",
   "execution_count": 11,
   "id": "91565037-5e28-4f0a-94d3-9790921a5ccf",
   "metadata": {
    "tags": []
   },
   "outputs": [
    {
     "data": {
      "text/plain": [
       "<AxesSubplot:>"
      ]
     },
     "execution_count": 11,
     "metadata": {},
     "output_type": "execute_result"
    },
    {
     "data": {
      "image/png": "[encoded data removed]",
      "text/plain": [
       "<Figure size 432x288 with 2 Axes>"
      ]
     },
     "metadata": {
      "needs_background": "light"
     },
     "output_type": "display_data"
    }
   ],
   "source": [
    "kor=user_data.corr()\n",
    "sns.heatmap(kor, xticklabels=kor.columns, yticklabels=kor.columns,annot = True)"
   ]
  },
  {
   "cell_type": "code",
   "execution_count": 12,
   "id": "563d696b-cd65-4079-81c3-7222a18e1f49",
   "metadata": {},
   "outputs": [
    {
     "data": {
      "text/plain": [
       "<AxesSubplot:>"
      ]
     },
     "execution_count": 12,
     "metadata": {},
     "output_type": "execute_result"
    },
    {
     "data": {
      "image/png": "[encoded data removed]",
      "text/plain": [
       "<Figure size 432x288 with 2 Axes>"
      ]
     },
     "metadata": {
      "needs_background": "light"
     },
     "output_type": "display_data"
    }
   ],
   "source": [
    "dt1=pd.DataFrame(user_data,columns=list(['number_transactions','total_amount_usd']))\n",
    "kor=dt1.corr()\n",
    "sns.heatmap(kor, xticklabels=kor.columns, yticklabels=kor.columns,annot = True)"
   ]
  },
  {
   "cell_type": "code",
   "execution_count": 13,
   "id": "2527a197-8f31-45dc-addb-54728166e927",
   "metadata": {},
   "outputs": [
    {
     "data": {
      "text/html": [
       "<div>\n",
       "<style scoped>\n",
       "    .dataframe tbody tr th:only-of-type {\n",
       "        vertical-align: middle;\n",
       "    }\n",
       "\n",
       "    .dataframe tbody tr th {\n",
       "        vertical-align: top;\n",
       "    }\n",
       "\n",
       "    .dataframe thead th {\n",
       "        text-align: right;\n",
       "    }\n",
       "</style>\n",
       "<table border=\"1\" class=\"dataframe\">\n",
       "  <thead>\n",
       "    <tr style=\"text-align: right;\">\n",
       "      <th></th>\n",
       "      <th>number_transactions</th>\n",
       "      <th>total_amount_usd</th>\n",
       "      <th>age</th>\n",
       "      <th>duration</th>\n",
       "      <th>campaign</th>\n",
       "      <th>pdays</th>\n",
       "      <th>previous</th>\n",
       "    </tr>\n",
       "  </thead>\n",
       "  <tbody>\n",
       "    <tr>\n",
       "      <th>count</th>\n",
       "      <td>35210.000000</td>\n",
       "      <td>35210.000000</td>\n",
       "      <td>45209.000000</td>\n",
       "      <td>45209.000000</td>\n",
       "      <td>45209.000000</td>\n",
       "      <td>45209.000000</td>\n",
       "      <td>45209.000000</td>\n",
       "    </tr>\n",
       "    <tr>\n",
       "      <th>mean</th>\n",
       "      <td>3.977052</td>\n",
       "      <td>1369.417751</td>\n",
       "      <td>40.935853</td>\n",
       "      <td>258.153067</td>\n",
       "      <td>2.763897</td>\n",
       "      <td>40.199651</td>\n",
       "      <td>0.580349</td>\n",
       "    </tr>\n",
       "    <tr>\n",
       "      <th>std</th>\n",
       "      <td>3.814329</td>\n",
       "      <td>3063.412688</td>\n",
       "      <td>10.618653</td>\n",
       "      <td>257.525446</td>\n",
       "      <td>3.098076</td>\n",
       "      <td>100.130586</td>\n",
       "      <td>2.303489</td>\n",
       "    </tr>\n",
       "    <tr>\n",
       "      <th>min</th>\n",
       "      <td>1.000000</td>\n",
       "      <td>-8019.000000</td>\n",
       "      <td>18.000000</td>\n",
       "      <td>0.000000</td>\n",
       "      <td>1.000000</td>\n",
       "      <td>-1.000000</td>\n",
       "      <td>0.000000</td>\n",
       "    </tr>\n",
       "    <tr>\n",
       "      <th>25%</th>\n",
       "      <td>2.000000</td>\n",
       "      <td>73.000000</td>\n",
       "      <td>33.000000</td>\n",
       "      <td>103.000000</td>\n",
       "      <td>1.000000</td>\n",
       "      <td>-1.000000</td>\n",
       "      <td>0.000000</td>\n",
       "    </tr>\n",
       "    <tr>\n",
       "      <th>50%</th>\n",
       "      <td>3.000000</td>\n",
       "      <td>451.000000</td>\n",
       "      <td>39.000000</td>\n",
       "      <td>180.000000</td>\n",
       "      <td>2.000000</td>\n",
       "      <td>-1.000000</td>\n",
       "      <td>0.000000</td>\n",
       "    </tr>\n",
       "    <tr>\n",
       "      <th>75%</th>\n",
       "      <td>4.000000</td>\n",
       "      <td>1438.000000</td>\n",
       "      <td>48.000000</td>\n",
       "      <td>319.000000</td>\n",
       "      <td>3.000000</td>\n",
       "      <td>-1.000000</td>\n",
       "      <td>0.000000</td>\n",
       "    </tr>\n",
       "    <tr>\n",
       "      <th>max</th>\n",
       "      <td>20.000000</td>\n",
       "      <td>102127.000000</td>\n",
       "      <td>95.000000</td>\n",
       "      <td>4918.000000</td>\n",
       "      <td>63.000000</td>\n",
       "      <td>871.000000</td>\n",
       "      <td>275.000000</td>\n",
       "    </tr>\n",
       "  </tbody>\n",
       "</table>\n",
       "</div>"
      ],
      "text/plain": [
       "       number_transactions  total_amount_usd           age      duration  \\\n",
       "count         35210.000000      35210.000000  45209.000000  45209.000000   \n",
       "mean              3.977052       1369.417751     40.935853    258.153067   \n",
       "std               3.814329       3063.412688     10.618653    257.525446   \n",
       "min               1.000000      -8019.000000     18.000000      0.000000   \n",
       "25%               2.000000         73.000000     33.000000    103.000000   \n",
       "50%               3.000000        451.000000     39.000000    180.000000   \n",
       "75%               4.000000       1438.000000     48.000000    319.000000   \n",
       "max              20.000000     102127.000000     95.000000   4918.000000   \n",
       "\n",
       "           campaign         pdays      previous  \n",
       "count  45209.000000  45209.000000  45209.000000  \n",
       "mean       2.763897     40.199651      0.580349  \n",
       "std        3.098076    100.130586      2.303489  \n",
       "min        1.000000     -1.000000      0.000000  \n",
       "25%        1.000000     -1.000000      0.000000  \n",
       "50%        2.000000     -1.000000      0.000000  \n",
       "75%        3.000000     -1.000000      0.000000  \n",
       "max       63.000000    871.000000    275.000000  "
      ]
     },
     "execution_count": 13,
     "metadata": {},
     "output_type": "execute_result"
    }
   ],
   "source": [
    "user_data.describe()"
   ]
  },
  {
   "cell_type": "code",
   "execution_count": 14,
   "id": "1bb475ff-dc98-4248-9b15-10895fef4535",
   "metadata": {},
   "outputs": [
    {
     "data": {
      "text/html": [
       "<div>\n",
       "<style scoped>\n",
       "    .dataframe tbody tr th:only-of-type {\n",
       "        vertical-align: middle;\n",
       "    }\n",
       "\n",
       "    .dataframe tbody tr th {\n",
       "        vertical-align: top;\n",
       "    }\n",
       "\n",
       "    .dataframe thead th {\n",
       "        text-align: right;\n",
       "    }\n",
       "</style>\n",
       "<table border=\"1\" class=\"dataframe\">\n",
       "  <thead>\n",
       "    <tr style=\"text-align: right;\">\n",
       "      <th></th>\n",
       "      <th>user_id</th>\n",
       "      <th>number_transactions</th>\n",
       "      <th>total_amount_usd</th>\n",
       "      <th>age</th>\n",
       "      <th>job</th>\n",
       "      <th>marital</th>\n",
       "      <th>education</th>\n",
       "      <th>default</th>\n",
       "      <th>housing</th>\n",
       "      <th>loan</th>\n",
       "      <th>contact</th>\n",
       "      <th>duration</th>\n",
       "      <th>campaign</th>\n",
       "      <th>pdays</th>\n",
       "      <th>previous</th>\n",
       "      <th>poutcome</th>\n",
       "      <th>term_deposit</th>\n",
       "      <th>date_joined</th>\n",
       "      <th>device</th>\n",
       "    </tr>\n",
       "  </thead>\n",
       "  <tbody>\n",
       "    <tr>\n",
       "      <th>count</th>\n",
       "      <td>45209</td>\n",
       "      <td>35210.000000</td>\n",
       "      <td>35210.000000</td>\n",
       "      <td>45209.000000</td>\n",
       "      <td>44921</td>\n",
       "      <td>45209</td>\n",
       "      <td>43352</td>\n",
       "      <td>45209</td>\n",
       "      <td>45209</td>\n",
       "      <td>45209</td>\n",
       "      <td>32191</td>\n",
       "      <td>45209.000000</td>\n",
       "      <td>45209.000000</td>\n",
       "      <td>45209.000000</td>\n",
       "      <td>45209.000000</td>\n",
       "      <td>8252</td>\n",
       "      <td>45209</td>\n",
       "      <td>45179</td>\n",
       "      <td>45115</td>\n",
       "    </tr>\n",
       "    <tr>\n",
       "      <th>unique</th>\n",
       "      <td>45209</td>\n",
       "      <td>NaN</td>\n",
       "      <td>NaN</td>\n",
       "      <td>NaN</td>\n",
       "      <td>11</td>\n",
       "      <td>3</td>\n",
       "      <td>3</td>\n",
       "      <td>2</td>\n",
       "      <td>2</td>\n",
       "      <td>2</td>\n",
       "      <td>2</td>\n",
       "      <td>NaN</td>\n",
       "      <td>NaN</td>\n",
       "      <td>NaN</td>\n",
       "      <td>NaN</td>\n",
       "      <td>3</td>\n",
       "      <td>2</td>\n",
       "      <td>NaN</td>\n",
       "      <td>3</td>\n",
       "    </tr>\n",
       "    <tr>\n",
       "      <th>top</th>\n",
       "      <td>4bcd28d7-ef34-4a13-998d-2b50c9351b06</td>\n",
       "      <td>NaN</td>\n",
       "      <td>NaN</td>\n",
       "      <td>NaN</td>\n",
       "      <td>blue-collar</td>\n",
       "      <td>married</td>\n",
       "      <td>secondary</td>\n",
       "      <td>False</td>\n",
       "      <td>True</td>\n",
       "      <td>False</td>\n",
       "      <td>cellular</td>\n",
       "      <td>NaN</td>\n",
       "      <td>NaN</td>\n",
       "      <td>NaN</td>\n",
       "      <td>NaN</td>\n",
       "      <td>failure</td>\n",
       "      <td>False</td>\n",
       "      <td>NaN</td>\n",
       "      <td>mobile</td>\n",
       "    </tr>\n",
       "    <tr>\n",
       "      <th>freq</th>\n",
       "      <td>1</td>\n",
       "      <td>NaN</td>\n",
       "      <td>NaN</td>\n",
       "      <td>NaN</td>\n",
       "      <td>9731</td>\n",
       "      <td>27212</td>\n",
       "      <td>23202</td>\n",
       "      <td>44394</td>\n",
       "      <td>25128</td>\n",
       "      <td>37965</td>\n",
       "      <td>29285</td>\n",
       "      <td>NaN</td>\n",
       "      <td>NaN</td>\n",
       "      <td>NaN</td>\n",
       "      <td>NaN</td>\n",
       "      <td>4901</td>\n",
       "      <td>39920</td>\n",
       "      <td>NaN</td>\n",
       "      <td>27504</td>\n",
       "    </tr>\n",
       "    <tr>\n",
       "      <th>mean</th>\n",
       "      <td>NaN</td>\n",
       "      <td>3.977052</td>\n",
       "      <td>1369.417751</td>\n",
       "      <td>40.935853</td>\n",
       "      <td>NaN</td>\n",
       "      <td>NaN</td>\n",
       "      <td>NaN</td>\n",
       "      <td>NaN</td>\n",
       "      <td>NaN</td>\n",
       "      <td>NaN</td>\n",
       "      <td>NaN</td>\n",
       "      <td>258.153067</td>\n",
       "      <td>2.763897</td>\n",
       "      <td>40.199651</td>\n",
       "      <td>0.580349</td>\n",
       "      <td>NaN</td>\n",
       "      <td>NaN</td>\n",
       "      <td>1999-06-14 21:54:38.558622336</td>\n",
       "      <td>NaN</td>\n",
       "    </tr>\n",
       "    <tr>\n",
       "      <th>min</th>\n",
       "      <td>NaN</td>\n",
       "      <td>1.000000</td>\n",
       "      <td>-8019.000000</td>\n",
       "      <td>18.000000</td>\n",
       "      <td>NaN</td>\n",
       "      <td>NaN</td>\n",
       "      <td>NaN</td>\n",
       "      <td>NaN</td>\n",
       "      <td>NaN</td>\n",
       "      <td>NaN</td>\n",
       "      <td>NaN</td>\n",
       "      <td>0.000000</td>\n",
       "      <td>1.000000</td>\n",
       "      <td>-1.000000</td>\n",
       "      <td>0.000000</td>\n",
       "      <td>NaN</td>\n",
       "      <td>NaN</td>\n",
       "      <td>1988-01-01 00:00:00</td>\n",
       "      <td>NaN</td>\n",
       "    </tr>\n",
       "    <tr>\n",
       "      <th>25%</th>\n",
       "      <td>NaN</td>\n",
       "      <td>2.000000</td>\n",
       "      <td>73.000000</td>\n",
       "      <td>33.000000</td>\n",
       "      <td>NaN</td>\n",
       "      <td>NaN</td>\n",
       "      <td>NaN</td>\n",
       "      <td>NaN</td>\n",
       "      <td>NaN</td>\n",
       "      <td>NaN</td>\n",
       "      <td>NaN</td>\n",
       "      <td>103.000000</td>\n",
       "      <td>1.000000</td>\n",
       "      <td>-1.000000</td>\n",
       "      <td>0.000000</td>\n",
       "      <td>NaN</td>\n",
       "      <td>NaN</td>\n",
       "      <td>1993-09-18 00:00:00</td>\n",
       "      <td>NaN</td>\n",
       "    </tr>\n",
       "    <tr>\n",
       "      <th>50%</th>\n",
       "      <td>NaN</td>\n",
       "      <td>3.000000</td>\n",
       "      <td>451.000000</td>\n",
       "      <td>39.000000</td>\n",
       "      <td>NaN</td>\n",
       "      <td>NaN</td>\n",
       "      <td>NaN</td>\n",
       "      <td>NaN</td>\n",
       "      <td>NaN</td>\n",
       "      <td>NaN</td>\n",
       "      <td>NaN</td>\n",
       "      <td>180.000000</td>\n",
       "      <td>2.000000</td>\n",
       "      <td>-1.000000</td>\n",
       "      <td>0.000000</td>\n",
       "      <td>NaN</td>\n",
       "      <td>NaN</td>\n",
       "      <td>1999-06-11 00:00:00</td>\n",
       "      <td>NaN</td>\n",
       "    </tr>\n",
       "    <tr>\n",
       "      <th>75%</th>\n",
       "      <td>NaN</td>\n",
       "      <td>4.000000</td>\n",
       "      <td>1438.000000</td>\n",
       "      <td>48.000000</td>\n",
       "      <td>NaN</td>\n",
       "      <td>NaN</td>\n",
       "      <td>NaN</td>\n",
       "      <td>NaN</td>\n",
       "      <td>NaN</td>\n",
       "      <td>NaN</td>\n",
       "      <td>NaN</td>\n",
       "      <td>319.000000</td>\n",
       "      <td>3.000000</td>\n",
       "      <td>-1.000000</td>\n",
       "      <td>0.000000</td>\n",
       "      <td>NaN</td>\n",
       "      <td>NaN</td>\n",
       "      <td>2005-03-18 00:00:00</td>\n",
       "      <td>NaN</td>\n",
       "    </tr>\n",
       "    <tr>\n",
       "      <th>max</th>\n",
       "      <td>NaN</td>\n",
       "      <td>20.000000</td>\n",
       "      <td>102127.000000</td>\n",
       "      <td>95.000000</td>\n",
       "      <td>NaN</td>\n",
       "      <td>NaN</td>\n",
       "      <td>NaN</td>\n",
       "      <td>NaN</td>\n",
       "      <td>NaN</td>\n",
       "      <td>NaN</td>\n",
       "      <td>NaN</td>\n",
       "      <td>4918.000000</td>\n",
       "      <td>63.000000</td>\n",
       "      <td>871.000000</td>\n",
       "      <td>275.000000</td>\n",
       "      <td>NaN</td>\n",
       "      <td>NaN</td>\n",
       "      <td>2010-11-30 00:00:00</td>\n",
       "      <td>NaN</td>\n",
       "    </tr>\n",
       "    <tr>\n",
       "      <th>std</th>\n",
       "      <td>NaN</td>\n",
       "      <td>3.814329</td>\n",
       "      <td>3063.412688</td>\n",
       "      <td>10.618653</td>\n",
       "      <td>NaN</td>\n",
       "      <td>NaN</td>\n",
       "      <td>NaN</td>\n",
       "      <td>NaN</td>\n",
       "      <td>NaN</td>\n",
       "      <td>NaN</td>\n",
       "      <td>NaN</td>\n",
       "      <td>257.525446</td>\n",
       "      <td>3.098076</td>\n",
       "      <td>100.130586</td>\n",
       "      <td>2.303489</td>\n",
       "      <td>NaN</td>\n",
       "      <td>NaN</td>\n",
       "      <td>NaN</td>\n",
       "      <td>NaN</td>\n",
       "    </tr>\n",
       "  </tbody>\n",
       "</table>\n",
       "</div>"
      ],
      "text/plain": [
       "                                     user_id  number_transactions  \\\n",
       "count                                  45209         35210.000000   \n",
       "unique                                 45209                  NaN   \n",
       "top     4bcd28d7-ef34-4a13-998d-2b50c9351b06                  NaN   \n",
       "freq                                       1                  NaN   \n",
       "mean                                     NaN             3.977052   \n",
       "min                                      NaN             1.000000   \n",
       "25%                                      NaN             2.000000   \n",
       "50%                                      NaN             3.000000   \n",
       "75%                                      NaN             4.000000   \n",
       "max                                      NaN            20.000000   \n",
       "std                                      NaN             3.814329   \n",
       "\n",
       "        total_amount_usd           age          job  marital  education  \\\n",
       "count       35210.000000  45209.000000        44921    45209      43352   \n",
       "unique               NaN           NaN           11        3          3   \n",
       "top                  NaN           NaN  blue-collar  married  secondary   \n",
       "freq                 NaN           NaN         9731    27212      23202   \n",
       "mean         1369.417751     40.935853          NaN      NaN        NaN   \n",
       "min         -8019.000000     18.000000          NaN      NaN        NaN   \n",
       "25%            73.000000     33.000000          NaN      NaN        NaN   \n",
       "50%           451.000000     39.000000          NaN      NaN        NaN   \n",
       "75%          1438.000000     48.000000          NaN      NaN        NaN   \n",
       "max        102127.000000     95.000000          NaN      NaN        NaN   \n",
       "std          3063.412688     10.618653          NaN      NaN        NaN   \n",
       "\n",
       "       default housing   loan   contact      duration      campaign  \\\n",
       "count    45209   45209  45209     32191  45209.000000  45209.000000   \n",
       "unique       2       2      2         2           NaN           NaN   \n",
       "top      False    True  False  cellular           NaN           NaN   \n",
       "freq     44394   25128  37965     29285           NaN           NaN   \n",
       "mean       NaN     NaN    NaN       NaN    258.153067      2.763897   \n",
       "min        NaN     NaN    NaN       NaN      0.000000      1.000000   \n",
       "25%        NaN     NaN    NaN       NaN    103.000000      1.000000   \n",
       "50%        NaN     NaN    NaN       NaN    180.000000      2.000000   \n",
       "75%        NaN     NaN    NaN       NaN    319.000000      3.000000   \n",
       "max        NaN     NaN    NaN       NaN   4918.000000     63.000000   \n",
       "std        NaN     NaN    NaN       NaN    257.525446      3.098076   \n",
       "\n",
       "               pdays      previous poutcome term_deposit  \\\n",
       "count   45209.000000  45209.000000     8252        45209   \n",
       "unique           NaN           NaN        3            2   \n",
       "top              NaN           NaN  failure        False   \n",
       "freq             NaN           NaN     4901        39920   \n",
       "mean       40.199651      0.580349      NaN          NaN   \n",
       "min        -1.000000      0.000000      NaN          NaN   \n",
       "25%        -1.000000      0.000000      NaN          NaN   \n",
       "50%        -1.000000      0.000000      NaN          NaN   \n",
       "75%        -1.000000      0.000000      NaN          NaN   \n",
       "max       871.000000    275.000000      NaN          NaN   \n",
       "std       100.130586      2.303489      NaN          NaN   \n",
       "\n",
       "                          date_joined  device  \n",
       "count                           45179   45115  \n",
       "unique                            NaN       3  \n",
       "top                               NaN  mobile  \n",
       "freq                              NaN   27504  \n",
       "mean    1999-06-14 21:54:38.558622336     NaN  \n",
       "min               1988-01-01 00:00:00     NaN  \n",
       "25%               1993-09-18 00:00:00     NaN  \n",
       "50%               1999-06-11 00:00:00     NaN  \n",
       "75%               2005-03-18 00:00:00     NaN  \n",
       "max               2010-11-30 00:00:00     NaN  \n",
       "std                               NaN     NaN  "
      ]
     },
     "execution_count": 14,
     "metadata": {},
     "output_type": "execute_result"
    }
   ],
   "source": [
    "user_data.describe(datetime_is_numeric=True,include='all')"
   ]
  },
  {
   "cell_type": "markdown",
   "id": "8f352450-1db3-4235-8f23-88c77ddd2062",
   "metadata": {},
   "source": [
    "# Generate modal values untuk semua data"
   ]
  },
  {
   "cell_type": "code",
   "execution_count": 15,
   "id": "4f716680-d067-46b7-910e-89eabfc3b81c",
   "metadata": {},
   "outputs": [
    {
     "data": {
      "text/html": [
       "<div>\n",
       "<style scoped>\n",
       "    .dataframe tbody tr th:only-of-type {\n",
       "        vertical-align: middle;\n",
       "    }\n",
       "\n",
       "    .dataframe tbody tr th {\n",
       "        vertical-align: top;\n",
       "    }\n",
       "\n",
       "    .dataframe thead th {\n",
       "        text-align: right;\n",
       "    }\n",
       "</style>\n",
       "<table border=\"1\" class=\"dataframe\">\n",
       "  <thead>\n",
       "    <tr style=\"text-align: right;\">\n",
       "      <th></th>\n",
       "      <th>number_transactions</th>\n",
       "      <th>total_amount_usd</th>\n",
       "      <th>age</th>\n",
       "      <th>job</th>\n",
       "      <th>marital</th>\n",
       "      <th>education</th>\n",
       "      <th>default</th>\n",
       "      <th>housing</th>\n",
       "      <th>loan</th>\n",
       "      <th>contact</th>\n",
       "      <th>duration</th>\n",
       "      <th>campaign</th>\n",
       "      <th>pdays</th>\n",
       "      <th>previous</th>\n",
       "      <th>poutcome</th>\n",
       "      <th>term_deposit</th>\n",
       "      <th>date_joined</th>\n",
       "      <th>device</th>\n",
       "    </tr>\n",
       "  </thead>\n",
       "  <tbody>\n",
       "    <tr>\n",
       "      <th>0</th>\n",
       "      <td>3.0</td>\n",
       "      <td>2143.0</td>\n",
       "      <td>58</td>\n",
       "      <td>management</td>\n",
       "      <td>married</td>\n",
       "      <td>tertiary</td>\n",
       "      <td>False</td>\n",
       "      <td>True</td>\n",
       "      <td>False</td>\n",
       "      <td>None</td>\n",
       "      <td>261</td>\n",
       "      <td>1</td>\n",
       "      <td>-1</td>\n",
       "      <td>0</td>\n",
       "      <td>None</td>\n",
       "      <td>False</td>\n",
       "      <td>1998-08-23</td>\n",
       "      <td>mobile</td>\n",
       "    </tr>\n",
       "    <tr>\n",
       "      <th>1</th>\n",
       "      <td>NaN</td>\n",
       "      <td>NaN</td>\n",
       "      <td>44</td>\n",
       "      <td>technician</td>\n",
       "      <td>single</td>\n",
       "      <td>secondary</td>\n",
       "      <td>False</td>\n",
       "      <td>True</td>\n",
       "      <td>False</td>\n",
       "      <td>None</td>\n",
       "      <td>151</td>\n",
       "      <td>1</td>\n",
       "      <td>-1</td>\n",
       "      <td>0</td>\n",
       "      <td>None</td>\n",
       "      <td>False</td>\n",
       "      <td>2008-07-15</td>\n",
       "      <td>desktop</td>\n",
       "    </tr>\n",
       "    <tr>\n",
       "      <th>2</th>\n",
       "      <td>2.0</td>\n",
       "      <td>2.0</td>\n",
       "      <td>33</td>\n",
       "      <td>entrepreneur</td>\n",
       "      <td>married</td>\n",
       "      <td>secondary</td>\n",
       "      <td>False</td>\n",
       "      <td>True</td>\n",
       "      <td>True</td>\n",
       "      <td>None</td>\n",
       "      <td>76</td>\n",
       "      <td>1</td>\n",
       "      <td>-1</td>\n",
       "      <td>0</td>\n",
       "      <td>None</td>\n",
       "      <td>False</td>\n",
       "      <td>2002-06-04</td>\n",
       "      <td>mobile</td>\n",
       "    </tr>\n",
       "    <tr>\n",
       "      <th>3</th>\n",
       "      <td>NaN</td>\n",
       "      <td>NaN</td>\n",
       "      <td>47</td>\n",
       "      <td>blue-collar</td>\n",
       "      <td>married</td>\n",
       "      <td>None</td>\n",
       "      <td>False</td>\n",
       "      <td>True</td>\n",
       "      <td>False</td>\n",
       "      <td>None</td>\n",
       "      <td>92</td>\n",
       "      <td>1</td>\n",
       "      <td>-1</td>\n",
       "      <td>0</td>\n",
       "      <td>None</td>\n",
       "      <td>False</td>\n",
       "      <td>1995-06-29</td>\n",
       "      <td>tablet</td>\n",
       "    </tr>\n",
       "    <tr>\n",
       "      <th>4</th>\n",
       "      <td>1.0</td>\n",
       "      <td>1.0</td>\n",
       "      <td>33</td>\n",
       "      <td>None</td>\n",
       "      <td>single</td>\n",
       "      <td>None</td>\n",
       "      <td>False</td>\n",
       "      <td>False</td>\n",
       "      <td>False</td>\n",
       "      <td>None</td>\n",
       "      <td>198</td>\n",
       "      <td>1</td>\n",
       "      <td>-1</td>\n",
       "      <td>0</td>\n",
       "      <td>None</td>\n",
       "      <td>False</td>\n",
       "      <td>1995-08-01</td>\n",
       "      <td>mobile</td>\n",
       "    </tr>\n",
       "    <tr>\n",
       "      <th>...</th>\n",
       "      <td>...</td>\n",
       "      <td>...</td>\n",
       "      <td>...</td>\n",
       "      <td>...</td>\n",
       "      <td>...</td>\n",
       "      <td>...</td>\n",
       "      <td>...</td>\n",
       "      <td>...</td>\n",
       "      <td>...</td>\n",
       "      <td>...</td>\n",
       "      <td>...</td>\n",
       "      <td>...</td>\n",
       "      <td>...</td>\n",
       "      <td>...</td>\n",
       "      <td>...</td>\n",
       "      <td>...</td>\n",
       "      <td>...</td>\n",
       "      <td>...</td>\n",
       "    </tr>\n",
       "    <tr>\n",
       "      <th>45211</th>\n",
       "      <td>2.0</td>\n",
       "      <td>825.0</td>\n",
       "      <td>51</td>\n",
       "      <td>technician</td>\n",
       "      <td>married</td>\n",
       "      <td>tertiary</td>\n",
       "      <td>False</td>\n",
       "      <td>False</td>\n",
       "      <td>False</td>\n",
       "      <td>cellular</td>\n",
       "      <td>977</td>\n",
       "      <td>3</td>\n",
       "      <td>-1</td>\n",
       "      <td>0</td>\n",
       "      <td>None</td>\n",
       "      <td>True</td>\n",
       "      <td>2002-12-28</td>\n",
       "      <td>desktop</td>\n",
       "    </tr>\n",
       "    <tr>\n",
       "      <th>45212</th>\n",
       "      <td>4.0</td>\n",
       "      <td>1729.0</td>\n",
       "      <td>71</td>\n",
       "      <td>retired</td>\n",
       "      <td>divorced</td>\n",
       "      <td>primary</td>\n",
       "      <td>False</td>\n",
       "      <td>False</td>\n",
       "      <td>False</td>\n",
       "      <td>cellular</td>\n",
       "      <td>456</td>\n",
       "      <td>2</td>\n",
       "      <td>-1</td>\n",
       "      <td>0</td>\n",
       "      <td>None</td>\n",
       "      <td>True</td>\n",
       "      <td>2010-11-18</td>\n",
       "      <td>desktop</td>\n",
       "    </tr>\n",
       "    <tr>\n",
       "      <th>45213</th>\n",
       "      <td>2.0</td>\n",
       "      <td>5715.0</td>\n",
       "      <td>72</td>\n",
       "      <td>retired</td>\n",
       "      <td>married</td>\n",
       "      <td>secondary</td>\n",
       "      <td>False</td>\n",
       "      <td>False</td>\n",
       "      <td>False</td>\n",
       "      <td>cellular</td>\n",
       "      <td>1127</td>\n",
       "      <td>5</td>\n",
       "      <td>184</td>\n",
       "      <td>3</td>\n",
       "      <td>success</td>\n",
       "      <td>True</td>\n",
       "      <td>1996-06-18</td>\n",
       "      <td>mobile</td>\n",
       "    </tr>\n",
       "    <tr>\n",
       "      <th>45214</th>\n",
       "      <td>NaN</td>\n",
       "      <td>NaN</td>\n",
       "      <td>57</td>\n",
       "      <td>blue-collar</td>\n",
       "      <td>married</td>\n",
       "      <td>secondary</td>\n",
       "      <td>False</td>\n",
       "      <td>False</td>\n",
       "      <td>False</td>\n",
       "      <td>telephone</td>\n",
       "      <td>508</td>\n",
       "      <td>4</td>\n",
       "      <td>-1</td>\n",
       "      <td>0</td>\n",
       "      <td>None</td>\n",
       "      <td>False</td>\n",
       "      <td>1996-09-14</td>\n",
       "      <td>desktop</td>\n",
       "    </tr>\n",
       "    <tr>\n",
       "      <th>45215</th>\n",
       "      <td>3.0</td>\n",
       "      <td>2971.0</td>\n",
       "      <td>37</td>\n",
       "      <td>entrepreneur</td>\n",
       "      <td>married</td>\n",
       "      <td>secondary</td>\n",
       "      <td>False</td>\n",
       "      <td>False</td>\n",
       "      <td>False</td>\n",
       "      <td>cellular</td>\n",
       "      <td>361</td>\n",
       "      <td>2</td>\n",
       "      <td>188</td>\n",
       "      <td>11</td>\n",
       "      <td>other</td>\n",
       "      <td>False</td>\n",
       "      <td>1994-04-28</td>\n",
       "      <td>mobile</td>\n",
       "    </tr>\n",
       "  </tbody>\n",
       "</table>\n",
       "<p>45209 rows × 18 columns</p>\n",
       "</div>"
      ],
      "text/plain": [
       "       number_transactions  total_amount_usd  age           job   marital  \\\n",
       "0                      3.0            2143.0   58    management   married   \n",
       "1                      NaN               NaN   44    technician    single   \n",
       "2                      2.0               2.0   33  entrepreneur   married   \n",
       "3                      NaN               NaN   47   blue-collar   married   \n",
       "4                      1.0               1.0   33          None    single   \n",
       "...                    ...               ...  ...           ...       ...   \n",
       "45211                  2.0             825.0   51    technician   married   \n",
       "45212                  4.0            1729.0   71       retired  divorced   \n",
       "45213                  2.0            5715.0   72       retired   married   \n",
       "45214                  NaN               NaN   57   blue-collar   married   \n",
       "45215                  3.0            2971.0   37  entrepreneur   married   \n",
       "\n",
       "       education  default  housing   loan    contact  duration  campaign  \\\n",
       "0       tertiary    False     True  False       None       261         1   \n",
       "1      secondary    False     True  False       None       151         1   \n",
       "2      secondary    False     True   True       None        76         1   \n",
       "3           None    False     True  False       None        92         1   \n",
       "4           None    False    False  False       None       198         1   \n",
       "...          ...      ...      ...    ...        ...       ...       ...   \n",
       "45211   tertiary    False    False  False   cellular       977         3   \n",
       "45212    primary    False    False  False   cellular       456         2   \n",
       "45213  secondary    False    False  False   cellular      1127         5   \n",
       "45214  secondary    False    False  False  telephone       508         4   \n",
       "45215  secondary    False    False  False   cellular       361         2   \n",
       "\n",
       "       pdays  previous poutcome  term_deposit date_joined   device  \n",
       "0         -1         0     None         False  1998-08-23   mobile  \n",
       "1         -1         0     None         False  2008-07-15  desktop  \n",
       "2         -1         0     None         False  2002-06-04   mobile  \n",
       "3         -1         0     None         False  1995-06-29   tablet  \n",
       "4         -1         0     None         False  1995-08-01   mobile  \n",
       "...      ...       ...      ...           ...         ...      ...  \n",
       "45211     -1         0     None          True  2002-12-28  desktop  \n",
       "45212     -1         0     None          True  2010-11-18  desktop  \n",
       "45213    184         3  success          True  1996-06-18   mobile  \n",
       "45214     -1         0     None         False  1996-09-14  desktop  \n",
       "45215    188        11    other         False  1994-04-28   mobile  \n",
       "\n",
       "[45209 rows x 18 columns]"
      ]
     },
     "execution_count": 15,
     "metadata": {},
     "output_type": "execute_result"
    }
   ],
   "source": [
    "#Drop user_id\n",
    "user_data.drop(['user_id'],axis=1)"
   ]
  },
  {
   "cell_type": "code",
   "execution_count": 16,
   "id": "faf4aa0a-7607-4555-8a5a-7cca99519c5d",
   "metadata": {},
   "outputs": [
    {
     "name": "stderr",
     "output_type": "stream",
     "text": [
      "<ipython-input-16-6a481bd6e07c>:2: FutureWarning: DataFrame.mean and DataFrame.median with numeric_only=None will include datetime64 and datetime64tz columns in a future version.\n",
      "  user_data.drop(['user_id'],axis=1).mean()\n"
     ]
    },
    {
     "data": {
      "text/plain": [
       "number_transactions       3.977052\n",
       "total_amount_usd       1369.417751\n",
       "age                      40.935853\n",
       "default                   0.018027\n",
       "housing                   0.555819\n",
       "loan                      0.160234\n",
       "duration                258.153067\n",
       "campaign                  2.763897\n",
       "pdays                    40.199651\n",
       "previous                  0.580349\n",
       "term_deposit              0.116990\n",
       "dtype: float64"
      ]
     },
     "execution_count": 16,
     "metadata": {},
     "output_type": "execute_result"
    }
   ],
   "source": [
    "#Drop user_id\n",
    "user_data.drop(['user_id'],axis=1).mean()"
   ]
  },
  {
   "cell_type": "markdown",
   "id": "86f97ec1-c340-4065-a42b-a3928bba8856",
   "metadata": {},
   "source": [
    "# Generate skewness dan kurtosis"
   ]
  },
  {
   "cell_type": "code",
   "execution_count": 17,
   "id": "5bbdf511-866a-43d4-a094-269c31502872",
   "metadata": {},
   "outputs": [
    {
     "data": {
      "text/plain": [
       "number_transactions     2.704543\n",
       "total_amount_usd        8.596128\n",
       "age                     0.684861\n",
       "default                 7.245206\n",
       "housing                -0.224686\n",
       "loan                    1.852545\n",
       "duration                3.144556\n",
       "campaign                4.898555\n",
       "pdays                   2.615635\n",
       "previous               41.845672\n",
       "term_deposit            2.383403\n",
       "dtype: float64"
      ]
     },
     "execution_count": 17,
     "metadata": {},
     "output_type": "execute_result"
    }
   ],
   "source": [
    "user_data.skew()"
   ]
  },
  {
   "cell_type": "code",
   "execution_count": 19,
   "id": "0b5371e7-734e-4adb-a64b-49474ef216d0",
   "metadata": {},
   "outputs": [
    {
     "data": {
      "text/plain": [
       "number_transactions       6.659034\n",
       "total_amount_usd        150.790967\n",
       "age                       0.319760\n",
       "default                  50.495241\n",
       "housing                  -1.949602\n",
       "loan                      1.431987\n",
       "duration                 18.155941\n",
       "campaign                 39.248145\n",
       "pdays                     6.934713\n",
       "previous               4506.684640\n",
       "term_deposit              3.680770\n",
       "dtype: float64"
      ]
     },
     "execution_count": 19,
     "metadata": {},
     "output_type": "execute_result"
    }
   ],
   "source": [
    "user_data.kurt()"
   ]
  },
  {
   "cell_type": "markdown",
   "id": "d829f5b2-3e95-4028-b8c2-eefb7570cd4c",
   "metadata": {},
   "source": [
    "# Plot histogram for all numerical columns"
   ]
  },
  {
   "cell_type": "code",
   "execution_count": 29,
   "id": "febb4804-21c2-4834-928f-8481a4e2cd38",
   "metadata": {},
   "outputs": [
    {
     "data": {
      "text/plain": [
       "array([[<AxesSubplot:title={'center':'number_transactions'}>,\n",
       "        <AxesSubplot:title={'center':'total_amount_usd'}>,\n",
       "        <AxesSubplot:title={'center':'age'}>],\n",
       "       [<AxesSubplot:title={'center':'duration'}>,\n",
       "        <AxesSubplot:title={'center':'campaign'}>,\n",
       "        <AxesSubplot:title={'center':'pdays'}>],\n",
       "       [<AxesSubplot:title={'center':'previous'}>,\n",
       "        <AxesSubplot:title={'center':'date_joined'}>, <AxesSubplot:>]],\n",
       "      dtype=object)"
      ]
     },
     "execution_count": 29,
     "metadata": {},
     "output_type": "execute_result"
    },
    {
     "data": {
      "image/png": "[encoded data removed]",
      "text/plain": [
       "<Figure size 1440x720 with 9 Axes>"
      ]
     },
     "metadata": {
      "needs_background": "light"
     },
     "output_type": "display_data"
    }
   ],
   "source": [
    "user_data_for_hist = \\\n",
    "user_data.select_dtypes(exclude=['bool'])\n",
    "user_data_for_hist.hist(figsize=(20,10),color = 'orange',edgecolor ='blue',grid=True)"
   ]
  },
  {
   "cell_type": "markdown",
   "id": "0f8156ec-eaa4-4ccf-b98f-dd7af42fe8d0",
   "metadata": {},
   "source": [
    "# Generate boxplot fitur usia"
   ]
  },
  {
   "cell_type": "code",
   "execution_count": 21,
   "id": "4f761c3b-44e4-4a3e-bb8c-bfdebe223d84",
   "metadata": {},
   "outputs": [
    {
     "data": {
      "text/plain": [
       "count    45209.000000\n",
       "mean        40.935853\n",
       "std         10.618653\n",
       "min         18.000000\n",
       "25%         33.000000\n",
       "50%         39.000000\n",
       "75%         48.000000\n",
       "max         95.000000\n",
       "Name: age, dtype: float64"
      ]
     },
     "execution_count": 21,
     "metadata": {},
     "output_type": "execute_result"
    }
   ],
   "source": [
    "user_data['age'].describe()"
   ]
  },
  {
   "cell_type": "code",
   "execution_count": 22,
   "id": "ec2e5e3c-b1e6-45fe-bfd1-56e3efef0d30",
   "metadata": {},
   "outputs": [
    {
     "data": {
      "text/plain": [
       "<AxesSubplot:xlabel='age'>"
      ]
     },
     "execution_count": 22,
     "metadata": {},
     "output_type": "execute_result"
    },
    {
     "data": {
      "image/png": "[encoded data removed]",
      "text/plain": [
       "<Figure size 432x144 with 1 Axes>"
      ]
     },
     "metadata": {
      "needs_background": "light"
     },
     "output_type": "display_data"
    }
   ],
   "source": [
    "plt.figure(figsize=(6,2))\n",
    "sns.boxplot(x=user_data['age'],color = 'violet',linewidth = 0.5)"
   ]
  },
  {
   "cell_type": "markdown",
   "id": "0edaf35e-eacb-4355-bbb0-edf85681fca5",
   "metadata": {},
   "source": [
    "# Violin plot --> hampir sama dengan boxplot namun dapat dilihat distribusi kepadatannya"
   ]
  },
  {
   "cell_type": "code",
   "execution_count": 23,
   "id": "06a6a87d-8bcd-4d28-a70c-da0c850f186b",
   "metadata": {},
   "outputs": [
    {
     "data": {
      "text/plain": [
       "<AxesSubplot:xlabel='age'>"
      ]
     },
     "execution_count": 23,
     "metadata": {},
     "output_type": "execute_result"
    },
    {
     "data": {
      "image/png": "[encoded data removed]",
      "text/plain": [
       "<Figure size 432x288 with 1 Axes>"
      ]
     },
     "metadata": {
      "needs_background": "light"
     },
     "output_type": "display_data"
    }
   ],
   "source": [
    "sns.violinplot(x=user_data['age'],color = 'orange',linewidth = 0.9)"
   ]
  },
  {
   "cell_type": "code",
   "execution_count": 24,
   "id": "72dbc4fd-a35a-4c86-8675-8ace1b794682",
   "metadata": {},
   "outputs": [
    {
     "data": {
      "text/plain": [
       "<AxesSubplot:xlabel='number_transactions'>"
      ]
     },
     "execution_count": 24,
     "metadata": {},
     "output_type": "execute_result"
    },
    {
     "data": {
      "image/png": "[encoded data removed]",
      "text/plain": [
       "<Figure size 432x288 with 1 Axes>"
      ]
     },
     "metadata": {
      "needs_background": "light"
     },
     "output_type": "display_data"
    }
   ],
   "source": [
    "sns.boxplot(x=user_data['number_transactions'],color = 'red',linewidth = 0.9)"
   ]
  },
  {
   "cell_type": "code",
   "execution_count": 30,
   "id": "e6bedb71-ac0e-4102-b5d6-652470a4d3e1",
   "metadata": {},
   "outputs": [
    {
     "data": {
      "text/plain": [
       "<AxesSubplot:xlabel='number_transactions'>"
      ]
     },
     "execution_count": 30,
     "metadata": {},
     "output_type": "execute_result"
    },
    {
     "data": {
      "image/png": "[encoded data removed]",
      "text/plain": [
       "<Figure size 432x288 with 1 Axes>"
      ]
     },
     "metadata": {
      "needs_background": "light"
     },
     "output_type": "display_data"
    }
   ],
   "source": [
    "sns.violinplot(x=user_data['number_transactions'],color = 'yellow',linewidth = 0.9)"
   ]
  },
  {
   "cell_type": "markdown",
   "id": "8dc41f79-e991-49d0-86f9-ebacb7eb9e74",
   "metadata": {},
   "source": [
    "# Generate a line plot "
   ]
  },
  {
   "cell_type": "code",
   "execution_count": 26,
   "id": "0f1dbd8b-0be2-4a31-9e21-2a5d8024214a",
   "metadata": {},
   "outputs": [
    {
     "data": {
      "image/png": "[encoded data removed]",
      "text/plain": [
       "<Figure size 432x288 with 1 Axes>"
      ]
     },
     "metadata": {
      "needs_background": "light"
     },
     "output_type": "display_data"
    }
   ],
   "source": [
    "tahun=user_data['date_joined'].dt.year\n",
    "sns.lineplot(data=user_data,x=tahun,y='total_amount_usd',estimator=np.mean);"
   ]
  },
  {
   "cell_type": "markdown",
   "id": "2cf2808c-1737-48ee-8c01-088678042328",
   "metadata": {},
   "source": [
    "# Generate scatter plot"
   ]
  },
  {
   "cell_type": "code",
   "execution_count": 27,
   "id": "677f51b7-b130-4d6a-b429-d484d871ecf5",
   "metadata": {},
   "outputs": [
    {
     "data": {
      "image/png": "[encoded data removed]",
      "text/plain": [
       "<Figure size 432x288 with 1 Axes>"
      ]
     },
     "metadata": {
      "needs_background": "light"
     },
     "output_type": "display_data"
    }
   ],
   "source": [
    "sns.scatterplot(data=user_data,x='total_amount_usd',y='number_transactions',hue='education');"
   ]
  },
  {
   "cell_type": "markdown",
   "id": "131284b6-cf7a-471f-b591-f8ded2c2d19c",
   "metadata": {},
   "source": [
    "# Generate bar chart"
   ]
  },
  {
   "cell_type": "code",
   "execution_count": 32,
   "id": "d0b74b06-6886-4eb6-a22e-77a2b97a69b3",
   "metadata": {},
   "outputs": [
    {
     "data": {
      "text/plain": [
       "Text(0.5, 1.0, 'Distribution Jobs')"
      ]
     },
     "execution_count": 32,
     "metadata": {},
     "output_type": "execute_result"
    },
    {
     "data": {
      "image/png": "[encoded data removed]",
      "text/plain": [
       "<Figure size 432x288 with 1 Axes>"
      ]
     },
     "metadata": {
      "needs_background": "light"
     },
     "output_type": "display_data"
    }
   ],
   "source": [
    "user_job_dist=\\\n",
    "user_data['job'].value_counts(dropna=False)\n",
    "user_job_dist\n",
    "user_job_dist.plot(color = 'green', kind ='bar')\n",
    "plt.title('Distribution Jobs')"
   ]
  },
  {
   "cell_type": "code",
   "execution_count": 29,
   "id": "bf4ffea9-e09f-44af-b6be-cd6fbaad58a7",
   "metadata": {},
   "outputs": [
    {
     "data": {
      "text/plain": [
       "Text(0.5, 1.0, 'Distribution Jobs')"
      ]
     },
     "execution_count": 29,
     "metadata": {},
     "output_type": "execute_result"
    },
    {
     "data": {
      "image/png": "[encoded data removed]",
      "text/plain": [
       "<Figure size 432x288 with 1 Axes>"
      ]
     },
     "metadata": {
      "needs_background": "light"
     },
     "output_type": "display_data"
    }
   ],
   "source": [
    "user_job_dist.plot(color = 'orange',kind='barh')\n",
    "plt.title('Distribution Jobs')"
   ]
  },
  {
   "cell_type": "code",
   "execution_count": 30,
   "id": "eec4b0ac-9513-43c2-bd21-5289b9b1a07f",
   "metadata": {},
   "outputs": [
    {
     "data": {
      "text/plain": [
       "Text(0.5, 1.0, 'Distribution Jobs')"
      ]
     },
     "execution_count": 30,
     "metadata": {},
     "output_type": "execute_result"
    },
    {
     "data": {
      "image/png": "[encoded data removed]",
      "text/plain": [
       "<Figure size 432x288 with 1 Axes>"
      ]
     },
     "metadata": {
      "needs_background": "light"
     },
     "output_type": "display_data"
    }
   ],
   "source": [
    "user_job_dist=\\\n",
    "user_data['job'].value_counts()\n",
    "user_job_dist\n",
    "user_job_dist.plot(color = 'red',kind='barh')\n",
    "plt.title('Distribution Jobs')"
   ]
  },
  {
   "cell_type": "code",
   "execution_count": 31,
   "id": "5f5d62d1-e02c-496d-80b7-769a85dc057e",
   "metadata": {},
   "outputs": [
    {
     "data": {
      "text/plain": [
       "married     27212\n",
       "single      12790\n",
       "divorced     5207\n",
       "Name: marital, dtype: int64"
      ]
     },
     "execution_count": 31,
     "metadata": {},
     "output_type": "execute_result"
    }
   ],
   "source": [
    "user_marital_dist=\\\n",
    "user_data['marital'].value_counts(dropna=False)\n",
    "user_marital_dist"
   ]
  },
  {
   "cell_type": "code",
   "execution_count": 32,
   "id": "eee3e74a-d24c-4174-9af3-234062332406",
   "metadata": {},
   "outputs": [
    {
     "data": {
      "text/plain": [
       "Text(0.5, 1.0, 'Distribution of Marital')"
      ]
     },
     "execution_count": 32,
     "metadata": {},
     "output_type": "execute_result"
    },
    {
     "data": {
      "image/png": "[encoded data removed]",
      "text/plain": [
       "<Figure size 432x288 with 1 Axes>"
      ]
     },
     "metadata": {
      "needs_background": "light"
     },
     "output_type": "display_data"
    }
   ],
   "source": [
    "user_marital_dist.plot(color = 'green',kind='bar')\n",
    "plt.title('Distribution of Marital')"
   ]
  },
  {
   "cell_type": "code",
   "execution_count": 33,
   "id": "82a0e941-b33f-406f-a1b6-129fa5a2129e",
   "metadata": {},
   "outputs": [
    {
     "data": {
      "text/plain": [
       "Text(0.5, 1.0, 'Contact Distribution')"
      ]
     },
     "execution_count": 33,
     "metadata": {},
     "output_type": "execute_result"
    },
    {
     "data": {
      "image/png": "[encoded data removed]",
      "text/plain": [
       "<Figure size 432x288 with 1 Axes>"
      ]
     },
     "metadata": {
      "needs_background": "light"
     },
     "output_type": "display_data"
    }
   ],
   "source": [
    "user_contact_dist=\\\n",
    "user_data['contact'].value_counts(dropna=False)\n",
    "user_contact_dist\n",
    "user_contact_dist.plot(color = 'violet',kind='bar')\n",
    "plt.title('Contact Distribution')"
   ]
  },
  {
   "cell_type": "code",
   "execution_count": 34,
   "id": "15f42bc8-a637-4b46-84ea-3fb4e5b938f9",
   "metadata": {},
   "outputs": [
    {
     "data": {
      "text/plain": [
       "Text(0.5, 1.0, 'Default Distribution')"
      ]
     },
     "execution_count": 34,
     "metadata": {},
     "output_type": "execute_result"
    },
    {
     "data": {
      "image/png": "[encoded data removed]",
      "text/plain": [
       "<Figure size 432x288 with 1 Axes>"
      ]
     },
     "metadata": {
      "needs_background": "light"
     },
     "output_type": "display_data"
    }
   ],
   "source": [
    "user_default_dist=\\\n",
    "user_data['default'].value_counts(dropna=False)\n",
    "user_default_dist\n",
    "user_default_dist.plot(color = 'orange',kind='bar')\n",
    "plt.title('Default Distribution')"
   ]
  },
  {
   "cell_type": "code",
   "execution_count": 35,
   "id": "a51c2b79-2de1-4134-8544-1d1e050720f8",
   "metadata": {},
   "outputs": [
    {
     "data": {
      "text/plain": [
       "Text(0.5, 1.0, 'Device Distribution')"
      ]
     },
     "execution_count": 35,
     "metadata": {},
     "output_type": "execute_result"
    },
    {
     "data": {
      "image/png": "[encoded data removed]",
      "text/plain": [
       "<Figure size 432x288 with 1 Axes>"
      ]
     },
     "metadata": {
      "needs_background": "light"
     },
     "output_type": "display_data"
    }
   ],
   "source": [
    "user_device_dist=\\\n",
    "user_data['device'].value_counts(dropna=False)\n",
    "user_device_dist\n",
    "user_device_dist.plot(color = 'green',kind='bar',alpha=0.5,edgecolor='black')\n",
    "plt.xlabel('Device Name',size = 12, weight='bold')\n",
    "plt.ylabel('Freq.',size = 12, weight='bold')\n",
    "plt.title('Device Distribution')"
   ]
  },
  {
   "cell_type": "markdown",
   "id": "3f60bfdf-3829-4941-a9e0-694afbf15cb9",
   "metadata": {},
   "source": [
    "# Matriks Korelasi dengan Heatmap"
   ]
  },
  {
   "cell_type": "code",
   "execution_count": 36,
   "id": "b341af60-ae60-4631-ac92-49391c5837cd",
   "metadata": {},
   "outputs": [
    {
     "data": {
      "text/plain": [
       "<AxesSubplot:>"
      ]
     },
     "execution_count": 36,
     "metadata": {},
     "output_type": "execute_result"
    },
    {
     "data": {
      "image/png": "[encoded data removed]",
      "text/plain": [
       "<Figure size 720x540 with 2 Axes>"
      ]
     },
     "metadata": {
      "needs_background": "light"
     },
     "output_type": "display_data"
    }
   ],
   "source": [
    "corr_matrix=user_data.corr()\n",
    "corr_matrix\n",
    "fig = plt.figure(figsize=(10,7.5))\n",
    "sns.heatmap(corr_matrix)"
   ]
  },
  {
   "cell_type": "code",
   "execution_count": 37,
   "id": "cf266958-f3e1-4e18-8c4f-61d6db363c2e",
   "metadata": {},
   "outputs": [
    {
     "data": {
      "text/plain": [
       "Text(0.5, 1.0, 'Correlation Plot')"
      ]
     },
     "execution_count": 37,
     "metadata": {},
     "output_type": "execute_result"
    },
    {
     "data": {
      "image/png": "[encoded data removed]",
      "text/plain": [
       "<Figure size 432x288 with 2 Axes>"
      ]
     },
     "metadata": {
      "needs_background": "light"
     },
     "output_type": "display_data"
    }
   ],
   "source": [
    "sns.heatmap(corr_matrix,\n",
    "           cmap='seismic',\n",
    "           linewidths=0.75,\n",
    "           linecolor='black',\n",
    "           cbar=True,\n",
    "           vmin=-1,\n",
    "           vmax=1,\n",
    "           annot=True,\n",
    "           annot_kws={'size':8,'color':'black'})\n",
    "plt.tick_params(labelsize=10,rotation=45)\n",
    "plt.title('Correlation Plot',size=14)"
   ]
  },
  {
   "cell_type": "markdown",
   "id": "b958ee72-b053-4b84-95db-726663ebab1c",
   "metadata": {},
   "source": [
    "# Identify Missing Values"
   ]
  },
  {
   "cell_type": "code",
   "execution_count": 38,
   "id": "f728ab4c-eae3-43d1-8b7c-76b071a6182e",
   "metadata": {},
   "outputs": [
    {
     "data": {
      "text/plain": [
       "user_id                    0\n",
       "number_transactions     9999\n",
       "total_amount_usd        9999\n",
       "age                        0\n",
       "job                      288\n",
       "marital                    0\n",
       "education               1857\n",
       "default                    0\n",
       "housing                    0\n",
       "loan                       0\n",
       "contact                13018\n",
       "duration                   0\n",
       "campaign                   0\n",
       "pdays                      0\n",
       "previous                   0\n",
       "poutcome               36957\n",
       "term_deposit               0\n",
       "date_joined               30\n",
       "device                    94\n",
       "dtype: int64"
      ]
     },
     "execution_count": 38,
     "metadata": {},
     "output_type": "execute_result"
    }
   ],
   "source": [
    "user_data.isnull().sum()"
   ]
  },
  {
   "cell_type": "markdown",
   "id": "ad939080-e5f7-46bf-915d-baded06f2ad1",
   "metadata": {},
   "source": [
    "## Identify the percentage of missing values for each feature"
   ]
  },
  {
   "cell_type": "code",
   "execution_count": 39,
   "id": "f283411f-3c27-4aec-b4b5-eaf84069733f",
   "metadata": {},
   "outputs": [
    {
     "data": {
      "text/plain": [
       "user_id                0.000000\n",
       "number_transactions    0.221173\n",
       "total_amount_usd       0.221173\n",
       "age                    0.000000\n",
       "job                    0.006370\n",
       "marital                0.000000\n",
       "education              0.041076\n",
       "default                0.000000\n",
       "housing                0.000000\n",
       "loan                   0.000000\n",
       "contact                0.287952\n",
       "duration               0.000000\n",
       "campaign               0.000000\n",
       "pdays                  0.000000\n",
       "previous               0.000000\n",
       "poutcome               0.817470\n",
       "term_deposit           0.000000\n",
       "date_joined            0.000664\n",
       "device                 0.002079\n",
       "dtype: float64"
      ]
     },
     "execution_count": 39,
     "metadata": {},
     "output_type": "execute_result"
    }
   ],
   "source": [
    "percent_missing = user_data.isnull().mean() \n",
    "\n",
    "percent_missing"
   ]
  },
  {
   "cell_type": "markdown",
   "id": "37093fdd-17e8-400b-afb1-6b06aa00c79e",
   "metadata": {},
   "source": [
    "## Generate a missing value report"
   ]
  },
  {
   "cell_type": "code",
   "execution_count": 35,
   "id": "1fd031ac-ff4c-43f0-b39f-a3e0704dfb8e",
   "metadata": {},
   "outputs": [],
   "source": [
    "def missing_value_pct_df(data):\n",
    "    \"\"\"Create a DataFrame to summarize missing values.\"\"\"\n",
    "  \n",
    "    percent_missing = data.isnull().mean() \n",
    "    missing_value_df = \\\n",
    "    pd.DataFrame(percent_missing).reset_index()\n",
    "    \n",
    "    missing_value_df = \\\n",
    "    missing_value_df.rename(columns = {'index': 'column_name',\n",
    "                                       0: 'percent_missing'})\n",
    "\n",
    "    # Multiply by 100 and round to 4 decimal places.\n",
    "    missing_value_df['percent_missing'] = \\\n",
    "    missing_value_df['percent_missing']. \\\n",
    "    apply(lambda x: round(x * 100, 2)) \n",
    "\n",
    "    missing_value_df = \\\n",
    "    missing_value_df.sort_values(by = ['percent_missing'],\n",
    "                                 ascending = False)\n",
    "\n",
    "    return missing_value_df"
   ]
  },
  {
   "cell_type": "code",
   "execution_count": 36,
   "id": "769847d7-05e8-4aa2-86e4-b434c22e5823",
   "metadata": {},
   "outputs": [
    {
     "data": {
      "text/html": [
       "<div>\n",
       "<style scoped>\n",
       "    .dataframe tbody tr th:only-of-type {\n",
       "        vertical-align: middle;\n",
       "    }\n",
       "\n",
       "    .dataframe tbody tr th {\n",
       "        vertical-align: top;\n",
       "    }\n",
       "\n",
       "    .dataframe thead th {\n",
       "        text-align: right;\n",
       "    }\n",
       "</style>\n",
       "<table border=\"1\" class=\"dataframe\">\n",
       "  <thead>\n",
       "    <tr style=\"text-align: right;\">\n",
       "      <th></th>\n",
       "      <th>column_name</th>\n",
       "      <th>percent_missing</th>\n",
       "    </tr>\n",
       "  </thead>\n",
       "  <tbody>\n",
       "    <tr>\n",
       "      <th>15</th>\n",
       "      <td>poutcome</td>\n",
       "      <td>81.75</td>\n",
       "    </tr>\n",
       "    <tr>\n",
       "      <th>10</th>\n",
       "      <td>contact</td>\n",
       "      <td>28.80</td>\n",
       "    </tr>\n",
       "    <tr>\n",
       "      <th>2</th>\n",
       "      <td>total_amount_usd</td>\n",
       "      <td>22.12</td>\n",
       "    </tr>\n",
       "    <tr>\n",
       "      <th>1</th>\n",
       "      <td>number_transactions</td>\n",
       "      <td>22.12</td>\n",
       "    </tr>\n",
       "    <tr>\n",
       "      <th>6</th>\n",
       "      <td>education</td>\n",
       "      <td>4.11</td>\n",
       "    </tr>\n",
       "    <tr>\n",
       "      <th>4</th>\n",
       "      <td>job</td>\n",
       "      <td>0.64</td>\n",
       "    </tr>\n",
       "    <tr>\n",
       "      <th>18</th>\n",
       "      <td>device</td>\n",
       "      <td>0.21</td>\n",
       "    </tr>\n",
       "    <tr>\n",
       "      <th>17</th>\n",
       "      <td>date_joined</td>\n",
       "      <td>0.07</td>\n",
       "    </tr>\n",
       "    <tr>\n",
       "      <th>12</th>\n",
       "      <td>campaign</td>\n",
       "      <td>0.00</td>\n",
       "    </tr>\n",
       "    <tr>\n",
       "      <th>16</th>\n",
       "      <td>term_deposit</td>\n",
       "      <td>0.00</td>\n",
       "    </tr>\n",
       "    <tr>\n",
       "      <th>14</th>\n",
       "      <td>previous</td>\n",
       "      <td>0.00</td>\n",
       "    </tr>\n",
       "    <tr>\n",
       "      <th>13</th>\n",
       "      <td>pdays</td>\n",
       "      <td>0.00</td>\n",
       "    </tr>\n",
       "    <tr>\n",
       "      <th>0</th>\n",
       "      <td>user_id</td>\n",
       "      <td>0.00</td>\n",
       "    </tr>\n",
       "    <tr>\n",
       "      <th>11</th>\n",
       "      <td>duration</td>\n",
       "      <td>0.00</td>\n",
       "    </tr>\n",
       "    <tr>\n",
       "      <th>8</th>\n",
       "      <td>housing</td>\n",
       "      <td>0.00</td>\n",
       "    </tr>\n",
       "    <tr>\n",
       "      <th>7</th>\n",
       "      <td>default</td>\n",
       "      <td>0.00</td>\n",
       "    </tr>\n",
       "    <tr>\n",
       "      <th>5</th>\n",
       "      <td>marital</td>\n",
       "      <td>0.00</td>\n",
       "    </tr>\n",
       "    <tr>\n",
       "      <th>3</th>\n",
       "      <td>age</td>\n",
       "      <td>0.00</td>\n",
       "    </tr>\n",
       "    <tr>\n",
       "      <th>9</th>\n",
       "      <td>loan</td>\n",
       "      <td>0.00</td>\n",
       "    </tr>\n",
       "  </tbody>\n",
       "</table>\n",
       "</div>"
      ],
      "text/plain": [
       "            column_name  percent_missing\n",
       "15             poutcome            81.75\n",
       "10              contact            28.80\n",
       "2      total_amount_usd            22.12\n",
       "1   number_transactions            22.12\n",
       "6             education             4.11\n",
       "4                   job             0.64\n",
       "18               device             0.21\n",
       "17          date_joined             0.07\n",
       "12             campaign             0.00\n",
       "16         term_deposit             0.00\n",
       "14             previous             0.00\n",
       "13                pdays             0.00\n",
       "0               user_id             0.00\n",
       "11             duration             0.00\n",
       "8               housing             0.00\n",
       "7               default             0.00\n",
       "5               marital             0.00\n",
       "3                   age             0.00\n",
       "9                  loan             0.00"
      ]
     },
     "execution_count": 36,
     "metadata": {},
     "output_type": "execute_result"
    }
   ],
   "source": [
    "missing_value_df = missing_value_pct_df(user_data)\n",
    "\n",
    "missing_value_df"
   ]
  },
  {
   "cell_type": "markdown",
   "id": "54d52575-faae-4e0e-b7bd-1525f4a9eb28",
   "metadata": {},
   "source": [
    "## Remove features with a high percentage of missing values"
   ]
  },
  {
   "cell_type": "code",
   "execution_count": 40,
   "id": "b47ef30c-52cf-4baf-8665-dc96f9b14d71",
   "metadata": {},
   "outputs": [
    {
     "name": "stdout",
     "output_type": "stream",
     "text": [
      "Number of features to drop: 0\n",
      "Features with missing values greater than 80%: []\n"
     ]
    }
   ],
   "source": [
    "# Threshold above which to drop feature.\n",
    "\n",
    "threshold = 80\n",
    "\n",
    "cols_to_drop = \\\n",
    "list(missing_value_df[missing_value_df['percent_missing'] \\\n",
    "                      > threshold]['column_name'])\n",
    "\n",
    "print('Number of features to drop:',\n",
    "      missing_value_df[ \\\n",
    "      missing_value_df['percent_missing'] > threshold].shape[0])\n",
    "\n",
    "print(f'Features with missing values greater than {threshold}%:',\n",
    "      cols_to_drop)"
   ]
  },
  {
   "cell_type": "code",
   "execution_count": 38,
   "id": "44d6a442-66f5-46bd-b417-9d1249241b1e",
   "metadata": {},
   "outputs": [],
   "source": [
    "user_data_cleaned = user_data.drop(cols_to_drop, axis = 1)"
   ]
  },
  {
   "cell_type": "code",
   "execution_count": 39,
   "id": "03b15340-1016-4232-8ea7-33cd1dbdd347",
   "metadata": {},
   "outputs": [
    {
     "name": "stdout",
     "output_type": "stream",
     "text": [
      "Number of features with missing values: 7\n"
     ]
    }
   ],
   "source": [
    "# Confirm feature was dropped.\n",
    "\n",
    "missing_value_df = missing_value_pct_df(user_data_cleaned)\n",
    "\n",
    "missing_columns = \\\n",
    "list(missing_value_df[missing_value_df['percent_missing'] \\\n",
    "                      > 0]['column_name'])\n",
    "\n",
    "print('Number of features with missing values:',\n",
    "      len(missing_columns))"
   ]
  },
  {
   "cell_type": "markdown",
   "id": "4d021d60-e47d-4d67-8c3e-1d52e20f664e",
   "metadata": {},
   "source": [
    "## Identify numerical data with missing values"
   ]
  },
  {
   "cell_type": "code",
   "execution_count": 41,
   "id": "ed9e8fac-d5a5-4251-90c6-06f8febd710d",
   "metadata": {},
   "outputs": [
    {
     "name": "stdout",
     "output_type": "stream",
     "text": [
      "Numerical features with missing values: ['total_amount_usd', 'number_transactions']\n"
     ]
    }
   ],
   "source": [
    "dtypes = ['int64', 'float64']\n",
    "\n",
    "numerical_columns = \\\n",
    "list(user_data_cleaned.select_dtypes(dtypes).columns)\n",
    "\n",
    "print('Numerical features with missing values:',\n",
    "      list(set(numerical_columns).intersection(missing_columns)))"
   ]
  },
  {
   "cell_type": "markdown",
   "id": "f7ffa705-2bde-4731-a43a-e8a309590e15",
   "metadata": {},
   "source": [
    "## Impute missing data values for total_amount_usd"
   ]
  },
  {
   "cell_type": "code",
   "execution_count": 47,
   "id": "01acd78b-e98b-4722-8257-9e779c93b5d0",
   "metadata": {},
   "outputs": [
    {
     "data": {
      "text/plain": [
       "11336    c3c9b0f8-6a5c-46eb-abf8-71896c7149e2\n",
       "Name: user_id, dtype: object"
      ]
     },
     "execution_count": 47,
     "metadata": {},
     "output_type": "execute_result"
    }
   ],
   "source": [
    "# Find a sample user with missing value\n",
    "\n",
    "sample_user = \\\n",
    "user_data_cleaned[user_data_cleaned['total_amount_usd']. \\\n",
    "                   isnull()].sample(1).user_id\n",
    "\n",
    "sample_user"
   ]
  },
  {
   "cell_type": "code",
   "execution_count": 42,
   "id": "57924165-b961-4d6d-add2-13bea56afe19",
   "metadata": {},
   "outputs": [
    {
     "name": "stdout",
     "output_type": "stream",
     "text": [
      "Mean total_amount_usd: 1369.42\n"
     ]
    }
   ],
   "source": [
    "# Print mean of total_amount_usd.\n",
    "\n",
    "print('Mean total_amount_usd:',\n",
    "      round(user_data_cleaned['total_amount_usd'].mean(), 2))\n",
    "\n",
    "# Impute missing values for total_amount_usd with mean.\n",
    "\n",
    "user_data_cleaned['total_amount_usd']. \\\n",
    "fillna(round(user_data_cleaned['total_amount_usd'].mean(), 2), \n",
    "       inplace = True)"
   ]
  },
  {
   "cell_type": "code",
   "execution_count": 43,
   "id": "1f4929c5-d146-4cfd-bf95-3e66fccf7917",
   "metadata": {},
   "outputs": [
    {
     "name": "stdout",
     "output_type": "stream",
     "text": [
      "0        2143.00\n",
      "1        1369.42\n",
      "2           2.00\n",
      "3        1369.42\n",
      "4           1.00\n",
      "          ...   \n",
      "45211     825.00\n",
      "45212    1729.00\n",
      "45213    5715.00\n",
      "45214    1369.42\n",
      "45215    2971.00\n",
      "Name: total_amount_usd, Length: 45209, dtype: float64\n"
     ]
    }
   ],
   "source": [
    "print(user_data_cleaned['total_amount_usd'])"
   ]
  },
  {
   "cell_type": "code",
   "execution_count": 49,
   "id": "09269300-bace-4b66-baac-f169c4503e92",
   "metadata": {},
   "outputs": [
    {
     "data": {
      "text/plain": [
       "11336    1369.42\n",
       "Name: total_amount_usd, dtype: float64"
      ]
     },
     "execution_count": 49,
     "metadata": {},
     "output_type": "execute_result"
    }
   ],
   "source": [
    "user_data_cleaned[user_data_cleaned. \\\n",
    "                   user_id.isin(sample_user)]['total_amount_usd']"
   ]
  },
  {
   "cell_type": "markdown",
   "id": "fee50936-7a03-430a-94b6-5d2f028607c1",
   "metadata": {},
   "source": [
    "## Replace missing values for number_transactions with 0"
   ]
  },
  {
   "cell_type": "code",
   "execution_count": 50,
   "id": "f14603a2-88b7-49d2-9a5f-4d371a4dc669",
   "metadata": {},
   "outputs": [],
   "source": [
    "user_data_cleaned['number_transactions']. \\\n",
    "fillna(0, inplace = True)"
   ]
  },
  {
   "cell_type": "code",
   "execution_count": 51,
   "id": "a558bfeb-4934-4f0a-a225-13742ad7a98a",
   "metadata": {},
   "outputs": [
    {
     "data": {
      "text/plain": [
       "11336    0.0\n",
       "Name: number_transactions, dtype: float64"
      ]
     },
     "execution_count": 51,
     "metadata": {},
     "output_type": "execute_result"
    }
   ],
   "source": [
    "user_data_cleaned[user_data_cleaned. \\\n",
    "                   user_id.isin(sample_user)]['number_transactions']"
   ]
  },
  {
   "cell_type": "markdown",
   "id": "60909ae7-b2fe-43d0-a207-e83bbd95a2ec",
   "metadata": {},
   "source": [
    "## Identify categorical data with missing values"
   ]
  },
  {
   "cell_type": "code",
   "execution_count": 52,
   "id": "f2813aca-efdf-4b57-936a-e0ed773750d9",
   "metadata": {},
   "outputs": [
    {
     "name": "stdout",
     "output_type": "stream",
     "text": [
      "Categorical features with missing values: ['job', 'education', 'device', 'contact']\n"
     ]
    }
   ],
   "source": [
    "categorical_columns = \\\n",
    "list(user_data_cleaned.select_dtypes(['object']).columns)\n",
    "\n",
    "print('Categorical features with missing values:',\n",
    "      list(set(categorical_columns).intersection(missing_columns)))"
   ]
  },
  {
   "cell_type": "markdown",
   "id": "9af8564d-e56b-4698-b760-8f75a5fe32c2",
   "metadata": {},
   "source": [
    "## Replace categorical missing values with 'Unknown'"
   ]
  },
  {
   "cell_type": "code",
   "execution_count": 44,
   "id": "4c687319-7406-406d-9fef-5de8f098696d",
   "metadata": {},
   "outputs": [],
   "source": [
    "user_data_cleaned.device.fillna('Unknown', inplace = True)\n",
    "user_data_cleaned.education.fillna('Unknown', inplace = True)\n",
    "user_data_cleaned.contact.fillna('Unknown', inplace = True)\n",
    "user_data_cleaned.job.fillna('Unknown', inplace = True)"
   ]
  },
  {
   "cell_type": "code",
   "execution_count": 45,
   "id": "757d6ece-552b-4697-924d-cdfd088036cc",
   "metadata": {},
   "outputs": [
    {
     "data": {
      "text/plain": [
       "mobile     27504\n",
       "desktop    12112\n",
       "tablet      5499\n",
       "Unknown       94\n",
       "Name: device, dtype: int64"
      ]
     },
     "execution_count": 45,
     "metadata": {},
     "output_type": "execute_result"
    }
   ],
   "source": [
    "user_data_cleaned.device.value_counts()"
   ]
  },
  {
   "cell_type": "markdown",
   "id": "eaf14d14-2e7c-40b5-9c32-9d7c2d1b5e26",
   "metadata": {},
   "source": [
    "## Check if there are any other missing values"
   ]
  },
  {
   "cell_type": "code",
   "execution_count": 46,
   "id": "5daf4a74-4411-4738-9723-cd60705f9e91",
   "metadata": {},
   "outputs": [
    {
     "name": "stdout",
     "output_type": "stream",
     "text": [
      "Number of features with missing values: 2\n",
      "Features with missing values: ['number_transactions', 'date_joined']\n"
     ]
    }
   ],
   "source": [
    "missing_value_df = missing_value_pct_df(user_data_cleaned)\n",
    "missing_columns = \\\n",
    "list(missing_value_df[missing_value_df['percent_missing'] \\\n",
    "                      > 0]['column_name'])\n",
    "\n",
    "print('Number of features with missing values:', len(missing_columns))\n",
    "print('Features with missing values:', missing_columns)"
   ]
  },
  {
   "cell_type": "markdown",
   "id": "8979c2f1-c436-4e16-8edf-346f92e01020",
   "metadata": {},
   "source": [
    "## Remove all rows where date_joined is missing"
   ]
  },
  {
   "cell_type": "code",
   "execution_count": 49,
   "id": "7f83a760-f2f2-4b74-b6eb-9b12389617b2",
   "metadata": {},
   "outputs": [
    {
     "name": "stdout",
     "output_type": "stream",
     "text": [
      "Number of users with corrupted data: 30\n"
     ]
    }
   ],
   "source": [
    "print('Number of users with corrupted data:',\n",
    "      user_data_cleaned[user_data_cleaned['date_joined']. \\\n",
    "                         isnull()].shape[0])"
   ]
  },
  {
   "cell_type": "code",
   "execution_count": 50,
   "id": "102f638f-3656-47ef-8098-2cbdd011d29e",
   "metadata": {},
   "outputs": [
    {
     "ename": "NameError",
     "evalue": "name 'users_data_cleaned' is not defined",
     "output_type": "error",
     "traceback": [
      "\u001b[1;31m---------------------------------------------------------------------------\u001b[0m",
      "\u001b[1;31mNameError\u001b[0m                                 Traceback (most recent call last)",
      "\u001b[1;32m<ipython-input-50-70dcd74f0fcc>\u001b[0m in \u001b[0;36m<module>\u001b[1;34m\u001b[0m\n\u001b[0;32m      2\u001b[0m \u001b[1;33m\u001b[0m\u001b[0m\n\u001b[0;32m      3\u001b[0m \u001b[0musers_data_cleaned\u001b[0m \u001b[1;33m=\u001b[0m\u001b[0;31m \u001b[0m\u001b[0;31m\\\u001b[0m\u001b[1;33m\u001b[0m\u001b[1;33m\u001b[0m\u001b[0m\n\u001b[1;32m----> 4\u001b[1;33m \u001b[0musers_data_cleaned\u001b[0m\u001b[1;33m[\u001b[0m\u001b[1;33m~\u001b[0m\u001b[0muser_data_cleaned\u001b[0m\u001b[1;33m[\u001b[0m\u001b[1;34m'date_joined'\u001b[0m\u001b[1;33m]\u001b[0m\u001b[1;33m.\u001b[0m\u001b[0misnull\u001b[0m\u001b[1;33m(\u001b[0m\u001b[1;33m)\u001b[0m\u001b[1;33m]\u001b[0m\u001b[1;33m\u001b[0m\u001b[1;33m\u001b[0m\u001b[0m\n\u001b[0m",
      "\u001b[1;31mNameError\u001b[0m: name 'users_data_cleaned' is not defined"
     ]
    }
   ],
   "source": [
    "# Remove corrupted data.\n",
    "\n",
    "users_data_cleaned = \\\n",
    "users_data_cleaned[~user_data_cleaned['date_joined'].isnull()]"
   ]
  },
  {
   "cell_type": "code",
   "execution_count": 53,
   "id": "569a8847-a95a-4981-a77a-7e21f4b0982e",
   "metadata": {},
   "outputs": [
    {
     "name": "stdout",
     "output_type": "stream",
     "text": [
      "Number of users with corrupted data: 30\n"
     ]
    }
   ],
   "source": [
    "# Check to see if any corrupted rows remain.\n",
    "\n",
    "print('Number of users with corrupted data:',\n",
    "      user_data_cleaned[user_data_cleaned['date_joined']. \\\n",
    "                         isnull()].shape[0])"
   ]
  },
  {
   "cell_type": "markdown",
   "id": "d6bd5732-f4c0-4045-9151-1bdcaca37337",
   "metadata": {},
   "source": [
    "## Perform one last check for missing values"
   ]
  },
  {
   "cell_type": "code",
   "execution_count": 54,
   "id": "6af86a71-5ef0-4421-9e5f-8be4a4b4750f",
   "metadata": {},
   "outputs": [
    {
     "name": "stdout",
     "output_type": "stream",
     "text": [
      "Number of features with missing values: 2\n"
     ]
    }
   ],
   "source": [
    "missing_value_df = missing_value_pct_df(user_data_cleaned)\n",
    "missing_columns = \\\n",
    "list(missing_value_df[missing_value_df['percent_missing'] \\\n",
    "                      > 0]['column_name'])\n",
    "\n",
    "print('Number of features with missing values:',\n",
    "      len(missing_columns))"
   ]
  },
  {
   "cell_type": "markdown",
   "id": "8868e216-28b3-4f9c-8e51-58bb2b2d4ee9",
   "metadata": {},
   "source": [
    "## View the distribution of age"
   ]
  },
  {
   "cell_type": "code",
   "execution_count": 55,
   "id": "fd572df1-68fd-4b44-a98a-927c38f2f34d",
   "metadata": {},
   "outputs": [
    {
     "data": {
      "image/png": "[encoded data removed]",
      "text/plain": [
       "<Figure size 432x288 with 1 Axes>"
      ]
     },
     "metadata": {
      "needs_background": "light"
     },
     "output_type": "display_data"
    }
   ],
   "source": [
    "user_data_cleaned['age'].hist(color='green')\n",
    "plt.title('Original Distribution of Age');"
   ]
  },
  {
   "cell_type": "markdown",
   "id": "ceac5111-2764-47c0-8b4e-62f9101d96ca",
   "metadata": {},
   "source": [
    "## Apply a log transformation to age"
   ]
  },
  {
   "cell_type": "code",
   "execution_count": 56,
   "id": "6f502a20-cd0c-40f1-9f95-ded091550bbd",
   "metadata": {},
   "outputs": [
    {
     "data": {
      "image/png": "[encoded data removed]",
      "text/plain": [
       "<Figure size 432x288 with 1 Axes>"
      ]
     },
     "metadata": {
      "needs_background": "light"
     },
     "output_type": "display_data"
    }
   ],
   "source": [
    "np.log(user_data_cleaned['age']).hist()\n",
    "plt.title('Log Transformation of Age');"
   ]
  },
  {
   "cell_type": "markdown",
   "id": "e64fd00c-93f4-4f89-85d9-3f207b456b3d",
   "metadata": {},
   "source": [
    "## Apply a Box–Cox transformation to age"
   ]
  },
  {
   "cell_type": "code",
   "execution_count": 57,
   "id": "d5fac0de-c7f4-4893-b992-b7e9c02979e7",
   "metadata": {},
   "outputs": [
    {
     "data": {
      "image/png": "[encoded data removed]",
      "text/plain": [
       "<Figure size 432x288 with 1 Axes>"
      ]
     },
     "metadata": {
      "needs_background": "light"
     },
     "output_type": "display_data"
    }
   ],
   "source": [
    "pd.Series(stats.boxcox(user_data_cleaned['age'])[0]).hist()\n",
    "plt.title('Box–Cox Transformation of Age');"
   ]
  },
  {
   "cell_type": "markdown",
   "id": "4c05ab17-0131-41eb-ab45-4ab9e0cf1417",
   "metadata": {},
   "source": [
    "## Identify categorical features"
   ]
  },
  {
   "cell_type": "code",
   "execution_count": 58,
   "id": "9236c8a2-a78b-4180-a1f2-db55bac8fe1e",
   "metadata": {},
   "outputs": [
    {
     "name": "stdout",
     "output_type": "stream",
     "text": [
      "The number of categorical features: 6\n",
      "The names of categorical features: ['user_id', 'job', 'marital', 'education', 'contact', 'device']\n"
     ]
    }
   ],
   "source": [
    "categorical_columns = \\\n",
    "list(user_data_cleaned.select_dtypes(['object']).columns)\n",
    "\n",
    "print('The number of categorical features:',\n",
    "      len(categorical_columns))\n",
    "print('The names of categorical features:',\n",
    "      categorical_columns)"
   ]
  },
  {
   "cell_type": "markdown",
   "id": "14d4f4c4-c638-4340-94be-4f7911563419",
   "metadata": {},
   "source": [
    "## One-hot encode job"
   ]
  },
  {
   "cell_type": "code",
   "execution_count": 59,
   "id": "2e7cbe27-e7e1-4cca-a3fd-cab3ea6633d4",
   "metadata": {},
   "outputs": [
    {
     "data": {
      "text/plain": [
       "blue-collar      9731\n",
       "management       9457\n",
       "technician       7597\n",
       "admin.           5171\n",
       "services         4154\n",
       "retired          2264\n",
       "self-employed    1579\n",
       "entrepreneur     1487\n",
       "unemployed       1303\n",
       "housemaid        1240\n",
       "student           938\n",
       "Unknown           288\n",
       "Name: job, dtype: int64"
      ]
     },
     "execution_count": 59,
     "metadata": {},
     "output_type": "execute_result"
    }
   ],
   "source": [
    "user_data_cleaned.job.value_counts(dropna = True)"
   ]
  },
  {
   "cell_type": "code",
   "execution_count": 60,
   "id": "4d300bb0-4827-41fb-a17c-d593c0d9dc72",
   "metadata": {},
   "outputs": [],
   "source": [
    "# Create object for one-hot encoding.\n",
    "\n",
    "encoder = ce.OneHotEncoder(cols = 'job',\n",
    "                           return_df = True,\n",
    "                           use_cat_names = True)"
   ]
  },
  {
   "cell_type": "code",
   "execution_count": 61,
   "id": "8c2a2cda-233f-4484-aab9-043c1f20e3a6",
   "metadata": {},
   "outputs": [
    {
     "data": {
      "text/html": [
       "<div>\n",
       "<style scoped>\n",
       "    .dataframe tbody tr th:only-of-type {\n",
       "        vertical-align: middle;\n",
       "    }\n",
       "\n",
       "    .dataframe tbody tr th {\n",
       "        vertical-align: top;\n",
       "    }\n",
       "\n",
       "    .dataframe thead th {\n",
       "        text-align: right;\n",
       "    }\n",
       "</style>\n",
       "<table border=\"1\" class=\"dataframe\">\n",
       "  <thead>\n",
       "    <tr style=\"text-align: right;\">\n",
       "      <th></th>\n",
       "      <th>user_id</th>\n",
       "      <th>number_transactions</th>\n",
       "      <th>total_amount_usd</th>\n",
       "      <th>age</th>\n",
       "      <th>job_management</th>\n",
       "      <th>job_technician</th>\n",
       "      <th>job_entrepreneur</th>\n",
       "      <th>job_blue-collar</th>\n",
       "      <th>job_Unknown</th>\n",
       "      <th>job_retired</th>\n",
       "      <th>...</th>\n",
       "      <th>housing</th>\n",
       "      <th>loan</th>\n",
       "      <th>contact</th>\n",
       "      <th>duration</th>\n",
       "      <th>campaign</th>\n",
       "      <th>pdays</th>\n",
       "      <th>previous</th>\n",
       "      <th>term_deposit</th>\n",
       "      <th>date_joined</th>\n",
       "      <th>device</th>\n",
       "    </tr>\n",
       "  </thead>\n",
       "  <tbody>\n",
       "    <tr>\n",
       "      <th>0</th>\n",
       "      <td>9231c446-cb16-4b2b-a7f7-ddfc8b25aaf6</td>\n",
       "      <td>3.0</td>\n",
       "      <td>2143.00</td>\n",
       "      <td>58</td>\n",
       "      <td>1</td>\n",
       "      <td>0</td>\n",
       "      <td>0</td>\n",
       "      <td>0</td>\n",
       "      <td>0</td>\n",
       "      <td>0</td>\n",
       "      <td>...</td>\n",
       "      <td>True</td>\n",
       "      <td>False</td>\n",
       "      <td>Unknown</td>\n",
       "      <td>261</td>\n",
       "      <td>1</td>\n",
       "      <td>-1</td>\n",
       "      <td>0</td>\n",
       "      <td>False</td>\n",
       "      <td>1998-08-23</td>\n",
       "      <td>mobile</td>\n",
       "    </tr>\n",
       "    <tr>\n",
       "      <th>1</th>\n",
       "      <td>bb92765a-08de-4963-b432-496524b39157</td>\n",
       "      <td>NaN</td>\n",
       "      <td>1369.42</td>\n",
       "      <td>44</td>\n",
       "      <td>0</td>\n",
       "      <td>1</td>\n",
       "      <td>0</td>\n",
       "      <td>0</td>\n",
       "      <td>0</td>\n",
       "      <td>0</td>\n",
       "      <td>...</td>\n",
       "      <td>True</td>\n",
       "      <td>False</td>\n",
       "      <td>Unknown</td>\n",
       "      <td>151</td>\n",
       "      <td>1</td>\n",
       "      <td>-1</td>\n",
       "      <td>0</td>\n",
       "      <td>False</td>\n",
       "      <td>2008-07-15</td>\n",
       "      <td>desktop</td>\n",
       "    </tr>\n",
       "    <tr>\n",
       "      <th>2</th>\n",
       "      <td>573de577-49ef-42b9-83da-d3cfb817b5c1</td>\n",
       "      <td>2.0</td>\n",
       "      <td>2.00</td>\n",
       "      <td>33</td>\n",
       "      <td>0</td>\n",
       "      <td>0</td>\n",
       "      <td>1</td>\n",
       "      <td>0</td>\n",
       "      <td>0</td>\n",
       "      <td>0</td>\n",
       "      <td>...</td>\n",
       "      <td>True</td>\n",
       "      <td>True</td>\n",
       "      <td>Unknown</td>\n",
       "      <td>76</td>\n",
       "      <td>1</td>\n",
       "      <td>-1</td>\n",
       "      <td>0</td>\n",
       "      <td>False</td>\n",
       "      <td>2002-06-04</td>\n",
       "      <td>mobile</td>\n",
       "    </tr>\n",
       "    <tr>\n",
       "      <th>3</th>\n",
       "      <td>d6b66b9d-7c8f-4257-a682-e136f640b7e3</td>\n",
       "      <td>NaN</td>\n",
       "      <td>1369.42</td>\n",
       "      <td>47</td>\n",
       "      <td>0</td>\n",
       "      <td>0</td>\n",
       "      <td>0</td>\n",
       "      <td>1</td>\n",
       "      <td>0</td>\n",
       "      <td>0</td>\n",
       "      <td>...</td>\n",
       "      <td>True</td>\n",
       "      <td>False</td>\n",
       "      <td>Unknown</td>\n",
       "      <td>92</td>\n",
       "      <td>1</td>\n",
       "      <td>-1</td>\n",
       "      <td>0</td>\n",
       "      <td>False</td>\n",
       "      <td>1995-06-29</td>\n",
       "      <td>tablet</td>\n",
       "    </tr>\n",
       "    <tr>\n",
       "      <th>4</th>\n",
       "      <td>fade0b20-7594-4d9a-84cd-c02f79b1b526</td>\n",
       "      <td>1.0</td>\n",
       "      <td>1.00</td>\n",
       "      <td>33</td>\n",
       "      <td>0</td>\n",
       "      <td>0</td>\n",
       "      <td>0</td>\n",
       "      <td>0</td>\n",
       "      <td>1</td>\n",
       "      <td>0</td>\n",
       "      <td>...</td>\n",
       "      <td>False</td>\n",
       "      <td>False</td>\n",
       "      <td>Unknown</td>\n",
       "      <td>198</td>\n",
       "      <td>1</td>\n",
       "      <td>-1</td>\n",
       "      <td>0</td>\n",
       "      <td>False</td>\n",
       "      <td>1995-08-01</td>\n",
       "      <td>mobile</td>\n",
       "    </tr>\n",
       "  </tbody>\n",
       "</table>\n",
       "<p>5 rows × 29 columns</p>\n",
       "</div>"
      ],
      "text/plain": [
       "                                user_id  number_transactions  \\\n",
       "0  9231c446-cb16-4b2b-a7f7-ddfc8b25aaf6                  3.0   \n",
       "1  bb92765a-08de-4963-b432-496524b39157                  NaN   \n",
       "2  573de577-49ef-42b9-83da-d3cfb817b5c1                  2.0   \n",
       "3  d6b66b9d-7c8f-4257-a682-e136f640b7e3                  NaN   \n",
       "4  fade0b20-7594-4d9a-84cd-c02f79b1b526                  1.0   \n",
       "\n",
       "   total_amount_usd  age  job_management  job_technician  job_entrepreneur  \\\n",
       "0           2143.00   58               1               0                 0   \n",
       "1           1369.42   44               0               1                 0   \n",
       "2              2.00   33               0               0                 1   \n",
       "3           1369.42   47               0               0                 0   \n",
       "4              1.00   33               0               0                 0   \n",
       "\n",
       "   job_blue-collar  job_Unknown  job_retired  ...  housing   loan  contact  \\\n",
       "0                0            0            0  ...     True  False  Unknown   \n",
       "1                0            0            0  ...     True  False  Unknown   \n",
       "2                0            0            0  ...     True   True  Unknown   \n",
       "3                1            0            0  ...     True  False  Unknown   \n",
       "4                0            1            0  ...    False  False  Unknown   \n",
       "\n",
       "   duration  campaign  pdays previous term_deposit  date_joined   device  \n",
       "0       261         1     -1        0        False   1998-08-23   mobile  \n",
       "1       151         1     -1        0        False   2008-07-15  desktop  \n",
       "2        76         1     -1        0        False   2002-06-04   mobile  \n",
       "3        92         1     -1        0        False   1995-06-29   tablet  \n",
       "4       198         1     -1        0        False   1995-08-01   mobile  \n",
       "\n",
       "[5 rows x 29 columns]"
      ]
     },
     "execution_count": 61,
     "metadata": {},
     "output_type": "execute_result"
    }
   ],
   "source": [
    "# Fit and transform data.\n",
    "\n",
    "user_data_encoded = encoder.fit_transform(user_data_cleaned)\n",
    "\n",
    "# Preview the data.\n",
    "\n",
    "user_data_encoded.head()"
   ]
  },
  {
   "cell_type": "code",
   "execution_count": 68,
   "id": "f78ace31-d75e-43cd-b01a-86c695fd9a9b",
   "metadata": {},
   "outputs": [
    {
     "data": {
      "text/plain": [
       "['user_id',\n",
       " 'number_transactions',\n",
       " 'total_amount_usd',\n",
       " 'age',\n",
       " 'job_management',\n",
       " 'job_technician',\n",
       " 'job_entrepreneur',\n",
       " 'job_blue-collar',\n",
       " 'job_Unknown',\n",
       " 'job_retired',\n",
       " 'job_admin.',\n",
       " 'job_services',\n",
       " 'job_self-employed',\n",
       " 'job_unemployed',\n",
       " 'job_housemaid',\n",
       " 'job_student',\n",
       " 'marital',\n",
       " 'education',\n",
       " 'default',\n",
       " 'housing',\n",
       " 'loan',\n",
       " 'contact',\n",
       " 'duration',\n",
       " 'campaign',\n",
       " 'pdays',\n",
       " 'previous',\n",
       " 'term_deposit',\n",
       " 'date_joined',\n",
       " 'device']"
      ]
     },
     "execution_count": 68,
     "metadata": {},
     "output_type": "execute_result"
    }
   ],
   "source": [
    "list(user_data_encoded)"
   ]
  },
  {
   "cell_type": "code",
   "execution_count": 69,
   "id": "a20f4eda-c9bf-45be-9767-3192e17f6949",
   "metadata": {},
   "outputs": [
    {
     "name": "stdout",
     "output_type": "stream",
     "text": [
      "Shape of data before encoding: (45209, 18)\n",
      "Shape of data after encoding: (45209, 29)\n"
     ]
    }
   ],
   "source": [
    "print('Shape of data before encoding:',\n",
    "      user_data_cleaned.shape)\n",
    "print('Shape of data after encoding:',\n",
    "      user_data_encoded.shape)"
   ]
  },
  {
   "cell_type": "markdown",
   "id": "4120364e-3a3a-4327-8569-d165caace3ef",
   "metadata": {},
   "source": [
    "## Dummy encode marital"
   ]
  },
  {
   "cell_type": "code",
   "execution_count": 70,
   "id": "695d6570-669a-45a5-9ce7-540a612946b6",
   "metadata": {},
   "outputs": [
    {
     "data": {
      "text/html": [
       "<div>\n",
       "<style scoped>\n",
       "    .dataframe tbody tr th:only-of-type {\n",
       "        vertical-align: middle;\n",
       "    }\n",
       "\n",
       "    .dataframe tbody tr th {\n",
       "        vertical-align: top;\n",
       "    }\n",
       "\n",
       "    .dataframe thead th {\n",
       "        text-align: right;\n",
       "    }\n",
       "</style>\n",
       "<table border=\"1\" class=\"dataframe\">\n",
       "  <thead>\n",
       "    <tr style=\"text-align: right;\">\n",
       "      <th></th>\n",
       "      <th>married</th>\n",
       "      <th>single</th>\n",
       "    </tr>\n",
       "  </thead>\n",
       "  <tbody>\n",
       "    <tr>\n",
       "      <th>0</th>\n",
       "      <td>1</td>\n",
       "      <td>0</td>\n",
       "    </tr>\n",
       "    <tr>\n",
       "      <th>1</th>\n",
       "      <td>0</td>\n",
       "      <td>1</td>\n",
       "    </tr>\n",
       "    <tr>\n",
       "      <th>2</th>\n",
       "      <td>1</td>\n",
       "      <td>0</td>\n",
       "    </tr>\n",
       "    <tr>\n",
       "      <th>3</th>\n",
       "      <td>1</td>\n",
       "      <td>0</td>\n",
       "    </tr>\n",
       "    <tr>\n",
       "      <th>4</th>\n",
       "      <td>0</td>\n",
       "      <td>1</td>\n",
       "    </tr>\n",
       "    <tr>\n",
       "      <th>...</th>\n",
       "      <td>...</td>\n",
       "      <td>...</td>\n",
       "    </tr>\n",
       "    <tr>\n",
       "      <th>45211</th>\n",
       "      <td>1</td>\n",
       "      <td>0</td>\n",
       "    </tr>\n",
       "    <tr>\n",
       "      <th>45212</th>\n",
       "      <td>0</td>\n",
       "      <td>0</td>\n",
       "    </tr>\n",
       "    <tr>\n",
       "      <th>45213</th>\n",
       "      <td>1</td>\n",
       "      <td>0</td>\n",
       "    </tr>\n",
       "    <tr>\n",
       "      <th>45214</th>\n",
       "      <td>1</td>\n",
       "      <td>0</td>\n",
       "    </tr>\n",
       "    <tr>\n",
       "      <th>45215</th>\n",
       "      <td>1</td>\n",
       "      <td>0</td>\n",
       "    </tr>\n",
       "  </tbody>\n",
       "</table>\n",
       "<p>45209 rows × 2 columns</p>\n",
       "</div>"
      ],
      "text/plain": [
       "       married  single\n",
       "0            1       0\n",
       "1            0       1\n",
       "2            1       0\n",
       "3            1       0\n",
       "4            0       1\n",
       "...        ...     ...\n",
       "45211        1       0\n",
       "45212        0       0\n",
       "45213        1       0\n",
       "45214        1       0\n",
       "45215        1       0\n",
       "\n",
       "[45209 rows x 2 columns]"
      ]
     },
     "execution_count": 70,
     "metadata": {},
     "output_type": "execute_result"
    }
   ],
   "source": [
    "marital_encoded = \\\n",
    "pd.get_dummies(data = user_data_encoded['marital'],\n",
    "               drop_first = True)\n",
    "\n",
    "marital_encoded "
   ]
  },
  {
   "cell_type": "code",
   "execution_count": 71,
   "id": "4e5e78dc-16d7-4e90-b672-72fc34a16ada",
   "metadata": {},
   "outputs": [
    {
     "data": {
      "text/html": [
       "<div>\n",
       "<style scoped>\n",
       "    .dataframe tbody tr th:only-of-type {\n",
       "        vertical-align: middle;\n",
       "    }\n",
       "\n",
       "    .dataframe tbody tr th {\n",
       "        vertical-align: top;\n",
       "    }\n",
       "\n",
       "    .dataframe thead th {\n",
       "        text-align: right;\n",
       "    }\n",
       "</style>\n",
       "<table border=\"1\" class=\"dataframe\">\n",
       "  <thead>\n",
       "    <tr style=\"text-align: right;\">\n",
       "      <th></th>\n",
       "      <th>user_id</th>\n",
       "      <th>number_transactions</th>\n",
       "      <th>total_amount_usd</th>\n",
       "      <th>age</th>\n",
       "      <th>job_management</th>\n",
       "      <th>job_technician</th>\n",
       "      <th>job_entrepreneur</th>\n",
       "      <th>job_blue-collar</th>\n",
       "      <th>job_Unknown</th>\n",
       "      <th>job_retired</th>\n",
       "      <th>...</th>\n",
       "      <th>contact</th>\n",
       "      <th>duration</th>\n",
       "      <th>campaign</th>\n",
       "      <th>pdays</th>\n",
       "      <th>previous</th>\n",
       "      <th>term_deposit</th>\n",
       "      <th>date_joined</th>\n",
       "      <th>device</th>\n",
       "      <th>married</th>\n",
       "      <th>single</th>\n",
       "    </tr>\n",
       "  </thead>\n",
       "  <tbody>\n",
       "    <tr>\n",
       "      <th>0</th>\n",
       "      <td>9231c446-cb16-4b2b-a7f7-ddfc8b25aaf6</td>\n",
       "      <td>3.0</td>\n",
       "      <td>2143.00</td>\n",
       "      <td>58</td>\n",
       "      <td>1</td>\n",
       "      <td>0</td>\n",
       "      <td>0</td>\n",
       "      <td>0</td>\n",
       "      <td>0</td>\n",
       "      <td>0</td>\n",
       "      <td>...</td>\n",
       "      <td>Unknown</td>\n",
       "      <td>261</td>\n",
       "      <td>1</td>\n",
       "      <td>-1</td>\n",
       "      <td>0</td>\n",
       "      <td>False</td>\n",
       "      <td>1998-08-23</td>\n",
       "      <td>mobile</td>\n",
       "      <td>1</td>\n",
       "      <td>0</td>\n",
       "    </tr>\n",
       "    <tr>\n",
       "      <th>1</th>\n",
       "      <td>bb92765a-08de-4963-b432-496524b39157</td>\n",
       "      <td>0.0</td>\n",
       "      <td>1369.42</td>\n",
       "      <td>44</td>\n",
       "      <td>0</td>\n",
       "      <td>1</td>\n",
       "      <td>0</td>\n",
       "      <td>0</td>\n",
       "      <td>0</td>\n",
       "      <td>0</td>\n",
       "      <td>...</td>\n",
       "      <td>Unknown</td>\n",
       "      <td>151</td>\n",
       "      <td>1</td>\n",
       "      <td>-1</td>\n",
       "      <td>0</td>\n",
       "      <td>False</td>\n",
       "      <td>2008-07-15</td>\n",
       "      <td>desktop</td>\n",
       "      <td>0</td>\n",
       "      <td>1</td>\n",
       "    </tr>\n",
       "    <tr>\n",
       "      <th>2</th>\n",
       "      <td>573de577-49ef-42b9-83da-d3cfb817b5c1</td>\n",
       "      <td>2.0</td>\n",
       "      <td>2.00</td>\n",
       "      <td>33</td>\n",
       "      <td>0</td>\n",
       "      <td>0</td>\n",
       "      <td>1</td>\n",
       "      <td>0</td>\n",
       "      <td>0</td>\n",
       "      <td>0</td>\n",
       "      <td>...</td>\n",
       "      <td>Unknown</td>\n",
       "      <td>76</td>\n",
       "      <td>1</td>\n",
       "      <td>-1</td>\n",
       "      <td>0</td>\n",
       "      <td>False</td>\n",
       "      <td>2002-06-04</td>\n",
       "      <td>mobile</td>\n",
       "      <td>1</td>\n",
       "      <td>0</td>\n",
       "    </tr>\n",
       "    <tr>\n",
       "      <th>3</th>\n",
       "      <td>d6b66b9d-7c8f-4257-a682-e136f640b7e3</td>\n",
       "      <td>0.0</td>\n",
       "      <td>1369.42</td>\n",
       "      <td>47</td>\n",
       "      <td>0</td>\n",
       "      <td>0</td>\n",
       "      <td>0</td>\n",
       "      <td>1</td>\n",
       "      <td>0</td>\n",
       "      <td>0</td>\n",
       "      <td>...</td>\n",
       "      <td>Unknown</td>\n",
       "      <td>92</td>\n",
       "      <td>1</td>\n",
       "      <td>-1</td>\n",
       "      <td>0</td>\n",
       "      <td>False</td>\n",
       "      <td>1995-06-29</td>\n",
       "      <td>tablet</td>\n",
       "      <td>1</td>\n",
       "      <td>0</td>\n",
       "    </tr>\n",
       "    <tr>\n",
       "      <th>4</th>\n",
       "      <td>fade0b20-7594-4d9a-84cd-c02f79b1b526</td>\n",
       "      <td>1.0</td>\n",
       "      <td>1.00</td>\n",
       "      <td>33</td>\n",
       "      <td>0</td>\n",
       "      <td>0</td>\n",
       "      <td>0</td>\n",
       "      <td>0</td>\n",
       "      <td>1</td>\n",
       "      <td>0</td>\n",
       "      <td>...</td>\n",
       "      <td>Unknown</td>\n",
       "      <td>198</td>\n",
       "      <td>1</td>\n",
       "      <td>-1</td>\n",
       "      <td>0</td>\n",
       "      <td>False</td>\n",
       "      <td>1995-08-01</td>\n",
       "      <td>mobile</td>\n",
       "      <td>0</td>\n",
       "      <td>1</td>\n",
       "    </tr>\n",
       "  </tbody>\n",
       "</table>\n",
       "<p>5 rows × 30 columns</p>\n",
       "</div>"
      ],
      "text/plain": [
       "                                user_id  number_transactions  \\\n",
       "0  9231c446-cb16-4b2b-a7f7-ddfc8b25aaf6                  3.0   \n",
       "1  bb92765a-08de-4963-b432-496524b39157                  0.0   \n",
       "2  573de577-49ef-42b9-83da-d3cfb817b5c1                  2.0   \n",
       "3  d6b66b9d-7c8f-4257-a682-e136f640b7e3                  0.0   \n",
       "4  fade0b20-7594-4d9a-84cd-c02f79b1b526                  1.0   \n",
       "\n",
       "   total_amount_usd  age  job_management  job_technician  job_entrepreneur  \\\n",
       "0           2143.00   58               1               0                 0   \n",
       "1           1369.42   44               0               1                 0   \n",
       "2              2.00   33               0               0                 1   \n",
       "3           1369.42   47               0               0                 0   \n",
       "4              1.00   33               0               0                 0   \n",
       "\n",
       "   job_blue-collar  job_Unknown  job_retired  ...  contact  duration  \\\n",
       "0                0            0            0  ...  Unknown       261   \n",
       "1                0            0            0  ...  Unknown       151   \n",
       "2                0            0            0  ...  Unknown        76   \n",
       "3                1            0            0  ...  Unknown        92   \n",
       "4                0            1            0  ...  Unknown       198   \n",
       "\n",
       "   campaign  pdays  previous  term_deposit date_joined   device  married  \\\n",
       "0         1     -1         0         False  1998-08-23   mobile        1   \n",
       "1         1     -1         0         False  2008-07-15  desktop        0   \n",
       "2         1     -1         0         False  2002-06-04   mobile        1   \n",
       "3         1     -1         0         False  1995-06-29   tablet        1   \n",
       "4         1     -1         0         False  1995-08-01   mobile        0   \n",
       "\n",
       "   single  \n",
       "0       0  \n",
       "1       1  \n",
       "2       0  \n",
       "3       0  \n",
       "4       1  \n",
       "\n",
       "[5 rows x 30 columns]"
      ]
     },
     "execution_count": 71,
     "metadata": {},
     "output_type": "execute_result"
    }
   ],
   "source": [
    "# Concatenate the new encoded columns.\n",
    "\n",
    "user_data_encoded = \\\n",
    "pd.concat([user_data_encoded, marital_encoded], axis = 1)\n",
    "\n",
    "# Drop the original variable.\n",
    "\n",
    "user_data_encoded.drop(['marital'], axis = 1, inplace = True)\n",
    "\n",
    "# Preview the data\n",
    "\n",
    "user_data_encoded.head()"
   ]
  },
  {
   "cell_type": "code",
   "execution_count": 62,
   "id": "e30b4a9a-3965-4bfb-a01c-d97df8d4e786",
   "metadata": {},
   "outputs": [
    {
     "name": "stdout",
     "output_type": "stream",
     "text": [
      "Shape of data after encoding: (45209, 29)\n"
     ]
    },
    {
     "data": {
      "text/plain": [
       "['user_id',\n",
       " 'number_transactions',\n",
       " 'total_amount_usd',\n",
       " 'age',\n",
       " 'job_management',\n",
       " 'job_technician',\n",
       " 'job_entrepreneur',\n",
       " 'job_blue-collar',\n",
       " 'job_Unknown',\n",
       " 'job_retired',\n",
       " 'job_admin.',\n",
       " 'job_services',\n",
       " 'job_self-employed',\n",
       " 'job_unemployed',\n",
       " 'job_housemaid',\n",
       " 'job_student',\n",
       " 'marital',\n",
       " 'education',\n",
       " 'default',\n",
       " 'housing',\n",
       " 'loan',\n",
       " 'contact',\n",
       " 'duration',\n",
       " 'campaign',\n",
       " 'pdays',\n",
       " 'previous',\n",
       " 'term_deposit',\n",
       " 'date_joined',\n",
       " 'device']"
      ]
     },
     "execution_count": 62,
     "metadata": {},
     "output_type": "execute_result"
    }
   ],
   "source": [
    "print('Shape of data after encoding:',\n",
    "      user_data_encoded.shape)\n",
    "\n",
    "list(user_data_encoded)"
   ]
  },
  {
   "cell_type": "markdown",
   "id": "77f510ae-5619-4445-aa7b-02e0c2e4f7df",
   "metadata": {},
   "source": [
    "## One-hot encode the remaining categorical variables"
   ]
  },
  {
   "cell_type": "code",
   "execution_count": 63,
   "id": "cb7438bb-53a7-4bdd-99a1-fb1c9d4e8619",
   "metadata": {},
   "outputs": [],
   "source": [
    "cols = ['education', 'contact', 'device']\n",
    "\n",
    "encoder = ce.OneHotEncoder(cols = cols,\n",
    "                           return_df = True,\n",
    "                           use_cat_names = True)"
   ]
  },
  {
   "cell_type": "code",
   "execution_count": 64,
   "id": "3605b985-e1c8-4937-a365-882573204c4c",
   "metadata": {},
   "outputs": [
    {
     "data": {
      "text/html": [
       "<div>\n",
       "<style scoped>\n",
       "    .dataframe tbody tr th:only-of-type {\n",
       "        vertical-align: middle;\n",
       "    }\n",
       "\n",
       "    .dataframe tbody tr th {\n",
       "        vertical-align: top;\n",
       "    }\n",
       "\n",
       "    .dataframe thead th {\n",
       "        text-align: right;\n",
       "    }\n",
       "</style>\n",
       "<table border=\"1\" class=\"dataframe\">\n",
       "  <thead>\n",
       "    <tr style=\"text-align: right;\">\n",
       "      <th></th>\n",
       "      <th>user_id</th>\n",
       "      <th>number_transactions</th>\n",
       "      <th>total_amount_usd</th>\n",
       "      <th>age</th>\n",
       "      <th>job_management</th>\n",
       "      <th>job_technician</th>\n",
       "      <th>job_entrepreneur</th>\n",
       "      <th>job_blue-collar</th>\n",
       "      <th>job_Unknown</th>\n",
       "      <th>job_retired</th>\n",
       "      <th>...</th>\n",
       "      <th>duration</th>\n",
       "      <th>campaign</th>\n",
       "      <th>pdays</th>\n",
       "      <th>previous</th>\n",
       "      <th>term_deposit</th>\n",
       "      <th>date_joined</th>\n",
       "      <th>device_mobile</th>\n",
       "      <th>device_desktop</th>\n",
       "      <th>device_tablet</th>\n",
       "      <th>device_Unknown</th>\n",
       "    </tr>\n",
       "  </thead>\n",
       "  <tbody>\n",
       "    <tr>\n",
       "      <th>0</th>\n",
       "      <td>9231c446-cb16-4b2b-a7f7-ddfc8b25aaf6</td>\n",
       "      <td>3.0</td>\n",
       "      <td>2143.00</td>\n",
       "      <td>58</td>\n",
       "      <td>1</td>\n",
       "      <td>0</td>\n",
       "      <td>0</td>\n",
       "      <td>0</td>\n",
       "      <td>0</td>\n",
       "      <td>0</td>\n",
       "      <td>...</td>\n",
       "      <td>261</td>\n",
       "      <td>1</td>\n",
       "      <td>-1</td>\n",
       "      <td>0</td>\n",
       "      <td>False</td>\n",
       "      <td>1998-08-23</td>\n",
       "      <td>1</td>\n",
       "      <td>0</td>\n",
       "      <td>0</td>\n",
       "      <td>0</td>\n",
       "    </tr>\n",
       "    <tr>\n",
       "      <th>1</th>\n",
       "      <td>bb92765a-08de-4963-b432-496524b39157</td>\n",
       "      <td>NaN</td>\n",
       "      <td>1369.42</td>\n",
       "      <td>44</td>\n",
       "      <td>0</td>\n",
       "      <td>1</td>\n",
       "      <td>0</td>\n",
       "      <td>0</td>\n",
       "      <td>0</td>\n",
       "      <td>0</td>\n",
       "      <td>...</td>\n",
       "      <td>151</td>\n",
       "      <td>1</td>\n",
       "      <td>-1</td>\n",
       "      <td>0</td>\n",
       "      <td>False</td>\n",
       "      <td>2008-07-15</td>\n",
       "      <td>0</td>\n",
       "      <td>1</td>\n",
       "      <td>0</td>\n",
       "      <td>0</td>\n",
       "    </tr>\n",
       "    <tr>\n",
       "      <th>2</th>\n",
       "      <td>573de577-49ef-42b9-83da-d3cfb817b5c1</td>\n",
       "      <td>2.0</td>\n",
       "      <td>2.00</td>\n",
       "      <td>33</td>\n",
       "      <td>0</td>\n",
       "      <td>0</td>\n",
       "      <td>1</td>\n",
       "      <td>0</td>\n",
       "      <td>0</td>\n",
       "      <td>0</td>\n",
       "      <td>...</td>\n",
       "      <td>76</td>\n",
       "      <td>1</td>\n",
       "      <td>-1</td>\n",
       "      <td>0</td>\n",
       "      <td>False</td>\n",
       "      <td>2002-06-04</td>\n",
       "      <td>1</td>\n",
       "      <td>0</td>\n",
       "      <td>0</td>\n",
       "      <td>0</td>\n",
       "    </tr>\n",
       "    <tr>\n",
       "      <th>3</th>\n",
       "      <td>d6b66b9d-7c8f-4257-a682-e136f640b7e3</td>\n",
       "      <td>NaN</td>\n",
       "      <td>1369.42</td>\n",
       "      <td>47</td>\n",
       "      <td>0</td>\n",
       "      <td>0</td>\n",
       "      <td>0</td>\n",
       "      <td>1</td>\n",
       "      <td>0</td>\n",
       "      <td>0</td>\n",
       "      <td>...</td>\n",
       "      <td>92</td>\n",
       "      <td>1</td>\n",
       "      <td>-1</td>\n",
       "      <td>0</td>\n",
       "      <td>False</td>\n",
       "      <td>1995-06-29</td>\n",
       "      <td>0</td>\n",
       "      <td>0</td>\n",
       "      <td>1</td>\n",
       "      <td>0</td>\n",
       "    </tr>\n",
       "    <tr>\n",
       "      <th>4</th>\n",
       "      <td>fade0b20-7594-4d9a-84cd-c02f79b1b526</td>\n",
       "      <td>1.0</td>\n",
       "      <td>1.00</td>\n",
       "      <td>33</td>\n",
       "      <td>0</td>\n",
       "      <td>0</td>\n",
       "      <td>0</td>\n",
       "      <td>0</td>\n",
       "      <td>1</td>\n",
       "      <td>0</td>\n",
       "      <td>...</td>\n",
       "      <td>198</td>\n",
       "      <td>1</td>\n",
       "      <td>-1</td>\n",
       "      <td>0</td>\n",
       "      <td>False</td>\n",
       "      <td>1995-08-01</td>\n",
       "      <td>1</td>\n",
       "      <td>0</td>\n",
       "      <td>0</td>\n",
       "      <td>0</td>\n",
       "    </tr>\n",
       "  </tbody>\n",
       "</table>\n",
       "<p>5 rows × 37 columns</p>\n",
       "</div>"
      ],
      "text/plain": [
       "                                user_id  number_transactions  \\\n",
       "0  9231c446-cb16-4b2b-a7f7-ddfc8b25aaf6                  3.0   \n",
       "1  bb92765a-08de-4963-b432-496524b39157                  NaN   \n",
       "2  573de577-49ef-42b9-83da-d3cfb817b5c1                  2.0   \n",
       "3  d6b66b9d-7c8f-4257-a682-e136f640b7e3                  NaN   \n",
       "4  fade0b20-7594-4d9a-84cd-c02f79b1b526                  1.0   \n",
       "\n",
       "   total_amount_usd  age  job_management  job_technician  job_entrepreneur  \\\n",
       "0           2143.00   58               1               0                 0   \n",
       "1           1369.42   44               0               1                 0   \n",
       "2              2.00   33               0               0                 1   \n",
       "3           1369.42   47               0               0                 0   \n",
       "4              1.00   33               0               0                 0   \n",
       "\n",
       "   job_blue-collar  job_Unknown  job_retired  ...  duration  campaign  pdays  \\\n",
       "0                0            0            0  ...       261         1     -1   \n",
       "1                0            0            0  ...       151         1     -1   \n",
       "2                0            0            0  ...        76         1     -1   \n",
       "3                1            0            0  ...        92         1     -1   \n",
       "4                0            1            0  ...       198         1     -1   \n",
       "\n",
       "   previous  term_deposit  date_joined device_mobile  device_desktop  \\\n",
       "0         0         False   1998-08-23             1               0   \n",
       "1         0         False   2008-07-15             0               1   \n",
       "2         0         False   2002-06-04             1               0   \n",
       "3         0         False   1995-06-29             0               0   \n",
       "4         0         False   1995-08-01             1               0   \n",
       "\n",
       "   device_tablet  device_Unknown  \n",
       "0              0               0  \n",
       "1              0               0  \n",
       "2              0               0  \n",
       "3              1               0  \n",
       "4              0               0  \n",
       "\n",
       "[5 rows x 37 columns]"
      ]
     },
     "execution_count": 64,
     "metadata": {},
     "output_type": "execute_result"
    }
   ],
   "source": [
    "# Fit and transform data.\n",
    "\n",
    "user_data_encoded = encoder.fit_transform(user_data_encoded)\n",
    "\n",
    "# Preview the data.\n",
    "\n",
    "user_data_encoded.head()"
   ]
  },
  {
   "cell_type": "code",
   "execution_count": 75,
   "id": "68d9fbf0-18c7-4cb5-aa8f-0fd49be6530d",
   "metadata": {},
   "outputs": [
    {
     "name": "stdout",
     "output_type": "stream",
     "text": [
      "Shape of data after encoding: (45209, 38)\n"
     ]
    },
    {
     "data": {
      "text/plain": [
       "['user_id',\n",
       " 'number_transactions',\n",
       " 'total_amount_usd',\n",
       " 'age',\n",
       " 'job_management',\n",
       " 'job_technician',\n",
       " 'job_entrepreneur',\n",
       " 'job_blue-collar',\n",
       " 'job_Unknown',\n",
       " 'job_retired',\n",
       " 'job_admin.',\n",
       " 'job_services',\n",
       " 'job_self-employed',\n",
       " 'job_unemployed',\n",
       " 'job_housemaid',\n",
       " 'job_student',\n",
       " 'education_tertiary',\n",
       " 'education_secondary',\n",
       " 'education_Unknown',\n",
       " 'education_primary',\n",
       " 'default',\n",
       " 'housing',\n",
       " 'loan',\n",
       " 'contact_Unknown',\n",
       " 'contact_cellular',\n",
       " 'contact_telephone',\n",
       " 'duration',\n",
       " 'campaign',\n",
       " 'pdays',\n",
       " 'previous',\n",
       " 'term_deposit',\n",
       " 'date_joined',\n",
       " 'device_mobile',\n",
       " 'device_desktop',\n",
       " 'device_tablet',\n",
       " 'device_Unknown',\n",
       " 'married',\n",
       " 'single']"
      ]
     },
     "execution_count": 75,
     "metadata": {},
     "output_type": "execute_result"
    }
   ],
   "source": [
    "print('Shape of data after encoding:',\n",
    "      user_data_encoded.shape)\n",
    "\n",
    "list(user_data_encoded)"
   ]
  },
  {
   "cell_type": "markdown",
   "id": "f0f51bf8-c1a3-4365-9f4a-c8559b3395b7",
   "metadata": {},
   "source": [
    "## Discretize age into bins"
   ]
  },
  {
   "cell_type": "code",
   "execution_count": 76,
   "id": "b960221d-2589-4a2b-8633-ee2a16097f2e",
   "metadata": {},
   "outputs": [
    {
     "data": {
      "text/plain": [
       "count    45209.000000\n",
       "mean        40.935853\n",
       "std         10.618653\n",
       "min         18.000000\n",
       "25%         33.000000\n",
       "50%         39.000000\n",
       "75%         48.000000\n",
       "max         95.000000\n",
       "Name: age, dtype: float64"
      ]
     },
     "execution_count": 76,
     "metadata": {},
     "output_type": "execute_result"
    }
   ],
   "source": [
    "user_data_encoded.age.describe()"
   ]
  },
  {
   "cell_type": "code",
   "execution_count": 65,
   "id": "d92c0544-dca7-4f5f-818f-e52be12b82b7",
   "metadata": {},
   "outputs": [],
   "source": [
    "# Define age bins and labels.\n",
    "\n",
    "bins = [18, 25, 35, 45, 55, 65, 75, 110]\n",
    "labels = ['18–24', '25–34', '35–44',\n",
    "          '45–54', '55–64', '65–74', '75+']\n",
    "\n",
    "# Perform binning using bin list.\n",
    "\n",
    "user_data_encoded['age_group'] = \\\n",
    "pd.cut(user_data_encoded['age'], bins = bins,\n",
    "       labels = labels, right = False)\n",
    "\n",
    "# Map bins to integer values.\n",
    "user_data_encoded['age_group_encoded'] = \\\n",
    "user_data_encoded['age_group'].cat.codes"
   ]
  },
  {
   "cell_type": "code",
   "execution_count": 66,
   "id": "9ec7c1a0-05e6-4950-a412-badd2e81a5ac",
   "metadata": {},
   "outputs": [
    {
     "data": {
      "text/html": [
       "<div>\n",
       "<style scoped>\n",
       "    .dataframe tbody tr th:only-of-type {\n",
       "        vertical-align: middle;\n",
       "    }\n",
       "\n",
       "    .dataframe tbody tr th {\n",
       "        vertical-align: top;\n",
       "    }\n",
       "\n",
       "    .dataframe thead th {\n",
       "        text-align: right;\n",
       "    }\n",
       "</style>\n",
       "<table border=\"1\" class=\"dataframe\">\n",
       "  <thead>\n",
       "    <tr style=\"text-align: right;\">\n",
       "      <th></th>\n",
       "      <th>age_group_encoded</th>\n",
       "      <th>age_group</th>\n",
       "      <th>age</th>\n",
       "    </tr>\n",
       "  </thead>\n",
       "  <tbody>\n",
       "    <tr>\n",
       "      <th>40635</th>\n",
       "      <td>4</td>\n",
       "      <td>55–64</td>\n",
       "      <td>55</td>\n",
       "    </tr>\n",
       "    <tr>\n",
       "      <th>44821</th>\n",
       "      <td>2</td>\n",
       "      <td>35–44</td>\n",
       "      <td>35</td>\n",
       "    </tr>\n",
       "    <tr>\n",
       "      <th>41146</th>\n",
       "      <td>1</td>\n",
       "      <td>25–34</td>\n",
       "      <td>32</td>\n",
       "    </tr>\n",
       "    <tr>\n",
       "      <th>25950</th>\n",
       "      <td>1</td>\n",
       "      <td>25–34</td>\n",
       "      <td>30</td>\n",
       "    </tr>\n",
       "    <tr>\n",
       "      <th>41700</th>\n",
       "      <td>1</td>\n",
       "      <td>25–34</td>\n",
       "      <td>30</td>\n",
       "    </tr>\n",
       "    <tr>\n",
       "      <th>24568</th>\n",
       "      <td>2</td>\n",
       "      <td>35–44</td>\n",
       "      <td>37</td>\n",
       "    </tr>\n",
       "    <tr>\n",
       "      <th>6736</th>\n",
       "      <td>1</td>\n",
       "      <td>25–34</td>\n",
       "      <td>27</td>\n",
       "    </tr>\n",
       "    <tr>\n",
       "      <th>12982</th>\n",
       "      <td>1</td>\n",
       "      <td>25–34</td>\n",
       "      <td>31</td>\n",
       "    </tr>\n",
       "    <tr>\n",
       "      <th>34166</th>\n",
       "      <td>1</td>\n",
       "      <td>25–34</td>\n",
       "      <td>31</td>\n",
       "    </tr>\n",
       "    <tr>\n",
       "      <th>36316</th>\n",
       "      <td>2</td>\n",
       "      <td>35–44</td>\n",
       "      <td>43</td>\n",
       "    </tr>\n",
       "  </tbody>\n",
       "</table>\n",
       "</div>"
      ],
      "text/plain": [
       "       age_group_encoded age_group  age\n",
       "40635                  4     55–64   55\n",
       "44821                  2     35–44   35\n",
       "41146                  1     25–34   32\n",
       "25950                  1     25–34   30\n",
       "41700                  1     25–34   30\n",
       "24568                  2     35–44   37\n",
       "6736                   1     25–34   27\n",
       "12982                  1     25–34   31\n",
       "34166                  1     25–34   31\n",
       "36316                  2     35–44   43"
      ]
     },
     "execution_count": 66,
     "metadata": {},
     "output_type": "execute_result"
    }
   ],
   "source": [
    "# Verify correct binning.\n",
    "\n",
    "age_vars = ['age_group_encoded', 'age_group', 'age']\n",
    "\n",
    "user_data_encoded[age_vars].sample(10)"
   ]
  },
  {
   "cell_type": "markdown",
   "id": "f85686a3-0df3-4e24-9eea-142baa691d68",
   "metadata": {},
   "source": [
    "## Plot the new distribution of age"
   ]
  },
  {
   "cell_type": "code",
   "execution_count": 79,
   "id": "3abaa577-0e64-436d-a18e-efe27119081e",
   "metadata": {},
   "outputs": [
    {
     "data": {
      "text/plain": [
       "35–44    14533\n",
       "25–34    14204\n",
       "45–54     9958\n",
       "55–64     4895\n",
       "18–24      809\n",
       "65–74      510\n",
       "75+        300\n",
       "Name: age_group, dtype: int64"
      ]
     },
     "execution_count": 79,
     "metadata": {},
     "output_type": "execute_result"
    }
   ],
   "source": [
    "user_age_dist = user_data_encoded.age_group.value_counts()\n",
    "\n",
    "user_age_dist"
   ]
  },
  {
   "cell_type": "code",
   "execution_count": 80,
   "id": "84570b17-0b6b-4fa0-820d-b87de9f48aba",
   "metadata": {},
   "outputs": [
    {
     "data": {
      "image/png": "[encoded data removed]",
      "text/plain": [
       "<Figure size 432x288 with 1 Axes>"
      ]
     },
     "metadata": {
      "needs_background": "light"
     },
     "output_type": "display_data"
    }
   ],
   "source": [
    "user_age_dist.plot(kind = 'bar', edgecolor = 'black')\n",
    "plt.title('Distribution of Age Category');"
   ]
  },
  {
   "cell_type": "code",
   "execution_count": 67,
   "id": "9974e893-123e-4c9d-9137-59805a045481",
   "metadata": {},
   "outputs": [
    {
     "data": {
      "image/png": "[encoded data removed]",
      "text/plain": [
       "<Figure size 432x288 with 1 Axes>"
      ]
     },
     "metadata": {
      "needs_background": "light"
     },
     "output_type": "display_data"
    }
   ],
   "source": [
    "# Check against encoded values.\n",
    "\n",
    "user_data_encoded.age_group_encoded. \\\n",
    "value_counts().plot(kind = 'bar');"
   ]
  },
  {
   "cell_type": "markdown",
   "id": "b3aa3558-c4c3-4962-b659-fb796aea7d0d",
   "metadata": {},
   "source": [
    "## Drop the age and age_group variables"
   ]
  },
  {
   "cell_type": "code",
   "execution_count": 68,
   "id": "58d1dfa3-1fd6-4674-92ff-33fb22af1c7c",
   "metadata": {},
   "outputs": [
    {
     "data": {
      "text/plain": [
       "['user_id',\n",
       " 'number_transactions',\n",
       " 'total_amount_usd',\n",
       " 'job_management',\n",
       " 'job_technician',\n",
       " 'job_entrepreneur',\n",
       " 'job_blue-collar',\n",
       " 'job_Unknown',\n",
       " 'job_retired',\n",
       " 'job_admin.',\n",
       " 'job_services',\n",
       " 'job_self-employed',\n",
       " 'job_unemployed',\n",
       " 'job_housemaid',\n",
       " 'job_student',\n",
       " 'marital',\n",
       " 'education_tertiary',\n",
       " 'education_secondary',\n",
       " 'education_Unknown',\n",
       " 'education_primary',\n",
       " 'default',\n",
       " 'housing',\n",
       " 'loan',\n",
       " 'contact_Unknown',\n",
       " 'contact_cellular',\n",
       " 'contact_telephone',\n",
       " 'duration',\n",
       " 'campaign',\n",
       " 'pdays',\n",
       " 'previous',\n",
       " 'term_deposit',\n",
       " 'date_joined',\n",
       " 'device_mobile',\n",
       " 'device_desktop',\n",
       " 'device_tablet',\n",
       " 'device_Unknown',\n",
       " 'age_group_encoded']"
      ]
     },
     "execution_count": 68,
     "metadata": {},
     "output_type": "execute_result"
    }
   ],
   "source": [
    "user_data_encoded.drop(['age', 'age_group'],\n",
    "                        axis = 1, inplace = True)\n",
    "\n",
    "list(user_data_encoded)"
   ]
  },
  {
   "cell_type": "markdown",
   "id": "cce15d8c-a249-4ae6-92bd-cf90f3c5e061",
   "metadata": {},
   "source": [
    "## Create a month_joined variable from date_joined"
   ]
  },
  {
   "cell_type": "code",
   "execution_count": 83,
   "id": "eaad27b0-30d2-408b-a104-82204181a434",
   "metadata": {},
   "outputs": [],
   "source": [
    "user_data_encoded['month_joined'] = \\\n",
    "user_data_encoded.date_joined.dt.month"
   ]
  },
  {
   "cell_type": "code",
   "execution_count": 84,
   "id": "262fe91a-faac-428f-9e7a-93d01cadd145",
   "metadata": {},
   "outputs": [
    {
     "data": {
      "image/png": "[encoded data removed]",
      "text/plain": [
       "<Figure size 432x288 with 1 Axes>"
      ]
     },
     "metadata": {
      "needs_background": "light"
     },
     "output_type": "display_data"
    }
   ],
   "source": [
    "# View the distribution of data.\n",
    "\n",
    "user_data_encoded['month_joined'].hist()\n",
    "plt.title('Distribution of Months the Users Joined');"
   ]
  },
  {
   "cell_type": "code",
   "execution_count": 85,
   "id": "cc2ce213-2705-4782-b803-eafe8f0d6b1e",
   "metadata": {},
   "outputs": [
    {
     "data": {
      "text/plain": [
       "['user_id',\n",
       " 'number_transactions',\n",
       " 'total_amount_usd',\n",
       " 'job_management',\n",
       " 'job_technician',\n",
       " 'job_entrepreneur',\n",
       " 'job_blue-collar',\n",
       " 'job_Unknown',\n",
       " 'job_retired',\n",
       " 'job_admin.',\n",
       " 'job_services',\n",
       " 'job_self-employed',\n",
       " 'job_unemployed',\n",
       " 'job_housemaid',\n",
       " 'job_student',\n",
       " 'education_tertiary',\n",
       " 'education_secondary',\n",
       " 'education_Unknown',\n",
       " 'education_primary',\n",
       " 'default',\n",
       " 'housing',\n",
       " 'loan',\n",
       " 'contact_Unknown',\n",
       " 'contact_cellular',\n",
       " 'contact_telephone',\n",
       " 'duration',\n",
       " 'campaign',\n",
       " 'pdays',\n",
       " 'previous',\n",
       " 'term_deposit',\n",
       " 'device_mobile',\n",
       " 'device_desktop',\n",
       " 'device_tablet',\n",
       " 'device_Unknown',\n",
       " 'married',\n",
       " 'single',\n",
       " 'age_group_encoded',\n",
       " 'month_joined']"
      ]
     },
     "execution_count": 85,
     "metadata": {},
     "output_type": "execute_result"
    }
   ],
   "source": [
    "user_data_encoded.drop(['date_joined'],\n",
    "                        axis = 1, inplace = True)\n",
    "\n",
    "list(user_data_encoded)"
   ]
  },
  {
   "cell_type": "markdown",
   "id": "bb4711b1-bbe8-446f-b26d-7187625f2054",
   "metadata": {},
   "source": [
    "## Remove features with low variance"
   ]
  },
  {
   "cell_type": "code",
   "execution_count": 86,
   "id": "b2c143f1-49f9-4683-8031-f1b466d6f5a9",
   "metadata": {},
   "outputs": [
    {
     "data": {
      "text/plain": [
       "number_transactions       3.749104\n",
       "total_amount_usd       2703.489610\n",
       "job_management            0.406731\n",
       "job_technician            0.373908\n",
       "job_entrepreneur          0.178355\n",
       "job_blue-collar           0.410997\n",
       "job_Unknown               0.079561\n",
       "job_retired               0.218109\n",
       "job_admin.                0.318276\n",
       "job_services              0.288866\n",
       "job_self-employed         0.183596\n",
       "job_unemployed            0.167307\n",
       "job_housemaid             0.163329\n",
       "job_student               0.142541\n",
       "education_tertiary        0.455682\n",
       "education_secondary       0.499831\n",
       "education_Unknown         0.198468\n",
       "education_primary         0.358558\n",
       "default                   0.133052\n",
       "housing                   0.496880\n",
       "loan                      0.366827\n",
       "contact_Unknown           0.452813\n",
       "contact_cellular          0.477671\n",
       "contact_telephone         0.245252\n",
       "duration                257.525446\n",
       "campaign                  3.098076\n",
       "pdays                   100.130586\n",
       "previous                  2.303489\n",
       "term_deposit              0.321412\n",
       "device_mobile             0.488119\n",
       "device_desktop            0.442876\n",
       "device_tablet             0.326867\n",
       "device_Unknown            0.045552\n",
       "married                   0.489508\n",
       "single                    0.450417\n",
       "age_group_encoded         1.106880\n",
       "month_joined              3.428374\n",
       "dtype: float64"
      ]
     },
     "execution_count": 86,
     "metadata": {},
     "output_type": "execute_result"
    }
   ],
   "source": [
    "user_data_encoded.std()"
   ]
  },
  {
   "cell_type": "code",
   "execution_count": 87,
   "id": "13b1626f-e50e-49ec-9383-af480640da91",
   "metadata": {},
   "outputs": [
    {
     "name": "stdout",
     "output_type": "stream",
     "text": [
      "Features with low standard deviation: ['job_Unknown', 'device_Unknown']\n"
     ]
    }
   ],
   "source": [
    "# Define standard deviation threshold.\n",
    "\n",
    "threshold = 0.1\n",
    "\n",
    "# Identify features below threshold.\n",
    "\n",
    "cols_to_drop = \\\n",
    "list(user_data_encoded.std()[user_data_encoded.std() \\\n",
    "                              < threshold].index.values)\n",
    "\n",
    "print('Features with low standard deviation:',\n",
    "      cols_to_drop)"
   ]
  },
  {
   "cell_type": "code",
   "execution_count": 88,
   "id": "180793e6-55c4-45b4-b7b6-5dd0aa622606",
   "metadata": {},
   "outputs": [
    {
     "data": {
      "text/plain": [
       "['user_id',\n",
       " 'number_transactions',\n",
       " 'total_amount_usd',\n",
       " 'job_management',\n",
       " 'job_technician',\n",
       " 'job_entrepreneur',\n",
       " 'job_blue-collar',\n",
       " 'job_retired',\n",
       " 'job_admin.',\n",
       " 'job_services',\n",
       " 'job_self-employed',\n",
       " 'job_unemployed',\n",
       " 'job_housemaid',\n",
       " 'job_student',\n",
       " 'education_tertiary',\n",
       " 'education_secondary',\n",
       " 'education_Unknown',\n",
       " 'education_primary',\n",
       " 'default',\n",
       " 'housing',\n",
       " 'loan',\n",
       " 'contact_Unknown',\n",
       " 'contact_cellular',\n",
       " 'contact_telephone',\n",
       " 'duration',\n",
       " 'campaign',\n",
       " 'pdays',\n",
       " 'previous',\n",
       " 'term_deposit',\n",
       " 'device_mobile',\n",
       " 'device_desktop',\n",
       " 'device_tablet',\n",
       " 'married',\n",
       " 'single',\n",
       " 'age_group_encoded',\n",
       " 'month_joined']"
      ]
     },
     "execution_count": 88,
     "metadata": {},
     "output_type": "execute_result"
    }
   ],
   "source": [
    "# Drop features below threshold.\n",
    "\n",
    "user_data_interim = user_data_encoded.drop(cols_to_drop,\n",
    "                                             axis = 1)\n",
    "\n",
    "list(user_data_interim)"
   ]
  },
  {
   "cell_type": "markdown",
   "id": "aca5fca7-2a07-4fa8-9e17-0e859f2654da",
   "metadata": {},
   "source": [
    "## Drop highly correlated features"
   ]
  },
  {
   "cell_type": "code",
   "execution_count": 89,
   "id": "adf48e28-de66-4583-95ac-f7b1a12c437b",
   "metadata": {},
   "outputs": [
    {
     "data": {
      "text/plain": [
       "[('contact_Unknown', 'contact_cellular', 0.86),\n",
       " ('device_mobile', 'device_desktop', 0.75),\n",
       " ('married', 'single', 0.77)]"
      ]
     },
     "execution_count": 89,
     "metadata": {},
     "output_type": "execute_result"
    }
   ],
   "source": [
    "# Define correlation threshold.\n",
    "\n",
    "threshold = 0.75\n",
    "\n",
    "corr_matrix = user_data_encoded.corr().abs()\n",
    "high_corr_var = np.where(corr_matrix >= threshold)\n",
    "high_corr_var = [(corr_matrix.index[x],\n",
    "                  corr_matrix.columns[y],\n",
    "                  round(corr_matrix.iloc[x, y], 2))\n",
    "                  for x, y in zip(*high_corr_var)\n",
    "                  if x != y and x < y]\n",
    "\n",
    "\n",
    "high_corr_var"
   ]
  },
  {
   "cell_type": "code",
   "execution_count": 90,
   "id": "37d95ab1-c99b-4b1e-93c4-17430e083f55",
   "metadata": {},
   "outputs": [
    {
     "data": {
      "text/html": [
       "<div>\n",
       "<style scoped>\n",
       "    .dataframe tbody tr th:only-of-type {\n",
       "        vertical-align: middle;\n",
       "    }\n",
       "\n",
       "    .dataframe tbody tr th {\n",
       "        vertical-align: top;\n",
       "    }\n",
       "\n",
       "    .dataframe thead th {\n",
       "        text-align: right;\n",
       "    }\n",
       "</style>\n",
       "<table border=\"1\" class=\"dataframe\">\n",
       "  <thead>\n",
       "    <tr style=\"text-align: right;\">\n",
       "      <th></th>\n",
       "      <th>drop_feature</th>\n",
       "      <th>corr_feature</th>\n",
       "      <th>corr_values</th>\n",
       "    </tr>\n",
       "  </thead>\n",
       "  <tbody>\n",
       "    <tr>\n",
       "      <th>0</th>\n",
       "      <td>contact_Unknown</td>\n",
       "      <td>contact_cellular</td>\n",
       "      <td>0.86</td>\n",
       "    </tr>\n",
       "    <tr>\n",
       "      <th>1</th>\n",
       "      <td>married</td>\n",
       "      <td>single</td>\n",
       "      <td>0.77</td>\n",
       "    </tr>\n",
       "    <tr>\n",
       "      <th>2</th>\n",
       "      <td>device_mobile</td>\n",
       "      <td>device_desktop</td>\n",
       "      <td>0.75</td>\n",
       "    </tr>\n",
       "  </tbody>\n",
       "</table>\n",
       "</div>"
      ],
      "text/plain": [
       "      drop_feature      corr_feature  corr_values\n",
       "0  contact_Unknown  contact_cellular         0.86\n",
       "1          married            single         0.77\n",
       "2    device_mobile    device_desktop         0.75"
      ]
     },
     "execution_count": 90,
     "metadata": {},
     "output_type": "execute_result"
    }
   ],
   "source": [
    "# Tidy up the output.\n",
    "\n",
    "record_collinear = pd.DataFrame(high_corr_var). \\\n",
    "rename(columns = {0: 'drop_feature',\n",
    "                  1: 'corr_feature',\n",
    "                  2: 'corr_values'})\n",
    "\n",
    "record_collinear = record_collinear. \\\n",
    "sort_values(by = 'corr_values', ascending = False)\n",
    "\n",
    "record_collinear = record_collinear.reset_index(drop = True)\n",
    "\n",
    "record_collinear "
   ]
  },
  {
   "cell_type": "code",
   "execution_count": 91,
   "id": "b60f7c85-7353-4b74-ab1f-179520f04a07",
   "metadata": {},
   "outputs": [
    {
     "name": "stdout",
     "output_type": "stream",
     "text": [
      "['contact_Unknown', 'married', 'device_mobile']\n"
     ]
    }
   ],
   "source": [
    "cols_to_drop = list(record_collinear['drop_feature'])\n",
    "print(cols_to_drop)"
   ]
  },
  {
   "cell_type": "code",
   "execution_count": 92,
   "id": "d7488523-53a1-403c-bb16-e8a4872635c5",
   "metadata": {},
   "outputs": [
    {
     "data": {
      "text/plain": [
       "['user_id',\n",
       " 'number_transactions',\n",
       " 'total_amount_usd',\n",
       " 'job_management',\n",
       " 'job_technician',\n",
       " 'job_entrepreneur',\n",
       " 'job_blue-collar',\n",
       " 'job_retired',\n",
       " 'job_admin.',\n",
       " 'job_services',\n",
       " 'job_self-employed',\n",
       " 'job_unemployed',\n",
       " 'job_housemaid',\n",
       " 'job_student',\n",
       " 'education_tertiary',\n",
       " 'education_secondary',\n",
       " 'education_Unknown',\n",
       " 'education_primary',\n",
       " 'default',\n",
       " 'housing',\n",
       " 'loan',\n",
       " 'contact_cellular',\n",
       " 'contact_telephone',\n",
       " 'duration',\n",
       " 'campaign',\n",
       " 'pdays',\n",
       " 'previous',\n",
       " 'term_deposit',\n",
       " 'device_desktop',\n",
       " 'device_tablet',\n",
       " 'single',\n",
       " 'age_group_encoded',\n",
       " 'month_joined']"
      ]
     },
     "execution_count": 92,
     "metadata": {},
     "output_type": "execute_result"
    }
   ],
   "source": [
    "user_data_final = user_data_interim.drop(cols_to_drop,\n",
    "                                           axis = 1)\n",
    "\n",
    "list(user_data_final)"
   ]
  },
  {
   "cell_type": "markdown",
   "id": "f792a2e2-8893-4c85-ad9e-31d032a0908b",
   "metadata": {},
   "source": [
    "## Filter by demographics data"
   ]
  },
  {
   "cell_type": "code",
   "execution_count": 93,
   "id": "47e803f7-a858-4d52-8273-71996c9f7b95",
   "metadata": {},
   "outputs": [
    {
     "data": {
      "text/html": [
       "<div>\n",
       "<style scoped>\n",
       "    .dataframe tbody tr th:only-of-type {\n",
       "        vertical-align: middle;\n",
       "    }\n",
       "\n",
       "    .dataframe tbody tr th {\n",
       "        vertical-align: top;\n",
       "    }\n",
       "\n",
       "    .dataframe thead th {\n",
       "        text-align: right;\n",
       "    }\n",
       "</style>\n",
       "<table border=\"1\" class=\"dataframe\">\n",
       "  <thead>\n",
       "    <tr style=\"text-align: right;\">\n",
       "      <th></th>\n",
       "      <th>job_management</th>\n",
       "      <th>job_technician</th>\n",
       "      <th>job_entrepreneur</th>\n",
       "      <th>job_blue-collar</th>\n",
       "      <th>job_retired</th>\n",
       "      <th>job_admin.</th>\n",
       "      <th>job_services</th>\n",
       "      <th>job_self-employed</th>\n",
       "      <th>job_unemployed</th>\n",
       "      <th>job_housemaid</th>\n",
       "      <th>job_student</th>\n",
       "      <th>education_tertiary</th>\n",
       "      <th>education_secondary</th>\n",
       "      <th>education_Unknown</th>\n",
       "      <th>education_primary</th>\n",
       "      <th>single</th>\n",
       "      <th>age_group_encoded</th>\n",
       "    </tr>\n",
       "  </thead>\n",
       "  <tbody>\n",
       "    <tr>\n",
       "      <th>0</th>\n",
       "      <td>1</td>\n",
       "      <td>0</td>\n",
       "      <td>0</td>\n",
       "      <td>0</td>\n",
       "      <td>0</td>\n",
       "      <td>0</td>\n",
       "      <td>0</td>\n",
       "      <td>0</td>\n",
       "      <td>0</td>\n",
       "      <td>0</td>\n",
       "      <td>0</td>\n",
       "      <td>1</td>\n",
       "      <td>0</td>\n",
       "      <td>0</td>\n",
       "      <td>0</td>\n",
       "      <td>0</td>\n",
       "      <td>4</td>\n",
       "    </tr>\n",
       "    <tr>\n",
       "      <th>1</th>\n",
       "      <td>0</td>\n",
       "      <td>1</td>\n",
       "      <td>0</td>\n",
       "      <td>0</td>\n",
       "      <td>0</td>\n",
       "      <td>0</td>\n",
       "      <td>0</td>\n",
       "      <td>0</td>\n",
       "      <td>0</td>\n",
       "      <td>0</td>\n",
       "      <td>0</td>\n",
       "      <td>0</td>\n",
       "      <td>1</td>\n",
       "      <td>0</td>\n",
       "      <td>0</td>\n",
       "      <td>1</td>\n",
       "      <td>2</td>\n",
       "    </tr>\n",
       "    <tr>\n",
       "      <th>2</th>\n",
       "      <td>0</td>\n",
       "      <td>0</td>\n",
       "      <td>1</td>\n",
       "      <td>0</td>\n",
       "      <td>0</td>\n",
       "      <td>0</td>\n",
       "      <td>0</td>\n",
       "      <td>0</td>\n",
       "      <td>0</td>\n",
       "      <td>0</td>\n",
       "      <td>0</td>\n",
       "      <td>0</td>\n",
       "      <td>1</td>\n",
       "      <td>0</td>\n",
       "      <td>0</td>\n",
       "      <td>0</td>\n",
       "      <td>1</td>\n",
       "    </tr>\n",
       "  </tbody>\n",
       "</table>\n",
       "</div>"
      ],
      "text/plain": [
       "   job_management  job_technician  job_entrepreneur  job_blue-collar  \\\n",
       "0               1               0                 0                0   \n",
       "1               0               1                 0                0   \n",
       "2               0               0                 1                0   \n",
       "\n",
       "   job_retired  job_admin.  job_services  job_self-employed  job_unemployed  \\\n",
       "0            0           0             0                  0               0   \n",
       "1            0           0             0                  0               0   \n",
       "2            0           0             0                  0               0   \n",
       "\n",
       "   job_housemaid  job_student  education_tertiary  education_secondary  \\\n",
       "0              0            0                   1                    0   \n",
       "1              0            0                   0                    1   \n",
       "2              0            0                   0                    1   \n",
       "\n",
       "   education_Unknown  education_primary  single  age_group_encoded  \n",
       "0                  0                  0       0                  4  \n",
       "1                  0                  0       1                  2  \n",
       "2                  0                  0       0                  1  "
      ]
     },
     "execution_count": 93,
     "metadata": {},
     "output_type": "execute_result"
    }
   ],
   "source": [
    "user_data_demographics = \\\n",
    "user_data_final.filter(regex = 'education|job|age|single')\n",
    "\n",
    "user_data_demographics.head(n = 3)"
   ]
  },
  {
   "cell_type": "markdown",
   "id": "d96885f0-456a-49f7-92e3-7e36d0952edd",
   "metadata": {},
   "source": [
    "## Standardize the demographics data"
   ]
  },
  {
   "cell_type": "code",
   "execution_count": 95,
   "id": "ba4ff03c-91af-41a5-bd46-c8e97cebc92d",
   "metadata": {},
   "outputs": [
    {
     "data": {
      "text/html": [
       "<div>\n",
       "<style scoped>\n",
       "    .dataframe tbody tr th:only-of-type {\n",
       "        vertical-align: middle;\n",
       "    }\n",
       "\n",
       "    .dataframe tbody tr th {\n",
       "        vertical-align: top;\n",
       "    }\n",
       "\n",
       "    .dataframe thead th {\n",
       "        text-align: right;\n",
       "    }\n",
       "</style>\n",
       "<table border=\"1\" class=\"dataframe\">\n",
       "  <thead>\n",
       "    <tr style=\"text-align: right;\">\n",
       "      <th></th>\n",
       "      <th>job_management</th>\n",
       "      <th>job_technician</th>\n",
       "      <th>job_entrepreneur</th>\n",
       "      <th>job_blue-collar</th>\n",
       "      <th>job_retired</th>\n",
       "      <th>job_admin.</th>\n",
       "      <th>job_services</th>\n",
       "      <th>job_self-employed</th>\n",
       "      <th>job_unemployed</th>\n",
       "      <th>job_housemaid</th>\n",
       "      <th>job_student</th>\n",
       "      <th>education_tertiary</th>\n",
       "      <th>education_secondary</th>\n",
       "      <th>education_Unknown</th>\n",
       "      <th>education_primary</th>\n",
       "      <th>single</th>\n",
       "      <th>age_group_encoded</th>\n",
       "    </tr>\n",
       "  </thead>\n",
       "  <tbody>\n",
       "    <tr>\n",
       "      <th>count</th>\n",
       "      <td>45209.000000</td>\n",
       "      <td>45209.000000</td>\n",
       "      <td>45209.000000</td>\n",
       "      <td>45209.000000</td>\n",
       "      <td>45209.000000</td>\n",
       "      <td>45209.000000</td>\n",
       "      <td>45209.000000</td>\n",
       "      <td>45209.000000</td>\n",
       "      <td>45209.000000</td>\n",
       "      <td>45209.000000</td>\n",
       "      <td>45209.000000</td>\n",
       "      <td>45209.000000</td>\n",
       "      <td>45209.000000</td>\n",
       "      <td>45209.000000</td>\n",
       "      <td>45209.000000</td>\n",
       "      <td>45209.000000</td>\n",
       "      <td>45209.000000</td>\n",
       "    </tr>\n",
       "    <tr>\n",
       "      <th>mean</th>\n",
       "      <td>0.209184</td>\n",
       "      <td>0.168042</td>\n",
       "      <td>0.032892</td>\n",
       "      <td>0.215245</td>\n",
       "      <td>0.050079</td>\n",
       "      <td>0.114380</td>\n",
       "      <td>0.091884</td>\n",
       "      <td>0.034927</td>\n",
       "      <td>0.028822</td>\n",
       "      <td>0.027428</td>\n",
       "      <td>0.020748</td>\n",
       "      <td>0.294189</td>\n",
       "      <td>0.513216</td>\n",
       "      <td>0.041076</td>\n",
       "      <td>0.151519</td>\n",
       "      <td>0.282908</td>\n",
       "      <td>2.147227</td>\n",
       "    </tr>\n",
       "    <tr>\n",
       "      <th>std</th>\n",
       "      <td>0.406731</td>\n",
       "      <td>0.373908</td>\n",
       "      <td>0.178355</td>\n",
       "      <td>0.410997</td>\n",
       "      <td>0.218109</td>\n",
       "      <td>0.318276</td>\n",
       "      <td>0.288866</td>\n",
       "      <td>0.183596</td>\n",
       "      <td>0.167307</td>\n",
       "      <td>0.163329</td>\n",
       "      <td>0.142541</td>\n",
       "      <td>0.455682</td>\n",
       "      <td>0.499831</td>\n",
       "      <td>0.198468</td>\n",
       "      <td>0.358558</td>\n",
       "      <td>0.450417</td>\n",
       "      <td>1.106880</td>\n",
       "    </tr>\n",
       "    <tr>\n",
       "      <th>min</th>\n",
       "      <td>0.000000</td>\n",
       "      <td>0.000000</td>\n",
       "      <td>0.000000</td>\n",
       "      <td>0.000000</td>\n",
       "      <td>0.000000</td>\n",
       "      <td>0.000000</td>\n",
       "      <td>0.000000</td>\n",
       "      <td>0.000000</td>\n",
       "      <td>0.000000</td>\n",
       "      <td>0.000000</td>\n",
       "      <td>0.000000</td>\n",
       "      <td>0.000000</td>\n",
       "      <td>0.000000</td>\n",
       "      <td>0.000000</td>\n",
       "      <td>0.000000</td>\n",
       "      <td>0.000000</td>\n",
       "      <td>0.000000</td>\n",
       "    </tr>\n",
       "    <tr>\n",
       "      <th>25%</th>\n",
       "      <td>0.000000</td>\n",
       "      <td>0.000000</td>\n",
       "      <td>0.000000</td>\n",
       "      <td>0.000000</td>\n",
       "      <td>0.000000</td>\n",
       "      <td>0.000000</td>\n",
       "      <td>0.000000</td>\n",
       "      <td>0.000000</td>\n",
       "      <td>0.000000</td>\n",
       "      <td>0.000000</td>\n",
       "      <td>0.000000</td>\n",
       "      <td>0.000000</td>\n",
       "      <td>0.000000</td>\n",
       "      <td>0.000000</td>\n",
       "      <td>0.000000</td>\n",
       "      <td>0.000000</td>\n",
       "      <td>1.000000</td>\n",
       "    </tr>\n",
       "    <tr>\n",
       "      <th>50%</th>\n",
       "      <td>0.000000</td>\n",
       "      <td>0.000000</td>\n",
       "      <td>0.000000</td>\n",
       "      <td>0.000000</td>\n",
       "      <td>0.000000</td>\n",
       "      <td>0.000000</td>\n",
       "      <td>0.000000</td>\n",
       "      <td>0.000000</td>\n",
       "      <td>0.000000</td>\n",
       "      <td>0.000000</td>\n",
       "      <td>0.000000</td>\n",
       "      <td>0.000000</td>\n",
       "      <td>1.000000</td>\n",
       "      <td>0.000000</td>\n",
       "      <td>0.000000</td>\n",
       "      <td>0.000000</td>\n",
       "      <td>2.000000</td>\n",
       "    </tr>\n",
       "    <tr>\n",
       "      <th>75%</th>\n",
       "      <td>0.000000</td>\n",
       "      <td>0.000000</td>\n",
       "      <td>0.000000</td>\n",
       "      <td>0.000000</td>\n",
       "      <td>0.000000</td>\n",
       "      <td>0.000000</td>\n",
       "      <td>0.000000</td>\n",
       "      <td>0.000000</td>\n",
       "      <td>0.000000</td>\n",
       "      <td>0.000000</td>\n",
       "      <td>0.000000</td>\n",
       "      <td>1.000000</td>\n",
       "      <td>1.000000</td>\n",
       "      <td>0.000000</td>\n",
       "      <td>0.000000</td>\n",
       "      <td>1.000000</td>\n",
       "      <td>3.000000</td>\n",
       "    </tr>\n",
       "    <tr>\n",
       "      <th>max</th>\n",
       "      <td>1.000000</td>\n",
       "      <td>1.000000</td>\n",
       "      <td>1.000000</td>\n",
       "      <td>1.000000</td>\n",
       "      <td>1.000000</td>\n",
       "      <td>1.000000</td>\n",
       "      <td>1.000000</td>\n",
       "      <td>1.000000</td>\n",
       "      <td>1.000000</td>\n",
       "      <td>1.000000</td>\n",
       "      <td>1.000000</td>\n",
       "      <td>1.000000</td>\n",
       "      <td>1.000000</td>\n",
       "      <td>1.000000</td>\n",
       "      <td>1.000000</td>\n",
       "      <td>1.000000</td>\n",
       "      <td>6.000000</td>\n",
       "    </tr>\n",
       "  </tbody>\n",
       "</table>\n",
       "</div>"
      ],
      "text/plain": [
       "       job_management  job_technician  job_entrepreneur  job_blue-collar  \\\n",
       "count    45209.000000    45209.000000      45209.000000     45209.000000   \n",
       "mean         0.209184        0.168042          0.032892         0.215245   \n",
       "std          0.406731        0.373908          0.178355         0.410997   \n",
       "min          0.000000        0.000000          0.000000         0.000000   \n",
       "25%          0.000000        0.000000          0.000000         0.000000   \n",
       "50%          0.000000        0.000000          0.000000         0.000000   \n",
       "75%          0.000000        0.000000          0.000000         0.000000   \n",
       "max          1.000000        1.000000          1.000000         1.000000   \n",
       "\n",
       "        job_retired    job_admin.  job_services  job_self-employed  \\\n",
       "count  45209.000000  45209.000000  45209.000000       45209.000000   \n",
       "mean       0.050079      0.114380      0.091884           0.034927   \n",
       "std        0.218109      0.318276      0.288866           0.183596   \n",
       "min        0.000000      0.000000      0.000000           0.000000   \n",
       "25%        0.000000      0.000000      0.000000           0.000000   \n",
       "50%        0.000000      0.000000      0.000000           0.000000   \n",
       "75%        0.000000      0.000000      0.000000           0.000000   \n",
       "max        1.000000      1.000000      1.000000           1.000000   \n",
       "\n",
       "       job_unemployed  job_housemaid   job_student  education_tertiary  \\\n",
       "count    45209.000000   45209.000000  45209.000000        45209.000000   \n",
       "mean         0.028822       0.027428      0.020748            0.294189   \n",
       "std          0.167307       0.163329      0.142541            0.455682   \n",
       "min          0.000000       0.000000      0.000000            0.000000   \n",
       "25%          0.000000       0.000000      0.000000            0.000000   \n",
       "50%          0.000000       0.000000      0.000000            0.000000   \n",
       "75%          0.000000       0.000000      0.000000            1.000000   \n",
       "max          1.000000       1.000000      1.000000            1.000000   \n",
       "\n",
       "       education_secondary  education_Unknown  education_primary  \\\n",
       "count         45209.000000       45209.000000       45209.000000   \n",
       "mean              0.513216           0.041076           0.151519   \n",
       "std               0.499831           0.198468           0.358558   \n",
       "min               0.000000           0.000000           0.000000   \n",
       "25%               0.000000           0.000000           0.000000   \n",
       "50%               1.000000           0.000000           0.000000   \n",
       "75%               1.000000           0.000000           0.000000   \n",
       "max               1.000000           1.000000           1.000000   \n",
       "\n",
       "             single  age_group_encoded  \n",
       "count  45209.000000       45209.000000  \n",
       "mean       0.282908           2.147227  \n",
       "std        0.450417           1.106880  \n",
       "min        0.000000           0.000000  \n",
       "25%        0.000000           1.000000  \n",
       "50%        0.000000           2.000000  \n",
       "75%        1.000000           3.000000  \n",
       "max        1.000000           6.000000  "
      ]
     },
     "execution_count": 95,
     "metadata": {},
     "output_type": "execute_result"
    }
   ],
   "source": [
    "user_data_demographics.describe()"
   ]
  },
  {
   "cell_type": "code",
   "execution_count": 96,
   "id": "58c1790c-ba06-4237-b532-65c14fc0bc49",
   "metadata": {},
   "outputs": [
    {
     "name": "stdout",
     "output_type": "stream",
     "text": [
      "New standard deviation:  1.0\n",
      "New mean:                0\n"
     ]
    }
   ],
   "source": [
    "scaler = StandardScaler()\n",
    "        \n",
    "scaler.fit(user_data_demographics)\n",
    "user_data_scaled = scaler.transform(user_data_demographics)\n",
    "\n",
    "print('New standard deviation: ', user_data_scaled.std())\n",
    "print('New mean:               ', round(user_data_scaled.mean()))"
   ]
  },
  {
   "cell_type": "markdown",
   "id": "1adf9dcf-1c1d-47c8-949b-b8cf47650afd",
   "metadata": {},
   "source": [
    "## Perform PCA to reduce the dimensionality of the demographics dataset"
   ]
  },
  {
   "cell_type": "code",
   "execution_count": 97,
   "id": "3d91dd43-b042-40a7-88a9-0ba9a75333de",
   "metadata": {},
   "outputs": [],
   "source": [
    "pca = PCA(n_components = 2, random_state = 1)\n",
    "\n",
    "pca.fit(user_data_scaled)\n",
    "\n",
    "reduced = pca.transform(user_data_scaled)"
   ]
  },
  {
   "cell_type": "code",
   "execution_count": 98,
   "id": "d949eb94-b895-4e08-93e1-337df306cf6a",
   "metadata": {},
   "outputs": [
    {
     "data": {
      "text/html": [
       "<div>\n",
       "<style scoped>\n",
       "    .dataframe tbody tr th:only-of-type {\n",
       "        vertical-align: middle;\n",
       "    }\n",
       "\n",
       "    .dataframe tbody tr th {\n",
       "        vertical-align: top;\n",
       "    }\n",
       "\n",
       "    .dataframe thead th {\n",
       "        text-align: right;\n",
       "    }\n",
       "</style>\n",
       "<table border=\"1\" class=\"dataframe\">\n",
       "  <thead>\n",
       "    <tr style=\"text-align: right;\">\n",
       "      <th></th>\n",
       "      <th>PCA1</th>\n",
       "      <th>PCA2</th>\n",
       "    </tr>\n",
       "  </thead>\n",
       "  <tbody>\n",
       "    <tr>\n",
       "      <th>0</th>\n",
       "      <td>2.558399</td>\n",
       "      <td>1.078420</td>\n",
       "    </tr>\n",
       "    <tr>\n",
       "      <th>1</th>\n",
       "      <td>-0.821599</td>\n",
       "      <td>-1.749748</td>\n",
       "    </tr>\n",
       "    <tr>\n",
       "      <th>2</th>\n",
       "      <td>-0.576800</td>\n",
       "      <td>-0.551069</td>\n",
       "    </tr>\n",
       "    <tr>\n",
       "      <th>3</th>\n",
       "      <td>-0.540260</td>\n",
       "      <td>1.592285</td>\n",
       "    </tr>\n",
       "    <tr>\n",
       "      <th>4</th>\n",
       "      <td>0.385494</td>\n",
       "      <td>-0.616517</td>\n",
       "    </tr>\n",
       "    <tr>\n",
       "      <th>...</th>\n",
       "      <td>...</td>\n",
       "      <td>...</td>\n",
       "    </tr>\n",
       "    <tr>\n",
       "      <th>45204</th>\n",
       "      <td>1.160728</td>\n",
       "      <td>0.073598</td>\n",
       "    </tr>\n",
       "    <tr>\n",
       "      <th>45205</th>\n",
       "      <td>-0.657989</td>\n",
       "      <td>4.371487</td>\n",
       "    </tr>\n",
       "    <tr>\n",
       "      <th>45206</th>\n",
       "      <td>-1.326069</td>\n",
       "      <td>2.368755</td>\n",
       "    </tr>\n",
       "    <tr>\n",
       "      <th>45207</th>\n",
       "      <td>-1.574882</td>\n",
       "      <td>1.041223</td>\n",
       "    </tr>\n",
       "    <tr>\n",
       "      <th>45208</th>\n",
       "      <td>-0.632432</td>\n",
       "      <td>-0.134497</td>\n",
       "    </tr>\n",
       "  </tbody>\n",
       "</table>\n",
       "<p>45209 rows × 2 columns</p>\n",
       "</div>"
      ],
      "text/plain": [
       "           PCA1      PCA2\n",
       "0      2.558399  1.078420\n",
       "1     -0.821599 -1.749748\n",
       "2     -0.576800 -0.551069\n",
       "3     -0.540260  1.592285\n",
       "4      0.385494 -0.616517\n",
       "...         ...       ...\n",
       "45204  1.160728  0.073598\n",
       "45205 -0.657989  4.371487\n",
       "45206 -1.326069  2.368755\n",
       "45207 -1.574882  1.041223\n",
       "45208 -0.632432 -0.134497\n",
       "\n",
       "[45209 rows x 2 columns]"
      ]
     },
     "execution_count": 98,
     "metadata": {},
     "output_type": "execute_result"
    }
   ],
   "source": [
    "reduced_df = pd.DataFrame(reduced, columns = ['PCA1', 'PCA2'])\n",
    "\n",
    "reduced_df"
   ]
  },
  {
   "cell_type": "markdown",
   "id": "3026a99c-1b4c-4a9e-9190-23ff62e64eb5",
   "metadata": {},
   "source": [
    "## Load the final dataset"
   ]
  },
  {
   "cell_type": "code",
   "execution_count": 99,
   "id": "c800e998-3bd1-493f-96f6-c13bf041c872",
   "metadata": {},
   "outputs": [
    {
     "name": "stdout",
     "output_type": "stream",
     "text": [
      "<class 'pandas.core.frame.DataFrame'>\n",
      "Int64Index: 45209 entries, 0 to 45215\n",
      "Data columns (total 33 columns):\n",
      " #   Column               Non-Null Count  Dtype  \n",
      "---  ------               --------------  -----  \n",
      " 0   user_id              45209 non-null  object \n",
      " 1   number_transactions  45209 non-null  float64\n",
      " 2   total_amount_usd     45209 non-null  float64\n",
      " 3   job_management       45209 non-null  int64  \n",
      " 4   job_technician       45209 non-null  int64  \n",
      " 5   job_entrepreneur     45209 non-null  int64  \n",
      " 6   job_blue-collar      45209 non-null  int64  \n",
      " 7   job_retired          45209 non-null  int64  \n",
      " 8   job_admin.           45209 non-null  int64  \n",
      " 9   job_services         45209 non-null  int64  \n",
      " 10  job_self-employed    45209 non-null  int64  \n",
      " 11  job_unemployed       45209 non-null  int64  \n",
      " 12  job_housemaid        45209 non-null  int64  \n",
      " 13  job_student          45209 non-null  int64  \n",
      " 14  education_tertiary   45209 non-null  int64  \n",
      " 15  education_secondary  45209 non-null  int64  \n",
      " 16  education_Unknown    45209 non-null  int64  \n",
      " 17  education_primary    45209 non-null  int64  \n",
      " 18  default              45209 non-null  bool   \n",
      " 19  housing              45209 non-null  bool   \n",
      " 20  loan                 45209 non-null  bool   \n",
      " 21  contact_cellular     45209 non-null  int64  \n",
      " 22  contact_telephone    45209 non-null  int64  \n",
      " 23  duration             45209 non-null  int64  \n",
      " 24  campaign             45209 non-null  int64  \n",
      " 25  pdays                45209 non-null  int64  \n",
      " 26  previous             45209 non-null  int64  \n",
      " 27  term_deposit         45209 non-null  bool   \n",
      " 28  device_desktop       45209 non-null  int64  \n",
      " 29  device_tablet        45209 non-null  int64  \n",
      " 30  single               45209 non-null  uint8  \n",
      " 31  age_group_encoded    45209 non-null  int8   \n",
      " 32  month_joined         45179 non-null  float64\n",
      "dtypes: bool(4), float64(3), int64(23), int8(1), object(1), uint8(1)\n",
      "memory usage: 9.9+ MB\n"
     ]
    }
   ],
   "source": [
    "user_data_final.info()"
   ]
  },
  {
   "cell_type": "code",
   "execution_count": 104,
   "id": "e95acb79-015e-4780-948d-92767032febb",
   "metadata": {},
   "outputs": [],
   "source": [
    "user_data_final.to_pickle('c:/tugas_sdt/user_data_final.pickle')"
   ]
  },
  {
   "cell_type": "markdown",
   "id": "6a971160-0518-4911-ae6b-80a96a6ac8d0",
   "metadata": {},
   "source": [
    "## Load the demographics dataset with PCA applied"
   ]
  },
  {
   "cell_type": "code",
   "execution_count": 108,
   "id": "7f28d01d-454d-4e78-a4e2-bdc99415cad4",
   "metadata": {},
   "outputs": [],
   "source": [
    "reduced_df.to_pickle('c:/tugas_sdt/user_data_demo_pca.pickle')"
   ]
  }
 ],
 "metadata": {
  "kernelspec": {
   "display_name": "Python 3",
   "language": "python",
   "name": "python3"
  },
  "language_info": {
   "codemirror_mode": {
    "name": "ipython",
    "version": 3
   },
   "file_extension": ".py",
   "mimetype": "text/x-python",
   "name": "python",
   "nbconvert_exporter": "python",
   "pygments_lexer": "ipython3",
   "version": "3.8.9"
  }
 },
 "nbformat": 4,
 "nbformat_minor": 5
}
