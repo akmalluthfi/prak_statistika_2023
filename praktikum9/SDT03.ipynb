{
 "cells": [
  {
   "cell_type": "code",
   "execution_count": 1,
   "id": "f4fda470-99ac-4625-bf20-37a270d72fc0",
   "metadata": {},
   "outputs": [],
   "source": [
    "from pandas import read_csv\n",
    "from sklearn.model_selection import KFold, cross_val_score\n",
    "from sklearn.tree import DecisionTreeClassifier"
   ]
  },
  {
   "cell_type": "code",
   "execution_count": 6,
   "id": "5fd1ef01-5646-47a0-bf08-cdcc91b87640",
   "metadata": {},
   "outputs": [
    {
     "data": {
      "text/html": [
       "<div>\n",
       "<style scoped>\n",
       "    .dataframe tbody tr th:only-of-type {\n",
       "        vertical-align: middle;\n",
       "    }\n",
       "\n",
       "    .dataframe tbody tr th {\n",
       "        vertical-align: top;\n",
       "    }\n",
       "\n",
       "    .dataframe thead th {\n",
       "        text-align: right;\n",
       "    }\n",
       "</style>\n",
       "<table border=\"1\" class=\"dataframe\">\n",
       "  <thead>\n",
       "    <tr style=\"text-align: right;\">\n",
       "      <th></th>\n",
       "      <th>preg</th>\n",
       "      <th>plas</th>\n",
       "      <th>pres</th>\n",
       "      <th>skin</th>\n",
       "      <th>test</th>\n",
       "      <th>mass</th>\n",
       "      <th>pedi</th>\n",
       "      <th>age</th>\n",
       "      <th>class</th>\n",
       "    </tr>\n",
       "  </thead>\n",
       "  <tbody>\n",
       "    <tr>\n",
       "      <th>0</th>\n",
       "      <td>6</td>\n",
       "      <td>148</td>\n",
       "      <td>72</td>\n",
       "      <td>35</td>\n",
       "      <td>0</td>\n",
       "      <td>33.6</td>\n",
       "      <td>0.627</td>\n",
       "      <td>50</td>\n",
       "      <td>1</td>\n",
       "    </tr>\n",
       "    <tr>\n",
       "      <th>1</th>\n",
       "      <td>1</td>\n",
       "      <td>85</td>\n",
       "      <td>66</td>\n",
       "      <td>29</td>\n",
       "      <td>0</td>\n",
       "      <td>26.6</td>\n",
       "      <td>0.351</td>\n",
       "      <td>31</td>\n",
       "      <td>0</td>\n",
       "    </tr>\n",
       "    <tr>\n",
       "      <th>2</th>\n",
       "      <td>8</td>\n",
       "      <td>183</td>\n",
       "      <td>64</td>\n",
       "      <td>0</td>\n",
       "      <td>0</td>\n",
       "      <td>23.3</td>\n",
       "      <td>0.672</td>\n",
       "      <td>32</td>\n",
       "      <td>1</td>\n",
       "    </tr>\n",
       "    <tr>\n",
       "      <th>3</th>\n",
       "      <td>1</td>\n",
       "      <td>89</td>\n",
       "      <td>66</td>\n",
       "      <td>23</td>\n",
       "      <td>94</td>\n",
       "      <td>28.1</td>\n",
       "      <td>0.167</td>\n",
       "      <td>21</td>\n",
       "      <td>0</td>\n",
       "    </tr>\n",
       "    <tr>\n",
       "      <th>4</th>\n",
       "      <td>0</td>\n",
       "      <td>137</td>\n",
       "      <td>40</td>\n",
       "      <td>35</td>\n",
       "      <td>168</td>\n",
       "      <td>43.1</td>\n",
       "      <td>2.288</td>\n",
       "      <td>33</td>\n",
       "      <td>1</td>\n",
       "    </tr>\n",
       "  </tbody>\n",
       "</table>\n",
       "</div>"
      ],
      "text/plain": [
       "   preg  plas  pres  skin  test  mass   pedi  age  class\n",
       "0     6   148    72    35     0  33.6  0.627   50      1\n",
       "1     1    85    66    29     0  26.6  0.351   31      0\n",
       "2     8   183    64     0     0  23.3  0.672   32      1\n",
       "3     1    89    66    23    94  28.1  0.167   21      0\n",
       "4     0   137    40    35   168  43.1  2.288   33      1"
      ]
     },
     "execution_count": 6,
     "metadata": {},
     "output_type": "execute_result"
    }
   ],
   "source": [
    "#Memanggil dataset\n",
    "filename ='c:/tugas_sdt/pima-indians-diabetes.data.csv'\n",
    "names=['preg','plas','pres','skin','test','mass','pedi','age','class']\n",
    "dataframe=read_csv(filename,names=names)\n",
    "dataframe.head()"
   ]
  },
  {
   "cell_type": "code",
   "execution_count": 7,
   "id": "479905ad-35f3-4aa2-a903-3415e58333bb",
   "metadata": {},
   "outputs": [],
   "source": [
    "#Insert data ke dalam array\n",
    "array =dataframe.values\n",
    "X = array[:,0:8] #slicing dataframe ke dalam array\n",
    "Y = array[:,8]"
   ]
  },
  {
   "cell_type": "code",
   "execution_count": 8,
   "id": "36172c92-5463-47be-9670-11a4bd290f00",
   "metadata": {},
   "outputs": [],
   "source": [
    "#Validasi\n",
    "kfold = KFold(n_splits = 10,random_state = 7,shuffle =True)\n",
    "model = DecisionTreeClassifier()"
   ]
  },
  {
   "cell_type": "code",
   "execution_count": 9,
   "id": "596f9e17-5a29-4a2d-8ee3-8887e3f14e4c",
   "metadata": {},
   "outputs": [
    {
     "name": "stdout",
     "output_type": "stream",
     "text": [
      "0.6889439507860561\n"
     ]
    }
   ],
   "source": [
    "result = cross_val_score(model,X,Y,cv = kfold)\n",
    "print(result.mean())"
   ]
  },
  {
   "cell_type": "markdown",
   "id": "8b7ce91e-3c21-440d-955a-25d81f3cb796",
   "metadata": {},
   "source": [
    "# Menghitung data prediksi"
   ]
  },
  {
   "cell_type": "code",
   "execution_count": 10,
   "id": "bc93e6fb-8de1-4b4d-a376-da4aea509e46",
   "metadata": {},
   "outputs": [
    {
     "name": "stdout",
     "output_type": "stream",
     "text": [
      "Hasil prediksi: [1. 0.]\n"
     ]
    }
   ],
   "source": [
    "data=[[8,183,64,0,0,23.3,0.672,32],\n",
    "      [1,89,66,23,94,28.1,0.167,21]]\n",
    "model.fit(X,Y)\n",
    "y_pred = model.predict(data)\n",
    "#0 berarti diprediksi diabetes, 1 diprediksi sebagai tidak diabetes\n",
    "print('Hasil prediksi:',y_pred)"
   ]
  },
  {
   "cell_type": "markdown",
   "id": "88fb2b3d-0f8e-41d7-97d9-e717113c0fac",
   "metadata": {},
   "source": [
    "# Menampilkan skor akurasi"
   ]
  },
  {
   "cell_type": "code",
   "execution_count": 11,
   "id": "c211764f-3c67-4b64-857e-c5f8c4fd8a6a",
   "metadata": {},
   "outputs": [
    {
     "name": "stdout",
     "output_type": "stream",
     "text": [
      "Accuracy score: 1.00\n"
     ]
    }
   ],
   "source": [
    "#Melihat skor akurasi\n",
    "from sklearn.metrics import accuracy_score\n",
    "print('Accuracy score: %0.2f'% accuracy_score(Y,model.predict(X)))"
   ]
  },
  {
   "cell_type": "markdown",
   "id": "e67f32d5-42d3-4a2d-ab31-4c73fc299b3b",
   "metadata": {},
   "source": [
    "# Report"
   ]
  },
  {
   "cell_type": "code",
   "execution_count": 12,
   "id": "efb749f1-eed9-44bc-9f54-506249fb2471",
   "metadata": {},
   "outputs": [
    {
     "name": "stdout",
     "output_type": "stream",
     "text": [
      "              precision    recall  f1-score   support\n",
      "\n",
      "         0.0       1.00      1.00      1.00       500\n",
      "         1.0       1.00      1.00      1.00       268\n",
      "\n",
      "    accuracy                           1.00       768\n",
      "   macro avg       1.00      1.00      1.00       768\n",
      "weighted avg       1.00      1.00      1.00       768\n",
      "\n"
     ]
    }
   ],
   "source": [
    "from sklearn.metrics import classification_report\n",
    "print(classification_report(Y,model.predict(X)))"
   ]
  },
  {
   "cell_type": "code",
   "execution_count": 13,
   "id": "56214b50-4b67-45da-85f3-9933ddeccdf9",
   "metadata": {},
   "outputs": [
    {
     "name": "stdout",
     "output_type": "stream",
     "text": [
      "[[500   0]\n",
      " [  0 268]]\n"
     ]
    }
   ],
   "source": [
    "from sklearn.metrics import confusion_matrix\n",
    "predicted = model.predict(X)\n",
    "matrix = confusion_matrix(Y,predicted)\n",
    "print(matrix)"
   ]
  },
  {
   "cell_type": "markdown",
   "id": "ca18e0b3-fe20-464e-93f1-5279a4a65a01",
   "metadata": {},
   "source": [
    "# Using Split Validation and Report Classification"
   ]
  },
  {
   "cell_type": "code",
   "execution_count": 14,
   "id": "7dd99227-7c6a-4d7a-a419-b0af631ff4be",
   "metadata": {},
   "outputs": [
    {
     "name": "stdout",
     "output_type": "stream",
     "text": [
      "              precision    recall  f1-score   support\n",
      "\n",
      "         0.0       0.78      0.84      0.81       122\n",
      "         1.0       0.68      0.60      0.64        70\n",
      "\n",
      "    accuracy                           0.75       192\n",
      "   macro avg       0.73      0.72      0.72       192\n",
      "weighted avg       0.75      0.75      0.75       192\n",
      "\n"
     ]
    }
   ],
   "source": [
    "from sklearn.model_selection import train_test_split\n",
    "X_train,X_test,Y_train,Y_test = train_test_split(X,Y,test_size=0.25,random_state=7)\n",
    "model.fit(X_train,Y_train)\n",
    "predict=model.predict(X_test)\n",
    "report = classification_report(Y_test,predict)\n",
    "print(report)"
   ]
  },
  {
   "cell_type": "code",
   "execution_count": 15,
   "id": "026e46a0-3324-4b65-b350-ac113608ff3c",
   "metadata": {},
   "outputs": [
    {
     "name": "stdout",
     "output_type": "stream",
     "text": [
      "[[102  20]\n",
      " [ 28  42]]\n"
     ]
    }
   ],
   "source": [
    "predictedmatrix=model.predict(X_test)\n",
    "confmatrix=confusion_matrix(Y_test,predictedmatrix)\n",
    "print(confmatrix)"
   ]
  },
  {
   "cell_type": "code",
   "execution_count": 16,
   "id": "f30af5d1-46e8-40b8-a298-9aca5b93990d",
   "metadata": {},
   "outputs": [
    {
     "name": "stdout",
     "output_type": "stream",
     "text": [
      "Accuracy : 0.75\n"
     ]
    }
   ],
   "source": [
    "#Melihat skor akurasi\n",
    "print('Accuracy : %0.2f'% accuracy_score(Y_test,model.predict(X_test)))"
   ]
  },
  {
   "cell_type": "code",
   "execution_count": 17,
   "id": "a2297bba-8e11-4cc6-bae0-63a1b33bf3ad",
   "metadata": {},
   "outputs": [
    {
     "name": "stdout",
     "output_type": "stream",
     "text": [
      "{'name': 'John', 'age': 30, 'city': 'New York'}\n"
     ]
    }
   ],
   "source": [
    "import json\n",
    " \n",
    "# some JSON:\n",
    "x =  '{ \"name\":\"John\", \"age\":30, \"city\":\"New York\"}'\n",
    " \n",
    "# parse x:\n",
    "y = json.loads(x)\n",
    " \n",
    "# the result is a Python dictionary:\n",
    "print(y)"
   ]
  },
  {
   "cell_type": "code",
   "execution_count": 18,
   "id": "11bcaeac-970d-408d-a1d9-9cd86045bb0e",
   "metadata": {},
   "outputs": [
    {
     "name": "stdout",
     "output_type": "stream",
     "text": [
      "{\"name\": \"John\", \"age\": 30, \"city\": \"New York\"}\n"
     ]
    }
   ],
   "source": [
    "import json\n",
    " \n",
    "# a Python object (dict):\n",
    "x = {\n",
    "  \"name\": \"John\",\n",
    "  \"age\": 30,\n",
    "  \"city\": \"New York\"\n",
    "}\n",
    " \n",
    "# convert into JSON:\n",
    "y = json.dumps(x)\n",
    " \n",
    "# the result is a JSON string:\n",
    "print(y)"
   ]
  },
  {
   "cell_type": "code",
   "execution_count": 19,
   "id": "ef875856-8df7-4c9d-bb8d-991a0b95a4b1",
   "metadata": {},
   "outputs": [
    {
     "name": "stdout",
     "output_type": "stream",
     "text": [
      "             Name  Age       gab\n",
      "0       Tom Jerry   20     12Aku\n",
      "1  Joseph Markisa   21     13Dia\n",
      "2   Krish Dayanty   19    14Kamu\n",
      "3      John Lenon   18  15Mereka\n"
     ]
    }
   ],
   "source": [
    "import pandas as pd  \n",
    "  \n",
    "# assign data of lists.  \n",
    "data = {'Name': ['Tom Jerry', 'Joseph Markisa', 'Krish Dayanty', 'John Lenon'], 'Age': [20, 21, 19, 18],\n",
    "       'gab':['12Aku','13Dia','14Kamu','15Mereka']}  \n",
    "  \n",
    "# Create DataFrame  \n",
    "df = pd.DataFrame(data)  \n",
    "  \n",
    "# Print the output.  \n",
    "print(df)  "
   ]
  },
  {
   "cell_type": "code",
   "execution_count": 20,
   "id": "da5e3715-973c-4445-853c-784354334c0b",
   "metadata": {},
   "outputs": [
    {
     "data": {
      "text/html": [
       "<div>\n",
       "<style scoped>\n",
       "    .dataframe tbody tr th:only-of-type {\n",
       "        vertical-align: middle;\n",
       "    }\n",
       "\n",
       "    .dataframe tbody tr th {\n",
       "        vertical-align: top;\n",
       "    }\n",
       "\n",
       "    .dataframe thead th {\n",
       "        text-align: right;\n",
       "    }\n",
       "</style>\n",
       "<table border=\"1\" class=\"dataframe\">\n",
       "  <thead>\n",
       "    <tr style=\"text-align: right;\">\n",
       "      <th></th>\n",
       "      <th>Name</th>\n",
       "      <th>Age</th>\n",
       "      <th>gab</th>\n",
       "      <th>firstname</th>\n",
       "    </tr>\n",
       "  </thead>\n",
       "  <tbody>\n",
       "    <tr>\n",
       "      <th>0</th>\n",
       "      <td>Tom Jerry</td>\n",
       "      <td>20</td>\n",
       "      <td>12Aku</td>\n",
       "      <td>Tom</td>\n",
       "    </tr>\n",
       "    <tr>\n",
       "      <th>1</th>\n",
       "      <td>Joseph Markisa</td>\n",
       "      <td>21</td>\n",
       "      <td>13Dia</td>\n",
       "      <td>Joseph</td>\n",
       "    </tr>\n",
       "    <tr>\n",
       "      <th>2</th>\n",
       "      <td>Krish Dayanty</td>\n",
       "      <td>19</td>\n",
       "      <td>14Kamu</td>\n",
       "      <td>Krish</td>\n",
       "    </tr>\n",
       "    <tr>\n",
       "      <th>3</th>\n",
       "      <td>John Lenon</td>\n",
       "      <td>18</td>\n",
       "      <td>15Mereka</td>\n",
       "      <td>John</td>\n",
       "    </tr>\n",
       "  </tbody>\n",
       "</table>\n",
       "</div>"
      ],
      "text/plain": [
       "             Name  Age       gab firstname\n",
       "0       Tom Jerry   20     12Aku       Tom\n",
       "1  Joseph Markisa   21     13Dia    Joseph\n",
       "2   Krish Dayanty   19    14Kamu     Krish\n",
       "3      John Lenon   18  15Mereka      John"
      ]
     },
     "execution_count": 20,
     "metadata": {},
     "output_type": "execute_result"
    }
   ],
   "source": [
    "#df['firstname'] = df['Name'].split()\n",
    "#df\\ ['firstname'] = df\\['Name'].apply(lambda x: x.split()\\[0])\n",
    "#df ['firstname'] = df['Name'].apply(lambda x: x.split())\n",
    "df ['firstname'] = df['Name'].apply(lambda x: x.split()[0])\n",
    "df"
   ]
  },
  {
   "cell_type": "code",
   "execution_count": 21,
   "id": "a5622c46-9925-4cc7-8112-a060760ab8eb",
   "metadata": {},
   "outputs": [
    {
     "data": {
      "text/html": [
       "<div>\n",
       "<style scoped>\n",
       "    .dataframe tbody tr th:only-of-type {\n",
       "        vertical-align: middle;\n",
       "    }\n",
       "\n",
       "    .dataframe tbody tr th {\n",
       "        vertical-align: top;\n",
       "    }\n",
       "\n",
       "    .dataframe thead th {\n",
       "        text-align: right;\n",
       "    }\n",
       "</style>\n",
       "<table border=\"1\" class=\"dataframe\">\n",
       "  <thead>\n",
       "    <tr style=\"text-align: right;\">\n",
       "      <th></th>\n",
       "      <th>0</th>\n",
       "    </tr>\n",
       "  </thead>\n",
       "  <tbody>\n",
       "    <tr>\n",
       "      <th>0</th>\n",
       "      <td>12Aku</td>\n",
       "    </tr>\n",
       "    <tr>\n",
       "      <th>1</th>\n",
       "      <td>13Dia</td>\n",
       "    </tr>\n",
       "    <tr>\n",
       "      <th>2</th>\n",
       "      <td>14Kamu</td>\n",
       "    </tr>\n",
       "    <tr>\n",
       "      <th>3</th>\n",
       "      <td>15Mereka</td>\n",
       "    </tr>\n",
       "  </tbody>\n",
       "</table>\n",
       "</div>"
      ],
      "text/plain": [
       "          0\n",
       "0     12Aku\n",
       "1     13Dia\n",
       "2    14Kamu\n",
       "3  15Mereka"
      ]
     },
     "execution_count": 21,
     "metadata": {},
     "output_type": "execute_result"
    }
   ],
   "source": [
    "df['gab'].str.split('(d\\+) (\\[A-Za-z])+', expand=True)"
   ]
  },
  {
   "cell_type": "code",
   "execution_count": null,
   "id": "9f49dd49-2199-44b4-b436-035c38ffb88f",
   "metadata": {},
   "outputs": [],
   "source": []
  },
  {
   "cell_type": "code",
   "execution_count": null,
   "id": "f325394e-decf-40d5-adef-fa67dc7f5b7f",
   "metadata": {},
   "outputs": [],
   "source": []
  }
 ],
 "metadata": {
  "kernelspec": {
   "display_name": "Python 3",
   "language": "python",
   "name": "python3"
  },
  "language_info": {
   "codemirror_mode": {
    "name": "ipython",
    "version": 3
   },
   "file_extension": ".py",
   "mimetype": "text/x-python",
   "name": "python",
   "nbconvert_exporter": "python",
   "pygments_lexer": "ipython3",
   "version": "3.8.9"
  }
 },
 "nbformat": 4,
 "nbformat_minor": 5
}
